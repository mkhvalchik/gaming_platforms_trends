{
 "cells": [
  {
   "cell_type": "markdown",
   "metadata": {},
   "source": [
    "#  Gaming platforms trend for 2017\n",
    "\n",
    "### Goal\n",
    "To identify patterns of success in games in order to select potentially popular products and correctly plan advertising campaigns\n",
    "\n",
    "### Contents\n",
    "\n",
    "1. General information\n",
    "2. Data processing \n",
    "3. Exploratory data analysis\n",
    "4. User profiles for each region\n",
    "5. Hypothesis testing\n",
    "6. Conclusion and recommendations"
   ]
  },
  {
   "cell_type": "markdown",
   "metadata": {},
   "source": [
    "##  Общая информация"
   ]
  },
  {
   "cell_type": "code",
   "execution_count": 2,
   "metadata": {},
   "outputs": [
    {
     "name": "stdout",
     "output_type": "stream",
     "text": [
      "Defaulting to user installation because normal site-packages is not writeable\n",
      "Collecting seaborn\n",
      "  Downloading seaborn-0.11.2-py3-none-any.whl (292 kB)\n",
      "\u001b[K     |████████████████████████████████| 292 kB 1.1 MB/s eta 0:00:01\n",
      "\u001b[?25hRequirement already satisfied, skipping upgrade: numpy>=1.15 in /opt/conda/lib/python3.7/site-packages (from seaborn) (1.19.5)\n",
      "Requirement already satisfied, skipping upgrade: matplotlib>=2.2 in /opt/conda/lib/python3.7/site-packages (from seaborn) (3.1.0)\n",
      "Requirement already satisfied, skipping upgrade: pandas>=0.23 in /opt/conda/lib/python3.7/site-packages (from seaborn) (0.25.1)\n",
      "Requirement already satisfied, skipping upgrade: scipy>=1.0 in /opt/conda/lib/python3.7/site-packages (from seaborn) (1.4.1)\n",
      "Requirement already satisfied, skipping upgrade: kiwisolver>=1.0.1 in /opt/conda/lib/python3.7/site-packages (from matplotlib>=2.2->seaborn) (1.3.1)\n",
      "Requirement already satisfied, skipping upgrade: python-dateutil>=2.1 in /opt/conda/lib/python3.7/site-packages (from matplotlib>=2.2->seaborn) (2.8.1)\n",
      "Requirement already satisfied, skipping upgrade: pyparsing!=2.0.4,!=2.1.2,!=2.1.6,>=2.0.1 in /opt/conda/lib/python3.7/site-packages (from matplotlib>=2.2->seaborn) (2.4.7)\n",
      "Requirement already satisfied, skipping upgrade: cycler>=0.10 in /opt/conda/lib/python3.7/site-packages (from matplotlib>=2.2->seaborn) (0.10.0)\n",
      "Requirement already satisfied, skipping upgrade: pytz>=2017.2 in /opt/conda/lib/python3.7/site-packages (from pandas>=0.23->seaborn) (2021.1)\n",
      "Requirement already satisfied, skipping upgrade: six>=1.5 in /opt/conda/lib/python3.7/site-packages (from python-dateutil>=2.1->matplotlib>=2.2->seaborn) (1.15.0)\n",
      "Installing collected packages: seaborn\n",
      "Successfully installed seaborn-0.11.2\n"
     ]
    }
   ],
   "source": [
    "import pandas as pd\n",
    "import numpy as np\n",
    "import math\n",
    "!pip install -U seaborn\n",
    "import seaborn as sns\n",
    "sns.set_style(style='darkgrid')\n",
    "import matplotlib.pyplot as plt\n",
    "import random\n",
    "from scipy import stats as st\n",
    "import warnings\n",
    "warnings.simplefilter('ignore')"
   ]
  },
  {
   "cell_type": "code",
   "execution_count": 3,
   "metadata": {},
   "outputs": [],
   "source": [
    "df = pd.read_csv(\"/datasets/games.csv\")"
   ]
  },
  {
   "cell_type": "code",
   "execution_count": 4,
   "metadata": {},
   "outputs": [
    {
     "data": {
      "text/html": [
       "<div>\n",
       "<style scoped>\n",
       "    .dataframe tbody tr th:only-of-type {\n",
       "        vertical-align: middle;\n",
       "    }\n",
       "\n",
       "    .dataframe tbody tr th {\n",
       "        vertical-align: top;\n",
       "    }\n",
       "\n",
       "    .dataframe thead th {\n",
       "        text-align: right;\n",
       "    }\n",
       "</style>\n",
       "<table border=\"1\" class=\"dataframe\">\n",
       "  <thead>\n",
       "    <tr style=\"text-align: right;\">\n",
       "      <th></th>\n",
       "      <th>Year_of_Release</th>\n",
       "      <th>NA_sales</th>\n",
       "      <th>EU_sales</th>\n",
       "      <th>JP_sales</th>\n",
       "      <th>Other_sales</th>\n",
       "      <th>Critic_Score</th>\n",
       "    </tr>\n",
       "  </thead>\n",
       "  <tbody>\n",
       "    <tr>\n",
       "      <td>count</td>\n",
       "      <td>16446.000000</td>\n",
       "      <td>16715.000000</td>\n",
       "      <td>16715.000000</td>\n",
       "      <td>16715.000000</td>\n",
       "      <td>16715.000000</td>\n",
       "      <td>8137.000000</td>\n",
       "    </tr>\n",
       "    <tr>\n",
       "      <td>mean</td>\n",
       "      <td>2006.484616</td>\n",
       "      <td>0.263377</td>\n",
       "      <td>0.145060</td>\n",
       "      <td>0.077617</td>\n",
       "      <td>0.047342</td>\n",
       "      <td>68.967679</td>\n",
       "    </tr>\n",
       "    <tr>\n",
       "      <td>std</td>\n",
       "      <td>5.877050</td>\n",
       "      <td>0.813604</td>\n",
       "      <td>0.503339</td>\n",
       "      <td>0.308853</td>\n",
       "      <td>0.186731</td>\n",
       "      <td>13.938165</td>\n",
       "    </tr>\n",
       "    <tr>\n",
       "      <td>min</td>\n",
       "      <td>1980.000000</td>\n",
       "      <td>0.000000</td>\n",
       "      <td>0.000000</td>\n",
       "      <td>0.000000</td>\n",
       "      <td>0.000000</td>\n",
       "      <td>13.000000</td>\n",
       "    </tr>\n",
       "    <tr>\n",
       "      <td>25%</td>\n",
       "      <td>2003.000000</td>\n",
       "      <td>0.000000</td>\n",
       "      <td>0.000000</td>\n",
       "      <td>0.000000</td>\n",
       "      <td>0.000000</td>\n",
       "      <td>60.000000</td>\n",
       "    </tr>\n",
       "    <tr>\n",
       "      <td>50%</td>\n",
       "      <td>2007.000000</td>\n",
       "      <td>0.080000</td>\n",
       "      <td>0.020000</td>\n",
       "      <td>0.000000</td>\n",
       "      <td>0.010000</td>\n",
       "      <td>71.000000</td>\n",
       "    </tr>\n",
       "    <tr>\n",
       "      <td>75%</td>\n",
       "      <td>2010.000000</td>\n",
       "      <td>0.240000</td>\n",
       "      <td>0.110000</td>\n",
       "      <td>0.040000</td>\n",
       "      <td>0.030000</td>\n",
       "      <td>79.000000</td>\n",
       "    </tr>\n",
       "    <tr>\n",
       "      <td>max</td>\n",
       "      <td>2016.000000</td>\n",
       "      <td>41.360000</td>\n",
       "      <td>28.960000</td>\n",
       "      <td>10.220000</td>\n",
       "      <td>10.570000</td>\n",
       "      <td>98.000000</td>\n",
       "    </tr>\n",
       "  </tbody>\n",
       "</table>\n",
       "</div>"
      ],
      "text/plain": [
       "       Year_of_Release      NA_sales      EU_sales      JP_sales  \\\n",
       "count     16446.000000  16715.000000  16715.000000  16715.000000   \n",
       "mean       2006.484616      0.263377      0.145060      0.077617   \n",
       "std           5.877050      0.813604      0.503339      0.308853   \n",
       "min        1980.000000      0.000000      0.000000      0.000000   \n",
       "25%        2003.000000      0.000000      0.000000      0.000000   \n",
       "50%        2007.000000      0.080000      0.020000      0.000000   \n",
       "75%        2010.000000      0.240000      0.110000      0.040000   \n",
       "max        2016.000000     41.360000     28.960000     10.220000   \n",
       "\n",
       "        Other_sales  Critic_Score  \n",
       "count  16715.000000   8137.000000  \n",
       "mean       0.047342     68.967679  \n",
       "std        0.186731     13.938165  \n",
       "min        0.000000     13.000000  \n",
       "25%        0.000000     60.000000  \n",
       "50%        0.010000     71.000000  \n",
       "75%        0.030000     79.000000  \n",
       "max       10.570000     98.000000  "
      ]
     },
     "execution_count": 4,
     "metadata": {},
     "output_type": "execute_result"
    }
   ],
   "source": [
    "df.describe()"
   ]
  },
  {
   "cell_type": "code",
   "execution_count": 5,
   "metadata": {
    "scrolled": true
   },
   "outputs": [
    {
     "data": {
      "text/html": [
       "<div>\n",
       "<style scoped>\n",
       "    .dataframe tbody tr th:only-of-type {\n",
       "        vertical-align: middle;\n",
       "    }\n",
       "\n",
       "    .dataframe tbody tr th {\n",
       "        vertical-align: top;\n",
       "    }\n",
       "\n",
       "    .dataframe thead th {\n",
       "        text-align: right;\n",
       "    }\n",
       "</style>\n",
       "<table border=\"1\" class=\"dataframe\">\n",
       "  <thead>\n",
       "    <tr style=\"text-align: right;\">\n",
       "      <th></th>\n",
       "      <th>name</th>\n",
       "      <th>platform</th>\n",
       "      <th>year_of_release</th>\n",
       "      <th>genre</th>\n",
       "      <th>na_sales</th>\n",
       "      <th>eu_sales</th>\n",
       "      <th>jp_sales</th>\n",
       "      <th>other_sales</th>\n",
       "      <th>critic_score</th>\n",
       "      <th>user_score</th>\n",
       "      <th>rating</th>\n",
       "    </tr>\n",
       "  </thead>\n",
       "  <tbody>\n",
       "    <tr>\n",
       "      <td>0</td>\n",
       "      <td>Wii Sports</td>\n",
       "      <td>Wii</td>\n",
       "      <td>2006.0</td>\n",
       "      <td>Sports</td>\n",
       "      <td>41.36</td>\n",
       "      <td>28.96</td>\n",
       "      <td>3.77</td>\n",
       "      <td>8.45</td>\n",
       "      <td>76.0</td>\n",
       "      <td>8</td>\n",
       "      <td>E</td>\n",
       "    </tr>\n",
       "    <tr>\n",
       "      <td>1</td>\n",
       "      <td>Super Mario Bros.</td>\n",
       "      <td>NES</td>\n",
       "      <td>1985.0</td>\n",
       "      <td>Platform</td>\n",
       "      <td>29.08</td>\n",
       "      <td>3.58</td>\n",
       "      <td>6.81</td>\n",
       "      <td>0.77</td>\n",
       "      <td>NaN</td>\n",
       "      <td>NaN</td>\n",
       "      <td>NaN</td>\n",
       "    </tr>\n",
       "    <tr>\n",
       "      <td>2</td>\n",
       "      <td>Mario Kart Wii</td>\n",
       "      <td>Wii</td>\n",
       "      <td>2008.0</td>\n",
       "      <td>Racing</td>\n",
       "      <td>15.68</td>\n",
       "      <td>12.76</td>\n",
       "      <td>3.79</td>\n",
       "      <td>3.29</td>\n",
       "      <td>82.0</td>\n",
       "      <td>8.3</td>\n",
       "      <td>E</td>\n",
       "    </tr>\n",
       "    <tr>\n",
       "      <td>3</td>\n",
       "      <td>Wii Sports Resort</td>\n",
       "      <td>Wii</td>\n",
       "      <td>2009.0</td>\n",
       "      <td>Sports</td>\n",
       "      <td>15.61</td>\n",
       "      <td>10.93</td>\n",
       "      <td>3.28</td>\n",
       "      <td>2.95</td>\n",
       "      <td>80.0</td>\n",
       "      <td>8</td>\n",
       "      <td>E</td>\n",
       "    </tr>\n",
       "    <tr>\n",
       "      <td>4</td>\n",
       "      <td>Pokemon Red/Pokemon Blue</td>\n",
       "      <td>GB</td>\n",
       "      <td>1996.0</td>\n",
       "      <td>Role-Playing</td>\n",
       "      <td>11.27</td>\n",
       "      <td>8.89</td>\n",
       "      <td>10.22</td>\n",
       "      <td>1.00</td>\n",
       "      <td>NaN</td>\n",
       "      <td>NaN</td>\n",
       "      <td>NaN</td>\n",
       "    </tr>\n",
       "  </tbody>\n",
       "</table>\n",
       "</div>"
      ],
      "text/plain": [
       "                       name platform  year_of_release         genre  na_sales  \\\n",
       "0                Wii Sports      Wii           2006.0        Sports     41.36   \n",
       "1         Super Mario Bros.      NES           1985.0      Platform     29.08   \n",
       "2            Mario Kart Wii      Wii           2008.0        Racing     15.68   \n",
       "3         Wii Sports Resort      Wii           2009.0        Sports     15.61   \n",
       "4  Pokemon Red/Pokemon Blue       GB           1996.0  Role-Playing     11.27   \n",
       "\n",
       "   eu_sales  jp_sales  other_sales  critic_score user_score rating  \n",
       "0     28.96      3.77         8.45          76.0          8      E  \n",
       "1      3.58      6.81         0.77           NaN        NaN    NaN  \n",
       "2     12.76      3.79         3.29          82.0        8.3      E  \n",
       "3     10.93      3.28         2.95          80.0          8      E  \n",
       "4      8.89     10.22         1.00           NaN        NaN    NaN  "
      ]
     },
     "execution_count": 5,
     "metadata": {},
     "output_type": "execute_result"
    }
   ],
   "source": [
    "df.columns = map(str.lower, df.columns)\n",
    "df.head()"
   ]
  },
  {
   "cell_type": "code",
   "execution_count": 6,
   "metadata": {},
   "outputs": [
    {
     "name": "stdout",
     "output_type": "stream",
     "text": [
      "<class 'pandas.core.frame.DataFrame'>\n",
      "RangeIndex: 16715 entries, 0 to 16714\n",
      "Data columns (total 11 columns):\n",
      "name               16713 non-null object\n",
      "platform           16715 non-null object\n",
      "year_of_release    16446 non-null float64\n",
      "genre              16713 non-null object\n",
      "na_sales           16715 non-null float64\n",
      "eu_sales           16715 non-null float64\n",
      "jp_sales           16715 non-null float64\n",
      "other_sales        16715 non-null float64\n",
      "critic_score       8137 non-null float64\n",
      "user_score         10014 non-null object\n",
      "rating             9949 non-null object\n",
      "dtypes: float64(6), object(5)\n",
      "memory usage: 1.4+ MB\n"
     ]
    }
   ],
   "source": [
    "df.info()"
   ]
  },
  {
   "cell_type": "markdown",
   "metadata": {},
   "source": [
    "As the number of string 'tbd' is quite substantial - about 2500 values, let's fill them with -1, so that the user score does not take these -1 values into account, and for the rest of variables the values remain untouched"
   ]
  },
  {
   "cell_type": "code",
   "execution_count": 7,
   "metadata": {},
   "outputs": [
    {
     "name": "stdout",
     "output_type": "stream",
     "text": [
      "2424\n"
     ]
    }
   ],
   "source": [
    "cnt = 0\n",
    "for i in range(len(df)):\n",
    "    if df['user_score'].loc[i] == 'tbd':\n",
    "        cnt += 1\n",
    "\n",
    "print(cnt)"
   ]
  },
  {
   "cell_type": "code",
   "execution_count": 8,
   "metadata": {},
   "outputs": [
    {
     "name": "stdout",
     "output_type": "stream",
     "text": [
      "<class 'pandas.core.frame.DataFrame'>\n",
      "RangeIndex: 16715 entries, 0 to 16714\n",
      "Data columns (total 11 columns):\n",
      "name               16713 non-null object\n",
      "platform           16715 non-null object\n",
      "year_of_release    16446 non-null Int64\n",
      "genre              16713 non-null object\n",
      "na_sales           16715 non-null float64\n",
      "eu_sales           16715 non-null float64\n",
      "jp_sales           16715 non-null float64\n",
      "other_sales        16715 non-null float64\n",
      "critic_score       8137 non-null Int64\n",
      "user_score         10014 non-null float64\n",
      "rating             9949 non-null object\n",
      "dtypes: Int64(2), float64(5), object(4)\n",
      "memory usage: 1.4+ MB\n"
     ]
    }
   ],
   "source": [
    "df['year_of_release'] = df['year_of_release'].astype('Int64')\n",
    "df['critic_score'] = df['critic_score'].astype('Int64')\n",
    "df['user_score'] = df['user_score'].replace('tbd',-1) \n",
    "df['user_score'] = df['user_score'].astype('float')\n",
    "df.info()                                          "
   ]
  },
  {
   "cell_type": "code",
   "execution_count": 9,
   "metadata": {},
   "outputs": [],
   "source": [
    "def print_hist(column, name):\n",
    "    x = df[column]\n",
    "\n",
    "    f, (ax_box, ax_hist) = plt.subplots(2, sharex=True, \n",
    "                                        gridspec_kw={\"height_ratios\": (.15, .85)})\n",
    "\n",
    "    sns.boxplot(x,ax=ax_box).set_title(name)\n",
    "    sns.distplot(x, ax=ax_hist)\n",
    "\n",
    "    ax_box.set(yticks=[])\n",
    "    sns.despine(ax=ax_hist)\n",
    "    sns.despine(ax=ax_box, left=True)\n",
    "    #sns.title(name)"
   ]
  },
  {
   "cell_type": "code",
   "execution_count": 10,
   "metadata": {},
   "outputs": [
    {
     "data": {
      "image/png": "[encoded data removed]",
      "text/plain": [
       "<Figure size 432x288 with 2 Axes>"
      ]
     },
     "metadata": {},
     "output_type": "display_data"
    }
   ],
   "source": [
    "print_hist('user_score', 'Distribution of user scores')"
   ]
  },
  {
   "cell_type": "code",
   "execution_count": 11,
   "metadata": {},
   "outputs": [
    {
     "data": {
      "image/png": "[encoded data removed]",
      "text/plain": [
       "<Figure size 432x288 with 2 Axes>"
      ]
     },
     "metadata": {},
     "output_type": "display_data"
    }
   ],
   "source": [
    "print_hist('critic_score', 'Distribution of critic scores ');"
   ]
  },
  {
   "cell_type": "markdown",
   "metadata": {},
   "source": [
    "## Handling NaNs\n",
    "\n",
    "1. It is necessary to reset the values with missing names, since their number is insignificant - this will not affect the quality of the analysis;\n",
    "2. A significant number of NaNs are present in important variables for analysis, such as score, user score, rating. Due to the fact that there are duplicates in ds by name (the same games for different platforms), you can assign their values by name to those positions where there are none and look at the result."
   ]
  },
  {
   "cell_type": "code",
   "execution_count": 12,
   "metadata": {},
   "outputs": [
    {
     "name": "stdout",
     "output_type": "stream",
     "text": [
      "<class 'pandas.core.frame.DataFrame'>\n",
      "RangeIndex: 16715 entries, 0 to 16714\n",
      "Data columns (total 11 columns):\n",
      "name               16713 non-null object\n",
      "platform           16715 non-null object\n",
      "year_of_release    16446 non-null Int64\n",
      "genre              16713 non-null object\n",
      "na_sales           16715 non-null float64\n",
      "eu_sales           16715 non-null float64\n",
      "jp_sales           16715 non-null float64\n",
      "other_sales        16715 non-null float64\n",
      "critic_score       8137 non-null Int64\n",
      "user_score         10014 non-null float64\n",
      "rating             9949 non-null object\n",
      "dtypes: Int64(2), float64(5), object(4)\n",
      "memory usage: 1.4+ MB\n"
     ]
    }
   ],
   "source": [
    "df.info()"
   ]
  },
  {
   "cell_type": "code",
   "execution_count": 52,
   "metadata": {},
   "outputs": [
    {
     "data": {
      "text/html": [
       "<div>\n",
       "<style scoped>\n",
       "    .dataframe tbody tr th:only-of-type {\n",
       "        vertical-align: middle;\n",
       "    }\n",
       "\n",
       "    .dataframe tbody tr th {\n",
       "        vertical-align: top;\n",
       "    }\n",
       "\n",
       "    .dataframe thead tr th {\n",
       "        text-align: left;\n",
       "    }\n",
       "\n",
       "    .dataframe thead tr:last-of-type th {\n",
       "        text-align: right;\n",
       "    }\n",
       "</style>\n",
       "<table border=\"1\" class=\"dataframe\">\n",
       "  <thead>\n",
       "    <tr>\n",
       "      <th></th>\n",
       "      <th colspan=\"2\" halign=\"left\">count</th>\n",
       "      <th>ratio</th>\n",
       "    </tr>\n",
       "    <tr>\n",
       "      <th></th>\n",
       "      <th>critic_score</th>\n",
       "      <th>name</th>\n",
       "      <th></th>\n",
       "    </tr>\n",
       "    <tr>\n",
       "      <th>year_of_release</th>\n",
       "      <th></th>\n",
       "      <th></th>\n",
       "      <th></th>\n",
       "    </tr>\n",
       "  </thead>\n",
       "  <tbody>\n",
       "    <tr>\n",
       "      <td>2002</td>\n",
       "      <td>652</td>\n",
       "      <td>838</td>\n",
       "      <td>0.778043</td>\n",
       "    </tr>\n",
       "    <tr>\n",
       "      <td>2003</td>\n",
       "      <td>608</td>\n",
       "      <td>783</td>\n",
       "      <td>0.776501</td>\n",
       "    </tr>\n",
       "    <tr>\n",
       "      <td>2004</td>\n",
       "      <td>581</td>\n",
       "      <td>764</td>\n",
       "      <td>0.760471</td>\n",
       "    </tr>\n",
       "    <tr>\n",
       "      <td>2005</td>\n",
       "      <td>683</td>\n",
       "      <td>945</td>\n",
       "      <td>0.722751</td>\n",
       "    </tr>\n",
       "    <tr>\n",
       "      <td>2001</td>\n",
       "      <td>341</td>\n",
       "      <td>484</td>\n",
       "      <td>0.704545</td>\n",
       "    </tr>\n",
       "    <tr>\n",
       "      <td>2006</td>\n",
       "      <td>640</td>\n",
       "      <td>1015</td>\n",
       "      <td>0.630542</td>\n",
       "    </tr>\n",
       "    <tr>\n",
       "      <td>2007</td>\n",
       "      <td>720</td>\n",
       "      <td>1202</td>\n",
       "      <td>0.599002</td>\n",
       "    </tr>\n",
       "    <tr>\n",
       "      <td>2013</td>\n",
       "      <td>316</td>\n",
       "      <td>546</td>\n",
       "      <td>0.578755</td>\n",
       "    </tr>\n",
       "    <tr>\n",
       "      <td>2014</td>\n",
       "      <td>336</td>\n",
       "      <td>581</td>\n",
       "      <td>0.578313</td>\n",
       "    </tr>\n",
       "    <tr>\n",
       "      <td>2012</td>\n",
       "      <td>363</td>\n",
       "      <td>661</td>\n",
       "      <td>0.549168</td>\n",
       "    </tr>\n",
       "    <tr>\n",
       "      <td>2008</td>\n",
       "      <td>779</td>\n",
       "      <td>1439</td>\n",
       "      <td>0.541348</td>\n",
       "    </tr>\n",
       "    <tr>\n",
       "      <td>2016</td>\n",
       "      <td>261</td>\n",
       "      <td>502</td>\n",
       "      <td>0.519920</td>\n",
       "    </tr>\n",
       "    <tr>\n",
       "      <td>2009</td>\n",
       "      <td>714</td>\n",
       "      <td>1426</td>\n",
       "      <td>0.500701</td>\n",
       "    </tr>\n",
       "    <tr>\n",
       "      <td>2015</td>\n",
       "      <td>301</td>\n",
       "      <td>606</td>\n",
       "      <td>0.496700</td>\n",
       "    </tr>\n",
       "    <tr>\n",
       "      <td>2011</td>\n",
       "      <td>538</td>\n",
       "      <td>1147</td>\n",
       "      <td>0.469050</td>\n",
       "    </tr>\n",
       "    <tr>\n",
       "      <td>2010</td>\n",
       "      <td>562</td>\n",
       "      <td>1268</td>\n",
       "      <td>0.443218</td>\n",
       "    </tr>\n",
       "    <tr>\n",
       "      <td>2000</td>\n",
       "      <td>151</td>\n",
       "      <td>351</td>\n",
       "      <td>0.430199</td>\n",
       "    </tr>\n",
       "    <tr>\n",
       "      <td>1985</td>\n",
       "      <td>2</td>\n",
       "      <td>14</td>\n",
       "      <td>0.142857</td>\n",
       "    </tr>\n",
       "    <tr>\n",
       "      <td>1999</td>\n",
       "      <td>45</td>\n",
       "      <td>339</td>\n",
       "      <td>0.132743</td>\n",
       "    </tr>\n",
       "    <tr>\n",
       "      <td>1980</td>\n",
       "      <td>1</td>\n",
       "      <td>9</td>\n",
       "      <td>0.111111</td>\n",
       "    </tr>\n",
       "    <tr>\n",
       "      <td>1992</td>\n",
       "      <td>4</td>\n",
       "      <td>43</td>\n",
       "      <td>0.093023</td>\n",
       "    </tr>\n",
       "    <tr>\n",
       "      <td>1994</td>\n",
       "      <td>11</td>\n",
       "      <td>121</td>\n",
       "      <td>0.090909</td>\n",
       "    </tr>\n",
       "    <tr>\n",
       "      <td>1997</td>\n",
       "      <td>23</td>\n",
       "      <td>289</td>\n",
       "      <td>0.079585</td>\n",
       "    </tr>\n",
       "    <tr>\n",
       "      <td>1998</td>\n",
       "      <td>30</td>\n",
       "      <td>379</td>\n",
       "      <td>0.079156</td>\n",
       "    </tr>\n",
       "    <tr>\n",
       "      <td>1988</td>\n",
       "      <td>1</td>\n",
       "      <td>15</td>\n",
       "      <td>0.066667</td>\n",
       "    </tr>\n",
       "    <tr>\n",
       "      <td>1990</td>\n",
       "      <td>1</td>\n",
       "      <td>16</td>\n",
       "      <td>0.062500</td>\n",
       "    </tr>\n",
       "    <tr>\n",
       "      <td>1989</td>\n",
       "      <td>1</td>\n",
       "      <td>17</td>\n",
       "      <td>0.058824</td>\n",
       "    </tr>\n",
       "    <tr>\n",
       "      <td>1996</td>\n",
       "      <td>10</td>\n",
       "      <td>263</td>\n",
       "      <td>0.038023</td>\n",
       "    </tr>\n",
       "    <tr>\n",
       "      <td>1982</td>\n",
       "      <td>1</td>\n",
       "      <td>36</td>\n",
       "      <td>0.027778</td>\n",
       "    </tr>\n",
       "    <tr>\n",
       "      <td>1995</td>\n",
       "      <td>6</td>\n",
       "      <td>219</td>\n",
       "      <td>0.027397</td>\n",
       "    </tr>\n",
       "    <tr>\n",
       "      <td>1981</td>\n",
       "      <td>1</td>\n",
       "      <td>46</td>\n",
       "      <td>0.021739</td>\n",
       "    </tr>\n",
       "    <tr>\n",
       "      <td>1993</td>\n",
       "      <td>1</td>\n",
       "      <td>60</td>\n",
       "      <td>0.016667</td>\n",
       "    </tr>\n",
       "    <tr>\n",
       "      <td>1991</td>\n",
       "      <td>0</td>\n",
       "      <td>41</td>\n",
       "      <td>0.000000</td>\n",
       "    </tr>\n",
       "    <tr>\n",
       "      <td>1987</td>\n",
       "      <td>0</td>\n",
       "      <td>16</td>\n",
       "      <td>0.000000</td>\n",
       "    </tr>\n",
       "    <tr>\n",
       "      <td>1986</td>\n",
       "      <td>0</td>\n",
       "      <td>21</td>\n",
       "      <td>0.000000</td>\n",
       "    </tr>\n",
       "    <tr>\n",
       "      <td>1984</td>\n",
       "      <td>0</td>\n",
       "      <td>14</td>\n",
       "      <td>0.000000</td>\n",
       "    </tr>\n",
       "    <tr>\n",
       "      <td>1983</td>\n",
       "      <td>0</td>\n",
       "      <td>17</td>\n",
       "      <td>0.000000</td>\n",
       "    </tr>\n",
       "  </tbody>\n",
       "</table>\n",
       "</div>"
      ],
      "text/plain": [
       "                       count           ratio\n",
       "                critic_score  name          \n",
       "year_of_release                             \n",
       "2002                     652   838  0.778043\n",
       "2003                     608   783  0.776501\n",
       "2004                     581   764  0.760471\n",
       "2005                     683   945  0.722751\n",
       "2001                     341   484  0.704545\n",
       "2006                     640  1015  0.630542\n",
       "2007                     720  1202  0.599002\n",
       "2013                     316   546  0.578755\n",
       "2014                     336   581  0.578313\n",
       "2012                     363   661  0.549168\n",
       "2008                     779  1439  0.541348\n",
       "2016                     261   502  0.519920\n",
       "2009                     714  1426  0.500701\n",
       "2015                     301   606  0.496700\n",
       "2011                     538  1147  0.469050\n",
       "2010                     562  1268  0.443218\n",
       "2000                     151   351  0.430199\n",
       "1985                       2    14  0.142857\n",
       "1999                      45   339  0.132743\n",
       "1980                       1     9  0.111111\n",
       "1992                       4    43  0.093023\n",
       "1994                      11   121  0.090909\n",
       "1997                      23   289  0.079585\n",
       "1998                      30   379  0.079156\n",
       "1988                       1    15  0.066667\n",
       "1990                       1    16  0.062500\n",
       "1989                       1    17  0.058824\n",
       "1996                      10   263  0.038023\n",
       "1982                       1    36  0.027778\n",
       "1995                       6   219  0.027397\n",
       "1981                       1    46  0.021739\n",
       "1993                       1    60  0.016667\n",
       "1991                       0    41  0.000000\n",
       "1987                       0    16  0.000000\n",
       "1986                       0    21  0.000000\n",
       "1984                       0    14  0.000000\n",
       "1983                       0    17  0.000000"
      ]
     },
     "execution_count": 52,
     "metadata": {},
     "output_type": "execute_result"
    }
   ],
   "source": [
    "ds_p_y = df.pivot_table(index='year_of_release',values=['name','critic_score'],aggfunc=['count'])\n",
    "ds_p_y['ratio'] = ds_p_y['count']['critic_score'] / ds_p_y['count']['name'] \n",
    "ds_p_y.sort_values('ratio',ascending=False)"
   ]
  },
  {
   "cell_type": "code",
   "execution_count": 53,
   "metadata": {},
   "outputs": [
    {
     "data": {
      "text/html": [
       "<div>\n",
       "<style scoped>\n",
       "    .dataframe tbody tr th:only-of-type {\n",
       "        vertical-align: middle;\n",
       "    }\n",
       "\n",
       "    .dataframe tbody tr th {\n",
       "        vertical-align: top;\n",
       "    }\n",
       "\n",
       "    .dataframe thead tr th {\n",
       "        text-align: left;\n",
       "    }\n",
       "\n",
       "    .dataframe thead tr:last-of-type th {\n",
       "        text-align: right;\n",
       "    }\n",
       "</style>\n",
       "<table border=\"1\" class=\"dataframe\">\n",
       "  <thead>\n",
       "    <tr>\n",
       "      <th></th>\n",
       "      <th colspan=\"2\" halign=\"left\">count</th>\n",
       "      <th>ratio</th>\n",
       "    </tr>\n",
       "    <tr>\n",
       "      <th></th>\n",
       "      <th>critic_score</th>\n",
       "      <th>platform</th>\n",
       "      <th></th>\n",
       "    </tr>\n",
       "    <tr>\n",
       "      <th>year_of_release</th>\n",
       "      <th></th>\n",
       "      <th></th>\n",
       "      <th></th>\n",
       "    </tr>\n",
       "  </thead>\n",
       "  <tbody>\n",
       "    <tr>\n",
       "      <td>2002</td>\n",
       "      <td>652</td>\n",
       "      <td>838</td>\n",
       "      <td>0.778043</td>\n",
       "    </tr>\n",
       "    <tr>\n",
       "      <td>2003</td>\n",
       "      <td>608</td>\n",
       "      <td>783</td>\n",
       "      <td>0.776501</td>\n",
       "    </tr>\n",
       "    <tr>\n",
       "      <td>2004</td>\n",
       "      <td>581</td>\n",
       "      <td>764</td>\n",
       "      <td>0.760471</td>\n",
       "    </tr>\n",
       "    <tr>\n",
       "      <td>2005</td>\n",
       "      <td>683</td>\n",
       "      <td>945</td>\n",
       "      <td>0.722751</td>\n",
       "    </tr>\n",
       "    <tr>\n",
       "      <td>2001</td>\n",
       "      <td>341</td>\n",
       "      <td>484</td>\n",
       "      <td>0.704545</td>\n",
       "    </tr>\n",
       "    <tr>\n",
       "      <td>2006</td>\n",
       "      <td>640</td>\n",
       "      <td>1015</td>\n",
       "      <td>0.630542</td>\n",
       "    </tr>\n",
       "    <tr>\n",
       "      <td>2007</td>\n",
       "      <td>720</td>\n",
       "      <td>1202</td>\n",
       "      <td>0.599002</td>\n",
       "    </tr>\n",
       "    <tr>\n",
       "      <td>2013</td>\n",
       "      <td>316</td>\n",
       "      <td>546</td>\n",
       "      <td>0.578755</td>\n",
       "    </tr>\n",
       "    <tr>\n",
       "      <td>2014</td>\n",
       "      <td>336</td>\n",
       "      <td>581</td>\n",
       "      <td>0.578313</td>\n",
       "    </tr>\n",
       "    <tr>\n",
       "      <td>2012</td>\n",
       "      <td>363</td>\n",
       "      <td>661</td>\n",
       "      <td>0.549168</td>\n",
       "    </tr>\n",
       "    <tr>\n",
       "      <td>2008</td>\n",
       "      <td>779</td>\n",
       "      <td>1439</td>\n",
       "      <td>0.541348</td>\n",
       "    </tr>\n",
       "    <tr>\n",
       "      <td>2016</td>\n",
       "      <td>261</td>\n",
       "      <td>502</td>\n",
       "      <td>0.519920</td>\n",
       "    </tr>\n",
       "    <tr>\n",
       "      <td>2009</td>\n",
       "      <td>714</td>\n",
       "      <td>1426</td>\n",
       "      <td>0.500701</td>\n",
       "    </tr>\n",
       "    <tr>\n",
       "      <td>2015</td>\n",
       "      <td>301</td>\n",
       "      <td>606</td>\n",
       "      <td>0.496700</td>\n",
       "    </tr>\n",
       "    <tr>\n",
       "      <td>2011</td>\n",
       "      <td>538</td>\n",
       "      <td>1147</td>\n",
       "      <td>0.469050</td>\n",
       "    </tr>\n",
       "    <tr>\n",
       "      <td>2010</td>\n",
       "      <td>562</td>\n",
       "      <td>1268</td>\n",
       "      <td>0.443218</td>\n",
       "    </tr>\n",
       "    <tr>\n",
       "      <td>2000</td>\n",
       "      <td>151</td>\n",
       "      <td>351</td>\n",
       "      <td>0.430199</td>\n",
       "    </tr>\n",
       "    <tr>\n",
       "      <td>1985</td>\n",
       "      <td>2</td>\n",
       "      <td>14</td>\n",
       "      <td>0.142857</td>\n",
       "    </tr>\n",
       "    <tr>\n",
       "      <td>1999</td>\n",
       "      <td>45</td>\n",
       "      <td>339</td>\n",
       "      <td>0.132743</td>\n",
       "    </tr>\n",
       "    <tr>\n",
       "      <td>1980</td>\n",
       "      <td>1</td>\n",
       "      <td>9</td>\n",
       "      <td>0.111111</td>\n",
       "    </tr>\n",
       "    <tr>\n",
       "      <td>1992</td>\n",
       "      <td>4</td>\n",
       "      <td>43</td>\n",
       "      <td>0.093023</td>\n",
       "    </tr>\n",
       "    <tr>\n",
       "      <td>1994</td>\n",
       "      <td>11</td>\n",
       "      <td>121</td>\n",
       "      <td>0.090909</td>\n",
       "    </tr>\n",
       "    <tr>\n",
       "      <td>1997</td>\n",
       "      <td>23</td>\n",
       "      <td>289</td>\n",
       "      <td>0.079585</td>\n",
       "    </tr>\n",
       "    <tr>\n",
       "      <td>1998</td>\n",
       "      <td>30</td>\n",
       "      <td>379</td>\n",
       "      <td>0.079156</td>\n",
       "    </tr>\n",
       "    <tr>\n",
       "      <td>1988</td>\n",
       "      <td>1</td>\n",
       "      <td>15</td>\n",
       "      <td>0.066667</td>\n",
       "    </tr>\n",
       "    <tr>\n",
       "      <td>1990</td>\n",
       "      <td>1</td>\n",
       "      <td>16</td>\n",
       "      <td>0.062500</td>\n",
       "    </tr>\n",
       "    <tr>\n",
       "      <td>1989</td>\n",
       "      <td>1</td>\n",
       "      <td>17</td>\n",
       "      <td>0.058824</td>\n",
       "    </tr>\n",
       "    <tr>\n",
       "      <td>1996</td>\n",
       "      <td>10</td>\n",
       "      <td>263</td>\n",
       "      <td>0.038023</td>\n",
       "    </tr>\n",
       "    <tr>\n",
       "      <td>1982</td>\n",
       "      <td>1</td>\n",
       "      <td>36</td>\n",
       "      <td>0.027778</td>\n",
       "    </tr>\n",
       "    <tr>\n",
       "      <td>1995</td>\n",
       "      <td>6</td>\n",
       "      <td>219</td>\n",
       "      <td>0.027397</td>\n",
       "    </tr>\n",
       "    <tr>\n",
       "      <td>1981</td>\n",
       "      <td>1</td>\n",
       "      <td>46</td>\n",
       "      <td>0.021739</td>\n",
       "    </tr>\n",
       "    <tr>\n",
       "      <td>1993</td>\n",
       "      <td>1</td>\n",
       "      <td>60</td>\n",
       "      <td>0.016667</td>\n",
       "    </tr>\n",
       "    <tr>\n",
       "      <td>1991</td>\n",
       "      <td>0</td>\n",
       "      <td>41</td>\n",
       "      <td>0.000000</td>\n",
       "    </tr>\n",
       "    <tr>\n",
       "      <td>1987</td>\n",
       "      <td>0</td>\n",
       "      <td>16</td>\n",
       "      <td>0.000000</td>\n",
       "    </tr>\n",
       "    <tr>\n",
       "      <td>1986</td>\n",
       "      <td>0</td>\n",
       "      <td>21</td>\n",
       "      <td>0.000000</td>\n",
       "    </tr>\n",
       "    <tr>\n",
       "      <td>1984</td>\n",
       "      <td>0</td>\n",
       "      <td>14</td>\n",
       "      <td>0.000000</td>\n",
       "    </tr>\n",
       "    <tr>\n",
       "      <td>1983</td>\n",
       "      <td>0</td>\n",
       "      <td>17</td>\n",
       "      <td>0.000000</td>\n",
       "    </tr>\n",
       "  </tbody>\n",
       "</table>\n",
       "</div>"
      ],
      "text/plain": [
       "                       count              ratio\n",
       "                critic_score platform          \n",
       "year_of_release                                \n",
       "2002                     652      838  0.778043\n",
       "2003                     608      783  0.776501\n",
       "2004                     581      764  0.760471\n",
       "2005                     683      945  0.722751\n",
       "2001                     341      484  0.704545\n",
       "2006                     640     1015  0.630542\n",
       "2007                     720     1202  0.599002\n",
       "2013                     316      546  0.578755\n",
       "2014                     336      581  0.578313\n",
       "2012                     363      661  0.549168\n",
       "2008                     779     1439  0.541348\n",
       "2016                     261      502  0.519920\n",
       "2009                     714     1426  0.500701\n",
       "2015                     301      606  0.496700\n",
       "2011                     538     1147  0.469050\n",
       "2010                     562     1268  0.443218\n",
       "2000                     151      351  0.430199\n",
       "1985                       2       14  0.142857\n",
       "1999                      45      339  0.132743\n",
       "1980                       1        9  0.111111\n",
       "1992                       4       43  0.093023\n",
       "1994                      11      121  0.090909\n",
       "1997                      23      289  0.079585\n",
       "1998                      30      379  0.079156\n",
       "1988                       1       15  0.066667\n",
       "1990                       1       16  0.062500\n",
       "1989                       1       17  0.058824\n",
       "1996                      10      263  0.038023\n",
       "1982                       1       36  0.027778\n",
       "1995                       6      219  0.027397\n",
       "1981                       1       46  0.021739\n",
       "1993                       1       60  0.016667\n",
       "1991                       0       41  0.000000\n",
       "1987                       0       16  0.000000\n",
       "1986                       0       21  0.000000\n",
       "1984                       0       14  0.000000\n",
       "1983                       0       17  0.000000"
      ]
     },
     "execution_count": 53,
     "metadata": {},
     "output_type": "execute_result"
    }
   ],
   "source": [
    "ds_p_y = df.pivot_table(index='year_of_release',values=['platform','critic_score'],aggfunc=['count'])\n",
    "ds_p_y['ratio'] = ds_p_y['count']['critic_score'] / ds_p_y['count']['platform'] \n",
    "ds_p_y.sort_values('ratio',ascending=False)"
   ]
  },
  {
   "cell_type": "markdown",
   "metadata": {},
   "source": [
    "As we can see from obtained data, the most popular and recent type of platforms have a large share of critics' reviews. Thus, we can assume that critics pay less attention to less popular platforms, which means that their lack of reviews is a normal phenomenon and not a mistake.\n",
    "\n",
    "We leave the NaN values intact for the following reasons:\n",
    "\n",
    "1. Any fill-in is artificially derived data, and it strongly affects descriptive statistics, which can lead to incorrect statistical test results.\n",
    "\n",
    "2. By default, pandas library methods ignore omissions, so if no fill-in is planned, it is better to leave it as is. Otherwise, the results of the calculations will be very different from reality.\n",
    "\n",
    "Let's check the distribution graphs, after replacing them with duplicate values."
   ]
  },
  {
   "cell_type": "code",
   "execution_count": 18,
   "metadata": {},
   "outputs": [
    {
     "data": {
      "image/png": "[encoded data removed]",
      "text/plain": [
       "<Figure size 432x288 with 2 Axes>"
      ]
     },
     "metadata": {},
     "output_type": "display_data"
    }
   ],
   "source": [
    "print_hist('critic_score','Distribution of critic scores ');"
   ]
  },
  {
   "cell_type": "markdown",
   "metadata": {},
   "source": [
    "## Exploratory data analysis"
   ]
  },
  {
   "cell_type": "code",
   "execution_count": 19,
   "metadata": {},
   "outputs": [
    {
     "data": {
      "image/png": "[encoded data removed]",
      "text/plain": [
       "<Figure size 1080x288 with 1 Axes>"
      ]
     },
     "metadata": {},
     "output_type": "display_data"
    }
   ],
   "source": [
    "plt.figure(figsize=(15,4))\n",
    "\n",
    "df['year_of_release'].hist(range=(min(df['year_of_release']),max(df['year_of_release'])),bins=70)\n",
    "plt.xlabel('year_of_release')\n",
    "plt.ylabel('count')\n",
    "plt.show()"
   ]
  },
  {
   "cell_type": "markdown",
   "metadata": {},
   "source": [
    "As one can see from the distribution point, most of the games were released in the period from 1995 to 2016 + we understand that the games that were released before 1995 are not relevant for our study, as since that moment the platforms capabilities and player preferences have changed significantly, I suggest excluding games before 1995 for further analysis. With this conversion we will lose a small fraction of the df, and we find that the early data have a significant amount of omissions"
   ]
  },
  {
   "cell_type": "code",
   "execution_count": 20,
   "metadata": {},
   "outputs": [
    {
     "data": {
      "text/html": [
       "<div>\n",
       "<style scoped>\n",
       "    .dataframe tbody tr th:only-of-type {\n",
       "        vertical-align: middle;\n",
       "    }\n",
       "\n",
       "    .dataframe tbody tr th {\n",
       "        vertical-align: top;\n",
       "    }\n",
       "\n",
       "    .dataframe thead th {\n",
       "        text-align: right;\n",
       "    }\n",
       "</style>\n",
       "<table border=\"1\" class=\"dataframe\">\n",
       "  <thead>\n",
       "    <tr style=\"text-align: right;\">\n",
       "      <th></th>\n",
       "      <th>year_of_release</th>\n",
       "      <th>na_sales</th>\n",
       "      <th>eu_sales</th>\n",
       "      <th>jp_sales</th>\n",
       "      <th>other_sales</th>\n",
       "      <th>critic_score</th>\n",
       "      <th>user_score</th>\n",
       "    </tr>\n",
       "  </thead>\n",
       "  <tbody>\n",
       "    <tr>\n",
       "      <td>count</td>\n",
       "      <td>15828.000000</td>\n",
       "      <td>15828.000000</td>\n",
       "      <td>15828.000000</td>\n",
       "      <td>15828.000000</td>\n",
       "      <td>15828.000000</td>\n",
       "      <td>8654.000000</td>\n",
       "      <td>10153.000000</td>\n",
       "    </tr>\n",
       "    <tr>\n",
       "      <td>mean</td>\n",
       "      <td>2007.183915</td>\n",
       "      <td>0.252143</td>\n",
       "      <td>0.146815</td>\n",
       "      <td>0.064786</td>\n",
       "      <td>0.048681</td>\n",
       "      <td>68.915415</td>\n",
       "      <td>5.169743</td>\n",
       "    </tr>\n",
       "    <tr>\n",
       "      <td>std</td>\n",
       "      <td>4.856945</td>\n",
       "      <td>0.718972</td>\n",
       "      <td>0.510813</td>\n",
       "      <td>0.277351</td>\n",
       "      <td>0.190879</td>\n",
       "      <td>14.047558</td>\n",
       "      <td>3.713803</td>\n",
       "    </tr>\n",
       "    <tr>\n",
       "      <td>min</td>\n",
       "      <td>1996.000000</td>\n",
       "      <td>0.000000</td>\n",
       "      <td>0.000000</td>\n",
       "      <td>0.000000</td>\n",
       "      <td>0.000000</td>\n",
       "      <td>13.000000</td>\n",
       "      <td>-1.000000</td>\n",
       "    </tr>\n",
       "    <tr>\n",
       "      <td>25%</td>\n",
       "      <td>2004.000000</td>\n",
       "      <td>0.000000</td>\n",
       "      <td>0.000000</td>\n",
       "      <td>0.000000</td>\n",
       "      <td>0.000000</td>\n",
       "      <td>60.000000</td>\n",
       "      <td>2.500000</td>\n",
       "    </tr>\n",
       "    <tr>\n",
       "      <td>50%</td>\n",
       "      <td>2008.000000</td>\n",
       "      <td>0.080000</td>\n",
       "      <td>0.020000</td>\n",
       "      <td>0.000000</td>\n",
       "      <td>0.010000</td>\n",
       "      <td>71.000000</td>\n",
       "      <td>6.900000</td>\n",
       "    </tr>\n",
       "    <tr>\n",
       "      <td>75%</td>\n",
       "      <td>2011.000000</td>\n",
       "      <td>0.230000</td>\n",
       "      <td>0.110000</td>\n",
       "      <td>0.030000</td>\n",
       "      <td>0.040000</td>\n",
       "      <td>79.000000</td>\n",
       "      <td>8.000000</td>\n",
       "    </tr>\n",
       "    <tr>\n",
       "      <td>max</td>\n",
       "      <td>2016.000000</td>\n",
       "      <td>41.360000</td>\n",
       "      <td>28.960000</td>\n",
       "      <td>10.220000</td>\n",
       "      <td>10.570000</td>\n",
       "      <td>98.000000</td>\n",
       "      <td>9.700000</td>\n",
       "    </tr>\n",
       "  </tbody>\n",
       "</table>\n",
       "</div>"
      ],
      "text/plain": [
       "       year_of_release      na_sales      eu_sales      jp_sales  \\\n",
       "count     15828.000000  15828.000000  15828.000000  15828.000000   \n",
       "mean       2007.183915      0.252143      0.146815      0.064786   \n",
       "std           4.856945      0.718972      0.510813      0.277351   \n",
       "min        1996.000000      0.000000      0.000000      0.000000   \n",
       "25%        2004.000000      0.000000      0.000000      0.000000   \n",
       "50%        2008.000000      0.080000      0.020000      0.000000   \n",
       "75%        2011.000000      0.230000      0.110000      0.030000   \n",
       "max        2016.000000     41.360000     28.960000     10.220000   \n",
       "\n",
       "        other_sales  critic_score    user_score  \n",
       "count  15828.000000   8654.000000  10153.000000  \n",
       "mean       0.048681     68.915415      5.169743  \n",
       "std        0.190879     14.047558      3.713803  \n",
       "min        0.000000     13.000000     -1.000000  \n",
       "25%        0.000000     60.000000      2.500000  \n",
       "50%        0.010000     71.000000      6.900000  \n",
       "75%        0.040000     79.000000      8.000000  \n",
       "max       10.570000     98.000000      9.700000  "
      ]
     },
     "execution_count": 20,
     "metadata": {},
     "output_type": "execute_result"
    }
   ],
   "source": [
    "df.query('year_of_release > 1995').describe()"
   ]
  },
  {
   "cell_type": "code",
   "execution_count": 21,
   "metadata": {},
   "outputs": [
    {
     "data": {
      "text/html": [
       "<div>\n",
       "<style scoped>\n",
       "    .dataframe tbody tr th:only-of-type {\n",
       "        vertical-align: middle;\n",
       "    }\n",
       "\n",
       "    .dataframe tbody tr th {\n",
       "        vertical-align: top;\n",
       "    }\n",
       "\n",
       "    .dataframe thead th {\n",
       "        text-align: right;\n",
       "    }\n",
       "</style>\n",
       "<table border=\"1\" class=\"dataframe\">\n",
       "  <thead>\n",
       "    <tr style=\"text-align: right;\">\n",
       "      <th></th>\n",
       "      <th>total_sales</th>\n",
       "    </tr>\n",
       "    <tr>\n",
       "      <th>platform</th>\n",
       "      <th></th>\n",
       "    </tr>\n",
       "  </thead>\n",
       "  <tbody>\n",
       "    <tr>\n",
       "      <td>PS2</td>\n",
       "      <td>1244.20</td>\n",
       "    </tr>\n",
       "    <tr>\n",
       "      <td>X360</td>\n",
       "      <td>964.99</td>\n",
       "    </tr>\n",
       "    <tr>\n",
       "      <td>PS3</td>\n",
       "      <td>934.23</td>\n",
       "    </tr>\n",
       "    <tr>\n",
       "      <td>Wii</td>\n",
       "      <td>902.42</td>\n",
       "    </tr>\n",
       "    <tr>\n",
       "      <td>DS</td>\n",
       "      <td>804.09</td>\n",
       "    </tr>\n",
       "    <tr>\n",
       "      <td>PS</td>\n",
       "      <td>685.59</td>\n",
       "    </tr>\n",
       "    <tr>\n",
       "      <td>PS4</td>\n",
       "      <td>314.14</td>\n",
       "    </tr>\n",
       "    <tr>\n",
       "      <td>GBA</td>\n",
       "      <td>313.06</td>\n",
       "    </tr>\n",
       "    <tr>\n",
       "      <td>PSP</td>\n",
       "      <td>292.70</td>\n",
       "    </tr>\n",
       "    <tr>\n",
       "      <td>3DS</td>\n",
       "      <td>258.53</td>\n",
       "    </tr>\n",
       "  </tbody>\n",
       "</table>\n",
       "</div>"
      ],
      "text/plain": [
       "          total_sales\n",
       "platform             \n",
       "PS2           1244.20\n",
       "X360           964.99\n",
       "PS3            934.23\n",
       "Wii            902.42\n",
       "DS             804.09\n",
       "PS             685.59\n",
       "PS4            314.14\n",
       "GBA            313.06\n",
       "PSP            292.70\n",
       "3DS            258.53"
      ]
     },
     "execution_count": 21,
     "metadata": {},
     "output_type": "execute_result"
    }
   ],
   "source": [
    "df['total_sales'] = df['na_sales'] + df['eu_sales'] + df['jp_sales'] + df['other_sales']\n",
    "ds_good = df.query('year_of_release > 1995')\n",
    "ds_good.pivot_table(index=('platform'),values='total_sales',aggfunc='sum').sort_values('total_sales',ascending=False).head(10)"
   ]
  },
  {
   "cell_type": "markdown",
   "metadata": {},
   "source": [
    "Выделим пять нынешних лидеров:"
   ]
  },
  {
   "cell_type": "code",
   "execution_count": 22,
   "metadata": {},
   "outputs": [
    {
     "data": {
      "text/html": [
       "<div>\n",
       "<style scoped>\n",
       "    .dataframe tbody tr th:only-of-type {\n",
       "        vertical-align: middle;\n",
       "    }\n",
       "\n",
       "    .dataframe tbody tr th {\n",
       "        vertical-align: top;\n",
       "    }\n",
       "\n",
       "    .dataframe thead th {\n",
       "        text-align: right;\n",
       "    }\n",
       "</style>\n",
       "<table border=\"1\" class=\"dataframe\">\n",
       "  <thead>\n",
       "    <tr style=\"text-align: right;\">\n",
       "      <th></th>\n",
       "      <th>total_sales</th>\n",
       "    </tr>\n",
       "    <tr>\n",
       "      <th>platform</th>\n",
       "      <th></th>\n",
       "    </tr>\n",
       "  </thead>\n",
       "  <tbody>\n",
       "    <tr>\n",
       "      <td>PS4</td>\n",
       "      <td>288.15</td>\n",
       "    </tr>\n",
       "    <tr>\n",
       "      <td>XOne</td>\n",
       "      <td>140.36</td>\n",
       "    </tr>\n",
       "    <tr>\n",
       "      <td>3DS</td>\n",
       "      <td>86.68</td>\n",
       "    </tr>\n",
       "    <tr>\n",
       "      <td>PS3</td>\n",
       "      <td>68.18</td>\n",
       "    </tr>\n",
       "    <tr>\n",
       "      <td>X360</td>\n",
       "      <td>48.22</td>\n",
       "    </tr>\n",
       "    <tr>\n",
       "      <td>WiiU</td>\n",
       "      <td>42.98</td>\n",
       "    </tr>\n",
       "    <tr>\n",
       "      <td>PC</td>\n",
       "      <td>27.05</td>\n",
       "    </tr>\n",
       "  </tbody>\n",
       "</table>\n",
       "</div>"
      ],
      "text/plain": [
       "          total_sales\n",
       "platform             \n",
       "PS4            288.15\n",
       "XOne           140.36\n",
       "3DS             86.68\n",
       "PS3             68.18\n",
       "X360            48.22\n",
       "WiiU            42.98\n",
       "PC              27.05"
      ]
     },
     "execution_count": 22,
     "metadata": {},
     "output_type": "execute_result"
    }
   ],
   "source": [
    "ds_good = ds_good.query('year_of_release >= 2014')\n",
    "ds_good.pivot_table(index=('platform'),values='total_sales',aggfunc='sum').sort_values('total_sales',ascending=False).head(7)"
   ]
  },
  {
   "cell_type": "code",
   "execution_count": 99,
   "metadata": {},
   "outputs": [
    {
     "data": {
      "text/html": [
       "<div>\n",
       "<style scoped>\n",
       "    .dataframe tbody tr th:only-of-type {\n",
       "        vertical-align: middle;\n",
       "    }\n",
       "\n",
       "    .dataframe tbody tr th {\n",
       "        vertical-align: top;\n",
       "    }\n",
       "\n",
       "    .dataframe thead th {\n",
       "        text-align: right;\n",
       "    }\n",
       "</style>\n",
       "<table border=\"1\" class=\"dataframe\">\n",
       "  <thead>\n",
       "    <tr style=\"text-align: right;\">\n",
       "      <th></th>\n",
       "      <th>name</th>\n",
       "      <th>platform</th>\n",
       "      <th>year_of_release</th>\n",
       "      <th>genre</th>\n",
       "      <th>na_sales</th>\n",
       "      <th>eu_sales</th>\n",
       "      <th>jp_sales</th>\n",
       "      <th>other_sales</th>\n",
       "      <th>critic_score</th>\n",
       "      <th>user_score</th>\n",
       "      <th>rating</th>\n",
       "      <th>duplicated</th>\n",
       "      <th>total_sales</th>\n",
       "      <th>platform_category</th>\n",
       "      <th>genre_category</th>\n",
       "    </tr>\n",
       "  </thead>\n",
       "  <tbody>\n",
       "    <tr>\n",
       "      <td>31</td>\n",
       "      <td>Call of Duty: Black Ops 3</td>\n",
       "      <td>PS4</td>\n",
       "      <td>2015</td>\n",
       "      <td>Shooter</td>\n",
       "      <td>6.03</td>\n",
       "      <td>5.86</td>\n",
       "      <td>0.36</td>\n",
       "      <td>2.38</td>\n",
       "      <td>NaN</td>\n",
       "      <td>NaN</td>\n",
       "      <td>NaN</td>\n",
       "      <td>True</td>\n",
       "      <td>14.63</td>\n",
       "      <td>PS4</td>\n",
       "      <td>Shooter</td>\n",
       "    </tr>\n",
       "    <tr>\n",
       "      <td>42</td>\n",
       "      <td>Grand Theft Auto V</td>\n",
       "      <td>PS4</td>\n",
       "      <td>2014</td>\n",
       "      <td>Action</td>\n",
       "      <td>3.96</td>\n",
       "      <td>6.31</td>\n",
       "      <td>0.38</td>\n",
       "      <td>1.97</td>\n",
       "      <td>97</td>\n",
       "      <td>8.3</td>\n",
       "      <td>M</td>\n",
       "      <td>True</td>\n",
       "      <td>12.62</td>\n",
       "      <td>PS4</td>\n",
       "      <td>other</td>\n",
       "    </tr>\n",
       "    <tr>\n",
       "      <td>47</td>\n",
       "      <td>Pokemon Omega Ruby/Pokemon Alpha Sapphire</td>\n",
       "      <td>3DS</td>\n",
       "      <td>2014</td>\n",
       "      <td>Role-Playing</td>\n",
       "      <td>4.35</td>\n",
       "      <td>3.49</td>\n",
       "      <td>3.10</td>\n",
       "      <td>0.74</td>\n",
       "      <td>NaN</td>\n",
       "      <td>NaN</td>\n",
       "      <td>NaN</td>\n",
       "      <td>False</td>\n",
       "      <td>11.68</td>\n",
       "      <td>3DS</td>\n",
       "      <td>Role-Playing</td>\n",
       "    </tr>\n",
       "    <tr>\n",
       "      <td>77</td>\n",
       "      <td>FIFA 16</td>\n",
       "      <td>PS4</td>\n",
       "      <td>2015</td>\n",
       "      <td>Sports</td>\n",
       "      <td>1.12</td>\n",
       "      <td>6.12</td>\n",
       "      <td>0.06</td>\n",
       "      <td>1.28</td>\n",
       "      <td>82</td>\n",
       "      <td>4.3</td>\n",
       "      <td>E</td>\n",
       "      <td>True</td>\n",
       "      <td>8.58</td>\n",
       "      <td>PS4</td>\n",
       "      <td>Sports</td>\n",
       "    </tr>\n",
       "    <tr>\n",
       "      <td>87</td>\n",
       "      <td>Star Wars Battlefront (2015)</td>\n",
       "      <td>PS4</td>\n",
       "      <td>2015</td>\n",
       "      <td>Shooter</td>\n",
       "      <td>2.99</td>\n",
       "      <td>3.49</td>\n",
       "      <td>0.22</td>\n",
       "      <td>1.28</td>\n",
       "      <td>NaN</td>\n",
       "      <td>NaN</td>\n",
       "      <td>NaN</td>\n",
       "      <td>True</td>\n",
       "      <td>7.98</td>\n",
       "      <td>PS4</td>\n",
       "      <td>Shooter</td>\n",
       "    </tr>\n",
       "  </tbody>\n",
       "</table>\n",
       "</div>"
      ],
      "text/plain": [
       "                                         name platform  year_of_release  \\\n",
       "31                  Call of Duty: Black Ops 3      PS4             2015   \n",
       "42                         Grand Theft Auto V      PS4             2014   \n",
       "47  Pokemon Omega Ruby/Pokemon Alpha Sapphire      3DS             2014   \n",
       "77                                    FIFA 16      PS4             2015   \n",
       "87               Star Wars Battlefront (2015)      PS4             2015   \n",
       "\n",
       "           genre  na_sales  eu_sales  jp_sales  other_sales  critic_score  \\\n",
       "31       Shooter      6.03      5.86      0.36         2.38           NaN   \n",
       "42        Action      3.96      6.31      0.38         1.97            97   \n",
       "47  Role-Playing      4.35      3.49      3.10         0.74           NaN   \n",
       "77        Sports      1.12      6.12      0.06         1.28            82   \n",
       "87       Shooter      2.99      3.49      0.22         1.28           NaN   \n",
       "\n",
       "    user_score rating  duplicated  total_sales platform_category  \\\n",
       "31         NaN    NaN        True        14.63               PS4   \n",
       "42         8.3      M        True        12.62               PS4   \n",
       "47         NaN    NaN       False        11.68               3DS   \n",
       "77         4.3      E        True         8.58               PS4   \n",
       "87         NaN    NaN        True         7.98               PS4   \n",
       "\n",
       "   genre_category  \n",
       "31        Shooter  \n",
       "42          other  \n",
       "47   Role-Playing  \n",
       "77         Sports  \n",
       "87        Shooter  "
      ]
     },
     "execution_count": 99,
     "metadata": {},
     "output_type": "execute_result"
    }
   ],
   "source": [
    "platforms = df['platform'].unique()\n",
    "ds_good.head()"
   ]
  },
  {
   "cell_type": "code",
   "execution_count": 24,
   "metadata": {},
   "outputs": [
    {
     "data": {
      "image/png": "[encoded data removed]",
      "text/plain": [
       "<Figure size 720x216 with 1 Axes>"
      ]
     },
     "metadata": {},
     "output_type": "display_data"
    },
    {
     "data": {
      "image/png": "[encoded data removed]",
      "text/plain": [
       "<Figure size 720x216 with 1 Axes>"
      ]
     },
     "metadata": {},
     "output_type": "display_data"
    },
    {
     "data": {
      "image/png": "[encoded data removed]",
      "text/plain": [
       "<Figure size 720x216 with 1 Axes>"
      ]
     },
     "metadata": {},
     "output_type": "display_data"
    },
    {
     "data": {
      "image/png": "[encoded data removed]",
      "text/plain": [
       "<Figure size 720x216 with 1 Axes>"
      ]
     },
     "metadata": {},
     "output_type": "display_data"
    },
    {
     "data": {
      "image/png": "[encoded data removed]",
      "text/plain": [
       "<Figure size 720x216 with 1 Axes>"
      ]
     },
     "metadata": {},
     "output_type": "display_data"
    }
   ],
   "source": [
    "ds_platform_new = ds_good.pivot_table(index=('platform','year_of_release'),values='total_sales',aggfunc='sum')\n",
    "ds_platform_group_new = pd.DataFrame(ds_platform_new.to_records())\n",
    "ds_platform_index_new = ds_platform_group_new.set_index(['platform','year_of_release']).sort_index()\n",
    "\n",
    "def platform_plot_new(platform):\n",
    "    data = ds_platform_index_new.loc[platform]\n",
    "    plt.plot(data.index, data.values)\n",
    "\n",
    "platforms_new = ['PS4', 'XOne', '3DS', 'PS3', 'X360']\n",
    "\n",
    "for platform in platforms_new:\n",
    "    plt.figure(figsize = (10, 3))\n",
    "    platform_plot_new(platform)\n",
    "    plt.xlabel('years')\n",
    "    plt.ylabel('total_sales')\n",
    "    plt.title(platform)\n",
    "    plt.show()"
   ]
  },
  {
   "cell_type": "code",
   "execution_count": 141,
   "metadata": {},
   "outputs": [
    {
     "data": {
      "text/html": [
       "<div>\n",
       "<style scoped>\n",
       "    .dataframe tbody tr th:only-of-type {\n",
       "        vertical-align: middle;\n",
       "    }\n",
       "\n",
       "    .dataframe tbody tr th {\n",
       "        vertical-align: top;\n",
       "    }\n",
       "\n",
       "    .dataframe thead th {\n",
       "        text-align: right;\n",
       "    }\n",
       "</style>\n",
       "<table border=\"1\" class=\"dataframe\">\n",
       "  <thead>\n",
       "    <tr style=\"text-align: right;\">\n",
       "      <th></th>\n",
       "      <th>total_sales</th>\n",
       "      <th>year_of_release</th>\n",
       "    </tr>\n",
       "    <tr>\n",
       "      <th>platform</th>\n",
       "      <th></th>\n",
       "      <th></th>\n",
       "    </tr>\n",
       "  </thead>\n",
       "  <tbody>\n",
       "    <tr>\n",
       "      <td>PS4</td>\n",
       "      <td>288.15</td>\n",
       "      <td>757729</td>\n",
       "    </tr>\n",
       "    <tr>\n",
       "      <td>XOne</td>\n",
       "      <td>140.36</td>\n",
       "      <td>459446</td>\n",
       "    </tr>\n",
       "    <tr>\n",
       "      <td>3DS</td>\n",
       "      <td>86.68</td>\n",
       "      <td>427146</td>\n",
       "    </tr>\n",
       "    <tr>\n",
       "      <td>PS3</td>\n",
       "      <td>68.18</td>\n",
       "      <td>441215</td>\n",
       "    </tr>\n",
       "    <tr>\n",
       "      <td>X360</td>\n",
       "      <td>48.22</td>\n",
       "      <td>223615</td>\n",
       "    </tr>\n",
       "    <tr>\n",
       "      <td>WiiU</td>\n",
       "      <td>42.98</td>\n",
       "      <td>147078</td>\n",
       "    </tr>\n",
       "    <tr>\n",
       "      <td>PC</td>\n",
       "      <td>27.05</td>\n",
       "      <td>304272</td>\n",
       "    </tr>\n",
       "    <tr>\n",
       "      <td>PSV</td>\n",
       "      <td>22.40</td>\n",
       "      <td>594410</td>\n",
       "    </tr>\n",
       "    <tr>\n",
       "      <td>Wii</td>\n",
       "      <td>5.07</td>\n",
       "      <td>22160</td>\n",
       "    </tr>\n",
       "    <tr>\n",
       "      <td>PSP</td>\n",
       "      <td>0.36</td>\n",
       "      <td>26185</td>\n",
       "    </tr>\n",
       "  </tbody>\n",
       "</table>\n",
       "</div>"
      ],
      "text/plain": [
       "          total_sales  year_of_release\n",
       "platform                              \n",
       "PS4            288.15           757729\n",
       "XOne           140.36           459446\n",
       "3DS             86.68           427146\n",
       "PS3             68.18           441215\n",
       "X360            48.22           223615\n",
       "WiiU            42.98           147078\n",
       "PC              27.05           304272\n",
       "PSV             22.40           594410\n",
       "Wii              5.07            22160\n",
       "PSP              0.36            26185"
      ]
     },
     "execution_count": 141,
     "metadata": {},
     "output_type": "execute_result"
    }
   ],
   "source": [
    "ds_platform_new1 = ds_good.pivot_table(index=('platform'),\n",
    "                                       values=['year_of_release','total_sales'],aggfunc='sum').sort_values('total_sales',ascending=False)\n",
    "ds_platform_new1"
   ]
  },
  {
   "cell_type": "code",
   "execution_count": 25,
   "metadata": {},
   "outputs": [
    {
     "data": {
      "text/html": [
       "<div>\n",
       "<style scoped>\n",
       "    .dataframe tbody tr th:only-of-type {\n",
       "        vertical-align: middle;\n",
       "    }\n",
       "\n",
       "    .dataframe tbody tr th {\n",
       "        vertical-align: top;\n",
       "    }\n",
       "\n",
       "    .dataframe thead th {\n",
       "        text-align: right;\n",
       "    }\n",
       "</style>\n",
       "<table border=\"1\" class=\"dataframe\">\n",
       "  <thead>\n",
       "    <tr style=\"text-align: right;\">\n",
       "      <th></th>\n",
       "      <th>count</th>\n",
       "      <th>mean</th>\n",
       "      <th>median</th>\n",
       "      <th>sum</th>\n",
       "    </tr>\n",
       "    <tr>\n",
       "      <th>platform</th>\n",
       "      <th></th>\n",
       "      <th></th>\n",
       "      <th></th>\n",
       "      <th></th>\n",
       "    </tr>\n",
       "  </thead>\n",
       "  <tbody>\n",
       "    <tr>\n",
       "      <td>3DS</td>\n",
       "      <td>212</td>\n",
       "      <td>0.408868</td>\n",
       "      <td>0.090</td>\n",
       "      <td>86.68</td>\n",
       "    </tr>\n",
       "    <tr>\n",
       "      <td>PS3</td>\n",
       "      <td>219</td>\n",
       "      <td>0.311324</td>\n",
       "      <td>0.110</td>\n",
       "      <td>68.18</td>\n",
       "    </tr>\n",
       "    <tr>\n",
       "      <td>PS4</td>\n",
       "      <td>376</td>\n",
       "      <td>0.766356</td>\n",
       "      <td>0.185</td>\n",
       "      <td>288.15</td>\n",
       "    </tr>\n",
       "    <tr>\n",
       "      <td>X360</td>\n",
       "      <td>111</td>\n",
       "      <td>0.434414</td>\n",
       "      <td>0.180</td>\n",
       "      <td>48.22</td>\n",
       "    </tr>\n",
       "    <tr>\n",
       "      <td>XOne</td>\n",
       "      <td>228</td>\n",
       "      <td>0.615614</td>\n",
       "      <td>0.205</td>\n",
       "      <td>140.36</td>\n",
       "    </tr>\n",
       "  </tbody>\n",
       "</table>\n",
       "</div>"
      ],
      "text/plain": [
       "          count      mean  median     sum\n",
       "platform                                 \n",
       "3DS         212  0.408868   0.090   86.68\n",
       "PS3         219  0.311324   0.110   68.18\n",
       "PS4         376  0.766356   0.185  288.15\n",
       "X360        111  0.434414   0.180   48.22\n",
       "XOne        228  0.615614   0.205  140.36"
      ]
     },
     "execution_count": 25,
     "metadata": {},
     "output_type": "execute_result"
    },
    {
     "data": {
      "image/png": "[encoded data removed]",
      "text/plain": [
       "<Figure size 504x360 with 1 Axes>"
      ]
     },
     "metadata": {},
     "output_type": "display_data"
    }
   ],
   "source": [
    "plt.figure(figsize = (7, 5))\n",
    "ax = sns.boxplot(x=\"platform\", y=\"total_sales\", data=ds_good.query('platform in (\"PS4\",\"XOne\",\"3DS\", \"PS3\", \"X360\")'),showfliers = False)\n",
    "plt.title('Distribution of total sales between platforms')\n",
    "\n",
    "ds_good.query('platform in (\"PS4\",\"XOne\",\"3DS\", \"PS3\", \"X360\")').pivot_table(index='platform',values='total_sales',aggfunc=('mean','sum','count','median'))"
   ]
  },
  {
   "cell_type": "markdown",
   "metadata": {},
   "source": [
    "Conclusion on sales trends by platform:\n",
    "\n",
    "\n",
    "Obviously, the data during 2016 is incomplete. For example, the most popular platforms PS4 and XOne show a negative slope, the reason being, for instance,an unclosed fiscal year."
   ]
  },
  {
   "cell_type": "markdown",
   "metadata": {},
   "source": [
    "### Analysis of the impact of user feedback and critics"
   ]
  },
  {
   "cell_type": "code",
   "execution_count": 26,
   "metadata": {},
   "outputs": [
    {
     "data": {
      "text/plain": [
       "Text(0.5, 1.08, 'Your Title')"
      ]
     },
     "execution_count": 26,
     "metadata": {},
     "output_type": "execute_result"
    },
    {
     "data": {
      "image/png": "[encoded data removed]",
      "text/plain": [
       "<Figure size 603.125x540 with 12 Axes>"
      ]
     },
     "metadata": {},
     "output_type": "display_data"
    }
   ],
   "source": [
    "ds_good_stat = (\n",
    "    ds_good.loc[:,['platform', 'total_sales', 'critic_score','user_score']]\n",
    "    .query('critic_score>0 and user_score>0')\n",
    ")\n",
    "\n",
    "g = sns.pairplot(ds_good_stat.query('platform in (\"PS4\",\"XOne\",\"3DS\",\"PS3\", \"X360\")'), hue='platform')\n",
    "g.fig.suptitle(\"Your Title\", y=1.08)"
   ]
  },
  {
   "cell_type": "code",
   "execution_count": 27,
   "metadata": {},
   "outputs": [
    {
     "data": {
      "text/html": [
       "<div>\n",
       "<style scoped>\n",
       "    .dataframe tbody tr th:only-of-type {\n",
       "        vertical-align: middle;\n",
       "    }\n",
       "\n",
       "    .dataframe tbody tr th {\n",
       "        vertical-align: top;\n",
       "    }\n",
       "\n",
       "    .dataframe thead th {\n",
       "        text-align: right;\n",
       "    }\n",
       "</style>\n",
       "<table border=\"1\" class=\"dataframe\">\n",
       "  <thead>\n",
       "    <tr style=\"text-align: right;\">\n",
       "      <th></th>\n",
       "      <th>total_sales</th>\n",
       "      <th>critic_score</th>\n",
       "      <th>user_score</th>\n",
       "    </tr>\n",
       "  </thead>\n",
       "  <tbody>\n",
       "    <tr>\n",
       "      <td>total_sales</td>\n",
       "      <td>1.0</td>\n",
       "      <td>0.518168</td>\n",
       "      <td>0.019531</td>\n",
       "    </tr>\n",
       "  </tbody>\n",
       "</table>\n",
       "</div>"
      ],
      "text/plain": [
       "             total_sales  critic_score  user_score\n",
       "total_sales          1.0      0.518168    0.019531"
      ]
     },
     "execution_count": 27,
     "metadata": {},
     "output_type": "execute_result"
    }
   ],
   "source": [
    "ds_good_stat.query('platform == \"PS4\"').corr(method='spearman').head(1)"
   ]
  },
  {
   "cell_type": "code",
   "execution_count": 28,
   "metadata": {},
   "outputs": [
    {
     "data": {
      "text/html": [
       "<div>\n",
       "<style scoped>\n",
       "    .dataframe tbody tr th:only-of-type {\n",
       "        vertical-align: middle;\n",
       "    }\n",
       "\n",
       "    .dataframe tbody tr th {\n",
       "        vertical-align: top;\n",
       "    }\n",
       "\n",
       "    .dataframe thead th {\n",
       "        text-align: right;\n",
       "    }\n",
       "</style>\n",
       "<table border=\"1\" class=\"dataframe\">\n",
       "  <thead>\n",
       "    <tr style=\"text-align: right;\">\n",
       "      <th></th>\n",
       "      <th>total_sales</th>\n",
       "      <th>critic_score</th>\n",
       "      <th>user_score</th>\n",
       "    </tr>\n",
       "  </thead>\n",
       "  <tbody>\n",
       "    <tr>\n",
       "      <td>total_sales</td>\n",
       "      <td>1.0</td>\n",
       "      <td>0.481602</td>\n",
       "      <td>-0.131082</td>\n",
       "    </tr>\n",
       "  </tbody>\n",
       "</table>\n",
       "</div>"
      ],
      "text/plain": [
       "             total_sales  critic_score  user_score\n",
       "total_sales          1.0      0.481602   -0.131082"
      ]
     },
     "execution_count": 28,
     "metadata": {},
     "output_type": "execute_result"
    }
   ],
   "source": [
    "ds_good_stat.query('platform == \"XOne\"').corr(method='spearman').head(1)"
   ]
  },
  {
   "cell_type": "code",
   "execution_count": 29,
   "metadata": {},
   "outputs": [
    {
     "data": {
      "text/html": [
       "<div>\n",
       "<style scoped>\n",
       "    .dataframe tbody tr th:only-of-type {\n",
       "        vertical-align: middle;\n",
       "    }\n",
       "\n",
       "    .dataframe tbody tr th {\n",
       "        vertical-align: top;\n",
       "    }\n",
       "\n",
       "    .dataframe thead th {\n",
       "        text-align: right;\n",
       "    }\n",
       "</style>\n",
       "<table border=\"1\" class=\"dataframe\">\n",
       "  <thead>\n",
       "    <tr style=\"text-align: right;\">\n",
       "      <th></th>\n",
       "      <th>total_sales</th>\n",
       "      <th>critic_score</th>\n",
       "      <th>user_score</th>\n",
       "    </tr>\n",
       "  </thead>\n",
       "  <tbody>\n",
       "    <tr>\n",
       "      <td>total_sales</td>\n",
       "      <td>1.0</td>\n",
       "      <td>0.29854</td>\n",
       "      <td>0.211263</td>\n",
       "    </tr>\n",
       "  </tbody>\n",
       "</table>\n",
       "</div>"
      ],
      "text/plain": [
       "             total_sales  critic_score  user_score\n",
       "total_sales          1.0       0.29854    0.211263"
      ]
     },
     "execution_count": 29,
     "metadata": {},
     "output_type": "execute_result"
    }
   ],
   "source": [
    "ds_good_stat.query('platform == \"3DS\"').corr(method='spearman').head(1)"
   ]
  },
  {
   "cell_type": "code",
   "execution_count": 30,
   "metadata": {},
   "outputs": [
    {
     "data": {
      "text/html": [
       "<div>\n",
       "<style scoped>\n",
       "    .dataframe tbody tr th:only-of-type {\n",
       "        vertical-align: middle;\n",
       "    }\n",
       "\n",
       "    .dataframe tbody tr th {\n",
       "        vertical-align: top;\n",
       "    }\n",
       "\n",
       "    .dataframe thead th {\n",
       "        text-align: right;\n",
       "    }\n",
       "</style>\n",
       "<table border=\"1\" class=\"dataframe\">\n",
       "  <thead>\n",
       "    <tr style=\"text-align: right;\">\n",
       "      <th></th>\n",
       "      <th>total_sales</th>\n",
       "      <th>critic_score</th>\n",
       "      <th>user_score</th>\n",
       "    </tr>\n",
       "  </thead>\n",
       "  <tbody>\n",
       "    <tr>\n",
       "      <td>total_sales</td>\n",
       "      <td>1.0</td>\n",
       "      <td>0.474042</td>\n",
       "      <td>-0.017362</td>\n",
       "    </tr>\n",
       "  </tbody>\n",
       "</table>\n",
       "</div>"
      ],
      "text/plain": [
       "             total_sales  critic_score  user_score\n",
       "total_sales          1.0      0.474042   -0.017362"
      ]
     },
     "execution_count": 30,
     "metadata": {},
     "output_type": "execute_result"
    }
   ],
   "source": [
    "ds_good_stat.query('platform == \"PS3\"').corr(method='spearman').head(1)"
   ]
  },
  {
   "cell_type": "code",
   "execution_count": 31,
   "metadata": {},
   "outputs": [
    {
     "data": {
      "text/html": [
       "<div>\n",
       "<style scoped>\n",
       "    .dataframe tbody tr th:only-of-type {\n",
       "        vertical-align: middle;\n",
       "    }\n",
       "\n",
       "    .dataframe tbody tr th {\n",
       "        vertical-align: top;\n",
       "    }\n",
       "\n",
       "    .dataframe thead th {\n",
       "        text-align: right;\n",
       "    }\n",
       "</style>\n",
       "<table border=\"1\" class=\"dataframe\">\n",
       "  <thead>\n",
       "    <tr style=\"text-align: right;\">\n",
       "      <th></th>\n",
       "      <th>total_sales</th>\n",
       "      <th>critic_score</th>\n",
       "      <th>user_score</th>\n",
       "    </tr>\n",
       "  </thead>\n",
       "  <tbody>\n",
       "    <tr>\n",
       "      <td>total_sales</td>\n",
       "      <td>1.0</td>\n",
       "      <td>0.405579</td>\n",
       "      <td>0.013483</td>\n",
       "    </tr>\n",
       "  </tbody>\n",
       "</table>\n",
       "</div>"
      ],
      "text/plain": [
       "             total_sales  critic_score  user_score\n",
       "total_sales          1.0      0.405579    0.013483"
      ]
     },
     "execution_count": 31,
     "metadata": {},
     "output_type": "execute_result"
    }
   ],
   "source": [
    "ds_good_stat.query('platform == \"X360\"').corr(method='spearman').head(1)"
   ]
  },
  {
   "cell_type": "code",
   "execution_count": null,
   "metadata": {},
   "outputs": [],
   "source": []
  },
  {
   "cell_type": "markdown",
   "metadata": {},
   "source": [
    "Conclusion on the distribution of sales across platforms:\n",
    "\n",
    "Based on the scatter charts and correlation results, we can conclude that the influence of critics' reviews has an average impact on sales volumes. It was not possible to find a correlation between user reviews and sales because the charts clearly show that fairly average games according to gamers can have fairly high sales and vice versa."
   ]
  },
  {
   "cell_type": "markdown",
   "metadata": {},
   "source": [
    "### Анализ распределения игр по жанрам"
   ]
  },
  {
   "cell_type": "code",
   "execution_count": 32,
   "metadata": {},
   "outputs": [
    {
     "data": {
      "text/html": [
       "<div>\n",
       "<style scoped>\n",
       "    .dataframe tbody tr th:only-of-type {\n",
       "        vertical-align: middle;\n",
       "    }\n",
       "\n",
       "    .dataframe tbody tr th {\n",
       "        vertical-align: top;\n",
       "    }\n",
       "\n",
       "    .dataframe thead th {\n",
       "        text-align: right;\n",
       "    }\n",
       "</style>\n",
       "<table border=\"1\" class=\"dataframe\">\n",
       "  <thead>\n",
       "    <tr style=\"text-align: right;\">\n",
       "      <th></th>\n",
       "      <th>count</th>\n",
       "      <th>mean</th>\n",
       "      <th>median</th>\n",
       "      <th>sum</th>\n",
       "    </tr>\n",
       "    <tr>\n",
       "      <th>genre</th>\n",
       "      <th></th>\n",
       "      <th></th>\n",
       "      <th></th>\n",
       "      <th></th>\n",
       "    </tr>\n",
       "  </thead>\n",
       "  <tbody>\n",
       "    <tr>\n",
       "      <td>Action</td>\n",
       "      <td>619</td>\n",
       "      <td>0.322068</td>\n",
       "      <td>0.090</td>\n",
       "      <td>199.36</td>\n",
       "    </tr>\n",
       "    <tr>\n",
       "      <td>Shooter</td>\n",
       "      <td>128</td>\n",
       "      <td>1.335469</td>\n",
       "      <td>0.515</td>\n",
       "      <td>170.94</td>\n",
       "    </tr>\n",
       "    <tr>\n",
       "      <td>Sports</td>\n",
       "      <td>161</td>\n",
       "      <td>0.680000</td>\n",
       "      <td>0.180</td>\n",
       "      <td>109.48</td>\n",
       "    </tr>\n",
       "    <tr>\n",
       "      <td>Role-Playing</td>\n",
       "      <td>221</td>\n",
       "      <td>0.459005</td>\n",
       "      <td>0.110</td>\n",
       "      <td>101.44</td>\n",
       "    </tr>\n",
       "    <tr>\n",
       "      <td>Misc</td>\n",
       "      <td>113</td>\n",
       "      <td>0.332301</td>\n",
       "      <td>0.090</td>\n",
       "      <td>37.55</td>\n",
       "    </tr>\n",
       "    <tr>\n",
       "      <td>Fighting</td>\n",
       "      <td>60</td>\n",
       "      <td>0.470333</td>\n",
       "      <td>0.125</td>\n",
       "      <td>28.22</td>\n",
       "    </tr>\n",
       "    <tr>\n",
       "      <td>Racing</td>\n",
       "      <td>69</td>\n",
       "      <td>0.398841</td>\n",
       "      <td>0.090</td>\n",
       "      <td>27.52</td>\n",
       "    </tr>\n",
       "    <tr>\n",
       "      <td>Platform</td>\n",
       "      <td>38</td>\n",
       "      <td>0.476053</td>\n",
       "      <td>0.140</td>\n",
       "      <td>18.09</td>\n",
       "    </tr>\n",
       "    <tr>\n",
       "      <td>Adventure</td>\n",
       "      <td>185</td>\n",
       "      <td>0.094865</td>\n",
       "      <td>0.030</td>\n",
       "      <td>17.55</td>\n",
       "    </tr>\n",
       "    <tr>\n",
       "      <td>Simulation</td>\n",
       "      <td>44</td>\n",
       "      <td>0.298409</td>\n",
       "      <td>0.100</td>\n",
       "      <td>13.13</td>\n",
       "    </tr>\n",
       "    <tr>\n",
       "      <td>Strategy</td>\n",
       "      <td>37</td>\n",
       "      <td>0.107027</td>\n",
       "      <td>0.060</td>\n",
       "      <td>3.96</td>\n",
       "    </tr>\n",
       "    <tr>\n",
       "      <td>Puzzle</td>\n",
       "      <td>14</td>\n",
       "      <td>0.157857</td>\n",
       "      <td>0.045</td>\n",
       "      <td>2.21</td>\n",
       "    </tr>\n",
       "  </tbody>\n",
       "</table>\n",
       "</div>"
      ],
      "text/plain": [
       "              count      mean  median     sum\n",
       "genre                                        \n",
       "Action          619  0.322068   0.090  199.36\n",
       "Shooter         128  1.335469   0.515  170.94\n",
       "Sports          161  0.680000   0.180  109.48\n",
       "Role-Playing    221  0.459005   0.110  101.44\n",
       "Misc            113  0.332301   0.090   37.55\n",
       "Fighting         60  0.470333   0.125   28.22\n",
       "Racing           69  0.398841   0.090   27.52\n",
       "Platform         38  0.476053   0.140   18.09\n",
       "Adventure       185  0.094865   0.030   17.55\n",
       "Simulation       44  0.298409   0.100   13.13\n",
       "Strategy         37  0.107027   0.060    3.96\n",
       "Puzzle           14  0.157857   0.045    2.21"
      ]
     },
     "execution_count": 32,
     "metadata": {},
     "output_type": "execute_result"
    }
   ],
   "source": [
    "ds_good.pivot_table(index='genre',values='total_sales',\n",
    "                    aggfunc=('sum','count','mean','median')).sort_values('sum',ascending=False)"
   ]
  },
  {
   "cell_type": "code",
   "execution_count": 33,
   "metadata": {
    "scrolled": true
   },
   "outputs": [
    {
     "data": {
      "image/png": "[encoded data removed]",
      "text/plain": [
       "<Figure size 1008x432 with 1 Axes>"
      ]
     },
     "metadata": {},
     "output_type": "display_data"
    }
   ],
   "source": [
    "plt.figure(figsize = (14, 6))\n",
    "ax = sns.boxplot(x=\"genre\", y=\"total_sales\", data=ds_good,showfliers = False)\n",
    "plt.title('Distribution of total sales between genres');"
   ]
  },
  {
   "cell_type": "markdown",
   "metadata": {},
   "source": [
    "Most commercially profitable genres are Shooter, Sports, Platform, since the median, average and distribution in general indicate that games in these genres usually have a good commercial success. As for the Action genre, it is not so clear-cut, there are a huge number of games in this genre, which means that the competition is higher and the average/median values are on a lower level.\n",
    "\n",
    "Obvious outsiders are such genres as adventure, strategy and puzzle"
   ]
  },
  {
   "cell_type": "markdown",
   "metadata": {},
   "source": [
    "## User portraits by region"
   ]
  },
  {
   "cell_type": "markdown",
   "metadata": {},
   "source": [
    "### Top 5 platforms by region NA, EU, JP"
   ]
  },
  {
   "cell_type": "code",
   "execution_count": 88,
   "metadata": {},
   "outputs": [
    {
     "name": "stdout",
     "output_type": "stream",
     "text": [
      "          na_sales\n",
      "platform          \n",
      "PS4          98.61\n",
      "XOne         81.27\n",
      "X360         28.30\n",
      "3DS          22.64\n",
      "PS3          22.05\n",
      "          eu_sales\n",
      "platform          \n",
      "PS4         130.04\n",
      "XOne         46.25\n",
      "PS3          25.54\n",
      "PC           17.97\n",
      "3DS          16.12\n",
      "          jp_sales\n",
      "platform          \n",
      "3DS          44.24\n",
      "PS4          15.02\n",
      "PSV          14.54\n",
      "PS3          11.22\n",
      "WiiU          7.31\n"
     ]
    }
   ],
   "source": [
    "region_sales = ['na_sales','eu_sales','jp_sales']\n",
    "for reg_sale in region_sales:\n",
    "    sales_by_region = ds_good.pivot_table(index='platform',values = reg_sale,aggfunc='sum').sort_values(by=reg_sale,ascending=False).head(5)\n",
    "    print(sales_by_region)"
   ]
  },
  {
   "cell_type": "code",
   "execution_count": 35,
   "metadata": {},
   "outputs": [
    {
     "data": {
      "text/html": [
       "<div>\n",
       "<style scoped>\n",
       "    .dataframe tbody tr th:only-of-type {\n",
       "        vertical-align: middle;\n",
       "    }\n",
       "\n",
       "    .dataframe tbody tr th {\n",
       "        vertical-align: top;\n",
       "    }\n",
       "\n",
       "    .dataframe thead th {\n",
       "        text-align: right;\n",
       "    }\n",
       "</style>\n",
       "<table border=\"1\" class=\"dataframe\">\n",
       "  <thead>\n",
       "    <tr style=\"text-align: right;\">\n",
       "      <th></th>\n",
       "      <th>platform</th>\n",
       "      <th>na_sales</th>\n",
       "      <th>platform</th>\n",
       "      <th>eu_sales</th>\n",
       "      <th>platform</th>\n",
       "      <th>jp_sales</th>\n",
       "    </tr>\n",
       "  </thead>\n",
       "  <tbody>\n",
       "    <tr>\n",
       "      <td>0</td>\n",
       "      <td>PS4</td>\n",
       "      <td>98.61</td>\n",
       "      <td>PS4</td>\n",
       "      <td>130.04</td>\n",
       "      <td>3DS</td>\n",
       "      <td>44.24</td>\n",
       "    </tr>\n",
       "    <tr>\n",
       "      <td>1</td>\n",
       "      <td>XOne</td>\n",
       "      <td>81.27</td>\n",
       "      <td>XOne</td>\n",
       "      <td>46.25</td>\n",
       "      <td>PS4</td>\n",
       "      <td>15.02</td>\n",
       "    </tr>\n",
       "    <tr>\n",
       "      <td>2</td>\n",
       "      <td>X360</td>\n",
       "      <td>28.30</td>\n",
       "      <td>PS3</td>\n",
       "      <td>25.54</td>\n",
       "      <td>PSV</td>\n",
       "      <td>14.54</td>\n",
       "    </tr>\n",
       "    <tr>\n",
       "      <td>3</td>\n",
       "      <td>3DS</td>\n",
       "      <td>22.64</td>\n",
       "      <td>PC</td>\n",
       "      <td>17.97</td>\n",
       "      <td>PS3</td>\n",
       "      <td>11.22</td>\n",
       "    </tr>\n",
       "    <tr>\n",
       "      <td>4</td>\n",
       "      <td>PS3</td>\n",
       "      <td>22.05</td>\n",
       "      <td>3DS</td>\n",
       "      <td>16.12</td>\n",
       "      <td>WiiU</td>\n",
       "      <td>7.31</td>\n",
       "    </tr>\n",
       "  </tbody>\n",
       "</table>\n",
       "</div>"
      ],
      "text/plain": [
       "  platform  na_sales platform  eu_sales platform  jp_sales\n",
       "0      PS4     98.61      PS4    130.04      3DS     44.24\n",
       "1     XOne     81.27     XOne     46.25      PS4     15.02\n",
       "2     X360     28.30      PS3     25.54      PSV     14.54\n",
       "3      3DS     22.64       PC     17.97      PS3     11.22\n",
       "4      PS3     22.05      3DS     16.12     WiiU      7.31"
      ]
     },
     "execution_count": 35,
     "metadata": {},
     "output_type": "execute_result"
    }
   ],
   "source": [
    "region_sales = ['na_sales','eu_sales','jp_sales']\n",
    "l = []\n",
    "for reg_sale in region_sales:\n",
    "    sales_by_region = ds_good.pivot_table(index='platform',values = reg_sale,aggfunc='sum').sort_values(by=reg_sale,ascending=False).head(5)\n",
    "    l.append(sales_by_region.reset_index())\n",
    "    \n",
    "pd.concat(l, axis=1)"
   ]
  },
  {
   "cell_type": "code",
   "execution_count": 36,
   "metadata": {},
   "outputs": [],
   "source": [
    "top_platform = [\"X360\",\"PS4\",\"PS3\",\"XOne\",\"3DS\"]\n",
    "\n",
    "def platform_category(row):\n",
    "    platform = row['platform']\n",
    "    \n",
    "    if platform in top_platform:\n",
    "        return platform\n",
    "    else:\n",
    "        return 'other'\n",
    "\n",
    "ds_good['platform_category'] = ds_good.apply(platform_category, axis=1)"
   ]
  },
  {
   "cell_type": "code",
   "execution_count": 86,
   "metadata": {},
   "outputs": [
    {
     "data": {
      "image/png": "[encoded data removed]",
      "text/plain": [
       "<Figure size 1224x432 with 3 Axes>"
      ]
     },
     "metadata": {},
     "output_type": "display_data"
    }
   ],
   "source": [
    "plt.figure(figsize=(17, 6))\n",
    "for i, region in enumerate(region_sales):\n",
    "    plt.subplot(1, 3, i + 1)\n",
    "    sales_by_region = ds_good.pivot_table(\n",
    "        index='platform_category',values = region, aggfunc='sum')\n",
    "    colors = ['#ff9999','#66b3ff','#99ff99','#ffcc99', '#ffbb22', '#ff2299', '#66b8ff', '#ff7777', ]\n",
    "    plt.pie(sales_by_region.values.flatten(), startangle=60, labels=sales_by_region.index, colors=colors,autopct='%1.0f%%')\n",
    "    plt.title(region)\n",
    "plt.legend(loc=\"lower right\",ncol=4)\n",
    "plt.show()"
   ]
  },
  {
   "cell_type": "markdown",
   "metadata": {},
   "source": [
    "Conclusion on the distribution of popular platforms among countries\n",
    "\n",
    "Interestingly, the demand for games in North America and Europe is similar. \n",
    "\n",
    "The first place is taken by PS4 with a big lead over other platforms by 6% or more. This love of Europeans to Sony can be explained by strong marketing campaign and the presence of good exclusives. Second is XOne as well outperforming the remaining platforms by 8% or more. The other platforms are in about the same demand. \n",
    "\n",
    "On the Japanese market we see a completely different distribution of users' priorities and the first place is taken by 3DS (48%), with Sony products coming in second and third. It is noteworthy that other games take almost a quarter of this sample. Such love for 3DS mobile platforms can be explained by cultural features and preferences of players."
   ]
  },
  {
   "cell_type": "markdown",
   "metadata": {},
   "source": [
    "### Top 3 Genres by Region NA, EU, JP"
   ]
  },
  {
   "cell_type": "code",
   "execution_count": 38,
   "metadata": {},
   "outputs": [
    {
     "name": "stdout",
     "output_type": "stream",
     "text": [
      "         na_sales\n",
      "genre            \n",
      "Shooter     79.02\n",
      "Action      72.53\n",
      "Sports      46.13\n",
      "         eu_sales\n",
      "genre            \n",
      "Action      74.68\n",
      "Shooter     65.52\n",
      "Sports      45.73\n",
      "              jp_sales\n",
      "genre                 \n",
      "Role-Playing     31.16\n",
      "Action           29.58\n",
      "Fighting          6.37\n"
     ]
    }
   ],
   "source": [
    "for reg_sale in region_sales:\n",
    "    sales_by_region = ds_good.pivot_table(index='genre',values = reg_sale,aggfunc='sum').sort_values(by=reg_sale,ascending=False).head(3)\n",
    "    print(sales_by_region)"
   ]
  },
  {
   "cell_type": "code",
   "execution_count": 39,
   "metadata": {},
   "outputs": [],
   "source": [
    "top_genre = [\"Platform\", \"Shooter\",\"Sports\",\"Role-Playing\"]\n",
    "\n",
    "def genre_category(row):\n",
    "    genre = row['genre']\n",
    "    \n",
    "    if genre in top_genre:\n",
    "        return genre\n",
    "    else:\n",
    "        return 'other'\n",
    "\n",
    "ds_good['genre_category'] = ds_good.apply(genre_category, axis=1)"
   ]
  },
  {
   "cell_type": "code",
   "execution_count": 87,
   "metadata": {},
   "outputs": [
    {
     "data": {
      "image/png": "[encoded data removed]",
      "text/plain": [
       "<Figure size 1224x432 with 3 Axes>"
      ]
     },
     "metadata": {},
     "output_type": "display_data"
    }
   ],
   "source": [
    "plt.figure(figsize=(17, 6))\n",
    "for i, region in enumerate(region_sales):\n",
    "    plt.subplot(1, 3, i + 1)\n",
    "    sales_by_region = ds_good.pivot_table(\n",
    "        index='genre_category',values = region, aggfunc='sum')\n",
    "    colors = ['#ff9999','#66b3ff','#99ff99','#ffcc99', '#ffbb22', '#ff2299', '#66b8ff', '#ff7777', '#bb7777']\n",
    "    plt.pie(sales_by_region.values.flatten(), startangle=60, labels=sales_by_region.index, colors=colors,autopct='%1.0f%%')\n",
    "    plt.title(region)\n",
    "plt.legend(loc=\"lower right\",ncol=4)\n",
    "plt.show()"
   ]
  },
  {
   "cell_type": "markdown",
   "metadata": {},
   "source": [
    "Conclusion on the distribution of popular genres between countries:\n",
    "\n",
    "Once again we can see that genre preferences between European and North American gamers are as close as possible to each other.\n",
    "\n",
    "Japanese gamers have stood out with their choice of genres. Absolute leadership gets Role-Playing and it is not surprising, as the Japanese masters of games in this genre. In turn, the leader among the EU and NA here is only second place."
   ]
  },
  {
   "cell_type": "markdown",
   "metadata": {},
   "source": [
    "### Impact of ESRB rating by region"
   ]
  },
  {
   "cell_type": "code",
   "execution_count": 41,
   "metadata": {},
   "outputs": [
    {
     "data": {
      "text/plain": [
       "array([nan, 'M', 'E', 'T', 'E10+'], dtype=object)"
      ]
     },
     "execution_count": 41,
     "metadata": {},
     "output_type": "execute_result"
    }
   ],
   "source": [
    "ds_good_esrb = (ds_good.loc[:,['na_sales','eu_sales','jp_sales','rating', 'total_sales']].query('rating != \"Absent\"'))\n",
    "ds_good_esrb['rating'].unique()"
   ]
  },
  {
   "cell_type": "code",
   "execution_count": 42,
   "metadata": {},
   "outputs": [
    {
     "data": {
      "text/plain": [
       "array(['n/a', 'M', 'E', 'T', 'E10+'], dtype=object)"
      ]
     },
     "execution_count": 42,
     "metadata": {},
     "output_type": "execute_result"
    }
   ],
   "source": [
    "ds_good_esrb['rating'].fillna('n/a', inplace=True)\n",
    "ds_good_esrb['rating'].unique()"
   ]
  },
  {
   "cell_type": "markdown",
   "metadata": {},
   "source": [
    "0 - «E» («Everyone») \n",
    "\n",
    "1 - «E10+» («Everyone 10 and older») \n",
    "\n",
    "2 - «T» («Teen»)\n",
    "\n",
    "3 - «M» («Mature»)\n",
    "\n",
    "4 - «n/a»"
   ]
  },
  {
   "cell_type": "code",
   "execution_count": 43,
   "metadata": {},
   "outputs": [
    {
     "data": {
      "image/png": "[encoded data removed]",
      "text/plain": [
       "<Figure size 720x216 with 1 Axes>"
      ]
     },
     "metadata": {},
     "output_type": "display_data"
    }
   ],
   "source": [
    "plt.figure(figsize = (10, 3))\n",
    "ax = sns.boxplot(x=\"rating\", y=\"na_sales\", data=ds_good_esrb,showfliers = False)\n",
    "plt.title('Distribution of total sales between genres');"
   ]
  },
  {
   "cell_type": "code",
   "execution_count": 44,
   "metadata": {},
   "outputs": [
    {
     "data": {
      "image/png": "[encoded data removed]",
      "text/plain": [
       "<Figure size 720x216 with 1 Axes>"
      ]
     },
     "metadata": {},
     "output_type": "display_data"
    }
   ],
   "source": [
    "plt.figure(figsize = (10, 3))\n",
    "ax = sns.boxplot(x=\"rating\", y=\"eu_sales\", data=ds_good_esrb,showfliers = False)\n",
    "plt.title('Distribution of total sales between genres');"
   ]
  },
  {
   "cell_type": "code",
   "execution_count": 45,
   "metadata": {},
   "outputs": [
    {
     "data": {
      "image/png": "[encoded data removed]",
      "text/plain": [
       "<Figure size 720x216 with 1 Axes>"
      ]
     },
     "metadata": {},
     "output_type": "display_data"
    }
   ],
   "source": [
    "plt.figure(figsize = (10, 3))\n",
    "ax = sns.boxplot(x=\"rating\", y=\"jp_sales\", data=ds_good_esrb,showfliers = False)\n",
    "plt.title('Distribution of total sales between genres');"
   ]
  },
  {
   "cell_type": "markdown",
   "metadata": {},
   "source": [
    "Conclusion on the impact of the ESRB on sales in different countries\n",
    "\n",
    "As we can see from the scatter charts, games with a high age limit are the leaders in high sales in Europe and North America, which cannot be said about Japan, where gamers prefer games with no age limit, in addition, almost all the missing values gathered exactly in the Japanese data, which most likely means any age."
   ]
  },
  {
   "cell_type": "markdown",
   "metadata": {},
   "source": [
    "## Проверка гипотез"
   ]
  },
  {
   "cell_type": "code",
   "execution_count": 46,
   "metadata": {},
   "outputs": [],
   "source": [
    "df_xone = df.query('platform == \"XOne\" and user_score > 0 and year_of_release >= 2014')\n",
    "df_xone = df_xone['user_score']\n",
    "\n",
    "df_pc = df.query('platform == \"PC\" and user_score > 0 and year_of_release >= 2014')\n",
    "df_pc = df_pc['user_score']\n",
    "\n",
    "df_action = df.query('genre == \"Action\" and user_score > 0 and year_of_release >= 2014')\n",
    "df_action = df_action['user_score']\n",
    "\n",
    "df_sports = df.query('genre == \"Sports\" and user_score > 0 and year_of_release >= 2014')\n",
    "df_sports = df_sports['user_score']"
   ]
  },
  {
   "cell_type": "markdown",
   "metadata": {},
   "source": [
    "**Test Hypothesis 1 - Average user ratings for Xbox One and PC platforms are the same**\n",
    "\n",
    "H₀ - The average user ratings for Xbox One and PC platforms are equal\n",
    "\n",
    "H₁ - The average user ratings on Xbox One and PC platforms are different\n",
    "\n",
    "We use a two-sided T-test to test this, as the average can be shifted both to the right and to the left."
   ]
  },
  {
   "cell_type": "code",
   "execution_count": 47,
   "metadata": {},
   "outputs": [
    {
     "name": "stdout",
     "output_type": "stream",
     "text": [
      "Средний пользовательский рейтинг Xone:7\n",
      "Средний пользовательский рейтинг PC:7\n",
      "p-значение: 0.0494928496978963\n",
      "Отвергаем нулевую гипотезу\n"
     ]
    }
   ],
   "source": [
    "alpha = 0.05\n",
    "\n",
    "results = st.ttest_ind(\n",
    "    df_xone, \n",
    "    df_pc, \n",
    "    equal_var = True)\n",
    "\n",
    "print('Average user rating Xone:{}'.format(math.ceil(df_xone.mean())))\n",
    "print('Average user rating PC:{}'.format(math.ceil(df_pc.mean())))\n",
    "\n",
    "print('p-value:', results.pvalue)\n",
    "\n",
    "if (results.pvalue < alpha):\n",
    "    print(\"Rejecting the null hypothesis\")\n",
    "else:\n",
    "    print(\"Failing to reject the null hypothesis\")"
   ]
  },
  {
   "cell_type": "markdown",
   "metadata": {},
   "source": [
    "Conclusion:\n",
    "\n",
    "Thus, rejecting the null hypothesis (we used p-value for comparison), we say that the differences in the mean between the samples are statistically significant with 5% probability."
   ]
  },
  {
   "cell_type": "markdown",
   "metadata": {},
   "source": [
    "**Hypothesis 2 - Average user ratings are different for the Action and Sports genres**.\n",
    "\n",
    "H₀ - Average user ratings by genre Action и Sports are equal\n",
    "\n",
    "H₁ - Average user ratings by genre  Action и Sports are diffrent\n",
    "\n",
    "Using a two-sided T-test to check, since the average can be shifted both to the right and to the left."
   ]
  },
  {
   "cell_type": "code",
   "execution_count": 48,
   "metadata": {},
   "outputs": [
    {
     "name": "stdout",
     "output_type": "stream",
     "text": [
      "Средний пользовательский рейтинг Action:7\n",
      "Средний пользовательский рейтинг Sports:6\n",
      "p-значение: 1.4971792162188088e-20\n",
      "Отвергаем нулевую гипотезу\n"
     ]
    }
   ],
   "source": [
    "alpha = 0.05\n",
    "\n",
    "results = st.ttest_ind(\n",
    "    df_action, \n",
    "    df_sports,\n",
    "    equal_var = True)\n",
    "\n",
    "print('Average user rating Action:{}'.format(math.ceil(df_action.mean())))\n",
    "print('Average user rating Sports:{}'.format(math.ceil(df_sports.mean())))\n",
    "\n",
    "print('p-value:', results.pvalue)\n",
    "\n",
    "if (results.pvalue < alpha):\n",
    "    print(\"Rejecting the null hypothesis\")\n",
    "else:\n",
    "    print(\"Failing to reject the null hypothesis\")"
   ]
  },
  {
   "cell_type": "markdown",
   "metadata": {},
   "source": [
    "Conclusion:\n",
    "\n",
    "At a given level of statistical significance of 5%, we cannot reject the null hypothesis. Despite the differences in the mean, at a given level of statistical significance, we cannot say that these differences are not due to chance. "
   ]
  },
  {
   "cell_type": "markdown",
   "metadata": {},
   "source": [
    "## Overall conclusion and recommendations"
   ]
  },
  {
   "cell_type": "markdown",
   "metadata": {},
   "source": [
    "Recommendations for choosing a successful game to sell:\n",
    "\n",
    "The analysis identified the most promising platforms for sales planning for 2017: \n",
    "\n",
    "\n",
    " 1. The data for North America and Europe are almost identical. The best-selling platforms are PS4 and Xone. The no-prog option in terms of genres will be Shooter and Sports. It's better to bet on games with a high age limit.\n",
    " 2. For Japan the picture is different. The most popular platform is 3DS. In the genres it is better to focus on the Role-playing. The age of the game is often not specified, so it is better to mark that the game is for all ages."
   ]
  }
 ],
 "metadata": {
  "ExecuteTimeLog": [
   {
    "duration": 62,
    "start_time": "2021-10-25T08:19:32.714Z"
   },
   {
    "duration": 530,
    "start_time": "2021-10-25T08:19:49.032Z"
   },
   {
    "duration": 234,
    "start_time": "2021-10-25T08:19:52.018Z"
   },
   {
    "duration": 1273,
    "start_time": "2021-10-25T08:20:37.039Z"
   },
   {
    "duration": 38,
    "start_time": "2021-10-25T08:21:01.120Z"
   },
   {
    "duration": 177,
    "start_time": "2021-10-25T08:21:17.418Z"
   },
   {
    "duration": 203,
    "start_time": "2021-10-25T08:21:29.146Z"
   },
   {
    "duration": 11,
    "start_time": "2021-10-25T08:21:48.706Z"
   },
   {
    "duration": 174,
    "start_time": "2021-10-25T08:22:07.820Z"
   },
   {
    "duration": 400,
    "start_time": "2021-10-25T08:22:14.584Z"
   },
   {
    "duration": 33,
    "start_time": "2021-10-25T08:22:31.876Z"
   },
   {
    "duration": 34,
    "start_time": "2021-10-25T08:27:38.941Z"
   },
   {
    "duration": 10,
    "start_time": "2021-10-25T08:27:41.567Z"
   },
   {
    "duration": 3,
    "start_time": "2021-10-25T08:28:12.856Z"
   },
   {
    "duration": 30,
    "start_time": "2021-10-25T08:28:31.191Z"
   },
   {
    "duration": 10,
    "start_time": "2021-10-25T08:29:12.357Z"
   },
   {
    "duration": 12,
    "start_time": "2021-10-25T08:29:40.763Z"
   },
   {
    "duration": 13,
    "start_time": "2021-10-25T08:36:55.721Z"
   },
   {
    "duration": 739,
    "start_time": "2021-10-25T08:37:22.244Z"
   },
   {
    "duration": 24,
    "start_time": "2021-10-25T08:39:11.541Z"
   },
   {
    "duration": 9,
    "start_time": "2021-10-25T08:39:29.952Z"
   },
   {
    "duration": 707,
    "start_time": "2021-10-25T08:40:22.352Z"
   },
   {
    "duration": 618,
    "start_time": "2021-10-25T12:08:39.635Z"
   },
   {
    "duration": 39,
    "start_time": "2021-10-25T12:08:40.255Z"
   },
   {
    "duration": 35,
    "start_time": "2021-10-25T12:08:40.296Z"
   },
   {
    "duration": 2,
    "start_time": "2021-10-25T12:08:40.332Z"
   },
   {
    "duration": 13,
    "start_time": "2021-10-25T12:08:40.336Z"
   },
   {
    "duration": 18,
    "start_time": "2021-10-25T12:08:40.351Z"
   },
   {
    "duration": 15,
    "start_time": "2021-10-25T12:08:40.371Z"
   },
   {
    "duration": 24,
    "start_time": "2021-10-25T12:08:40.388Z"
   },
   {
    "duration": 9,
    "start_time": "2021-10-25T12:08:40.414Z"
   },
   {
    "duration": 1045,
    "start_time": "2021-10-25T12:08:40.424Z"
   },
   {
    "duration": 264,
    "start_time": "2021-10-25T12:14:35.251Z"
   },
   {
    "duration": 240,
    "start_time": "2021-10-25T12:17:23.057Z"
   },
   {
    "duration": 12,
    "start_time": "2021-10-25T12:17:38.630Z"
   },
   {
    "duration": 21,
    "start_time": "2021-10-25T12:18:08.653Z"
   },
   {
    "duration": 274,
    "start_time": "2021-10-25T12:27:48.572Z"
   },
   {
    "duration": 252,
    "start_time": "2021-10-25T12:28:38.168Z"
   },
   {
    "duration": 5,
    "start_time": "2021-10-25T12:28:44.614Z"
   },
   {
    "duration": 8,
    "start_time": "2021-10-25T12:29:23.375Z"
   },
   {
    "duration": 17,
    "start_time": "2021-10-25T12:30:07.492Z"
   },
   {
    "duration": 11,
    "start_time": "2021-10-25T12:30:41.493Z"
   },
   {
    "duration": 12,
    "start_time": "2021-10-25T12:30:46.417Z"
   },
   {
    "duration": 7,
    "start_time": "2021-10-25T12:32:57.130Z"
   },
   {
    "duration": 13,
    "start_time": "2021-10-25T12:36:48.584Z"
   },
   {
    "duration": 7,
    "start_time": "2021-10-25T12:37:48.928Z"
   },
   {
    "duration": 6,
    "start_time": "2021-10-25T12:38:12.166Z"
   },
   {
    "duration": 7,
    "start_time": "2021-10-25T12:39:15.507Z"
   },
   {
    "duration": 245,
    "start_time": "2021-10-25T12:45:58.728Z"
   },
   {
    "duration": 248,
    "start_time": "2021-10-25T12:46:20.468Z"
   },
   {
    "duration": 27,
    "start_time": "2021-10-25T12:46:27.482Z"
   },
   {
    "duration": 34,
    "start_time": "2021-10-25T12:46:48.184Z"
   },
   {
    "duration": 42,
    "start_time": "2021-10-25T12:47:08.487Z"
   },
   {
    "duration": 31,
    "start_time": "2021-10-25T12:48:14.592Z"
   },
   {
    "duration": 6,
    "start_time": "2021-10-25T12:49:23.593Z"
   },
   {
    "duration": 27,
    "start_time": "2021-10-25T12:49:48.662Z"
   },
   {
    "duration": 417,
    "start_time": "2021-10-25T12:53:19.802Z"
   },
   {
    "duration": 402,
    "start_time": "2021-10-25T12:54:07.146Z"
   },
   {
    "duration": 3,
    "start_time": "2021-10-25T12:54:20.430Z"
   },
   {
    "duration": 835,
    "start_time": "2021-10-25T12:54:24.437Z"
   },
   {
    "duration": 698,
    "start_time": "2021-10-25T12:55:18.967Z"
   },
   {
    "duration": 11,
    "start_time": "2021-10-25T13:03:07.886Z"
   },
   {
    "duration": 26,
    "start_time": "2021-10-25T13:08:56.068Z"
   },
   {
    "duration": 687,
    "start_time": "2021-10-25T13:08:59.906Z"
   },
   {
    "duration": 31,
    "start_time": "2021-10-25T13:13:47.667Z"
   },
   {
    "duration": 36,
    "start_time": "2021-10-25T13:14:46.235Z"
   },
   {
    "duration": 25,
    "start_time": "2021-10-25T13:15:51.463Z"
   },
   {
    "duration": 672,
    "start_time": "2021-10-25T13:16:21.585Z"
   },
   {
    "duration": 681,
    "start_time": "2021-10-25T13:16:31.148Z"
   },
   {
    "duration": 657,
    "start_time": "2021-10-25T13:16:37.868Z"
   },
   {
    "duration": 1617,
    "start_time": "2021-10-25T13:17:27.513Z"
   },
   {
    "duration": 528,
    "start_time": "2021-10-25T13:23:47.201Z"
   },
   {
    "duration": 264,
    "start_time": "2021-10-25T13:25:56.456Z"
   },
   {
    "duration": 251,
    "start_time": "2021-10-25T13:26:25.403Z"
   },
   {
    "duration": 299,
    "start_time": "2021-10-25T13:26:37.959Z"
   },
   {
    "duration": 246,
    "start_time": "2021-10-25T13:26:55.315Z"
   },
   {
    "duration": 516,
    "start_time": "2021-10-25T13:27:08.360Z"
   },
   {
    "duration": 503,
    "start_time": "2021-10-25T13:28:26.282Z"
   },
   {
    "duration": 2040,
    "start_time": "2021-10-25T13:28:55.542Z"
   },
   {
    "duration": 321,
    "start_time": "2021-10-25T13:30:50.796Z"
   },
   {
    "duration": 633,
    "start_time": "2021-10-25T13:32:08.191Z"
   },
   {
    "duration": 3,
    "start_time": "2021-10-25T13:32:15.988Z"
   },
   {
    "duration": 271,
    "start_time": "2021-10-25T13:53:26.951Z"
   },
   {
    "duration": 248,
    "start_time": "2021-10-25T13:54:34.032Z"
   },
   {
    "duration": 259,
    "start_time": "2021-10-25T13:54:49.761Z"
   },
   {
    "duration": 4,
    "start_time": "2021-10-25T13:54:54.320Z"
   },
   {
    "duration": 477,
    "start_time": "2021-10-25T13:54:56.442Z"
   },
   {
    "duration": 3415,
    "start_time": "2021-10-25T13:55:38.315Z"
   },
   {
    "duration": 4,
    "start_time": "2021-10-25T13:55:49.205Z"
   },
   {
    "duration": 490,
    "start_time": "2021-10-25T13:55:50.109Z"
   },
   {
    "duration": 542,
    "start_time": "2021-10-25T13:56:06.983Z"
   },
   {
    "duration": 2662,
    "start_time": "2021-10-25T13:57:32.064Z"
   },
   {
    "duration": 489,
    "start_time": "2021-10-25T13:57:41.916Z"
   },
   {
    "duration": 3857,
    "start_time": "2021-10-25T13:59:17.544Z"
   },
   {
    "duration": 42,
    "start_time": "2021-10-25T13:59:24.880Z"
   },
   {
    "duration": 17,
    "start_time": "2021-10-25T13:59:30.513Z"
   },
   {
    "duration": 19,
    "start_time": "2021-10-25T13:59:39.479Z"
   },
   {
    "duration": 4,
    "start_time": "2021-10-25T13:59:42.376Z"
   },
   {
    "duration": 3758,
    "start_time": "2021-10-25T14:02:11.950Z"
   },
   {
    "duration": 43,
    "start_time": "2021-10-25T14:02:19.057Z"
   },
   {
    "duration": 16,
    "start_time": "2021-10-25T14:02:23.308Z"
   },
   {
    "duration": 21,
    "start_time": "2021-10-25T14:02:27.746Z"
   },
   {
    "duration": 4,
    "start_time": "2021-10-25T14:02:31.349Z"
   },
   {
    "duration": -96,
    "start_time": "2021-10-25T14:11:02.449Z"
   },
   {
    "duration": 245,
    "start_time": "2021-10-25T14:11:04.339Z"
   },
   {
    "duration": 2424,
    "start_time": "2021-10-25T14:11:53.294Z"
   },
   {
    "duration": 596,
    "start_time": "2021-10-25T14:11:57.925Z"
   },
   {
    "duration": 512,
    "start_time": "2021-10-25T14:12:45.092Z"
   },
   {
    "duration": 567,
    "start_time": "2021-10-25T14:14:14.252Z"
   },
   {
    "duration": 4,
    "start_time": "2021-10-25T14:14:49.103Z"
   },
   {
    "duration": 256,
    "start_time": "2021-10-25T14:14:53.541Z"
   },
   {
    "duration": 685,
    "start_time": "2021-10-25T14:15:05.055Z"
   },
   {
    "duration": 650,
    "start_time": "2021-10-25T14:15:16.414Z"
   },
   {
    "duration": 492,
    "start_time": "2021-10-25T14:15:42.585Z"
   },
   {
    "duration": 13,
    "start_time": "2021-10-25T14:48:19.346Z"
   },
   {
    "duration": 14,
    "start_time": "2021-10-25T14:48:47.272Z"
   },
   {
    "duration": 12,
    "start_time": "2021-10-25T14:49:13.296Z"
   },
   {
    "duration": 407,
    "start_time": "2021-10-25T14:54:04.075Z"
   },
   {
    "duration": 30,
    "start_time": "2021-10-25T14:54:26.059Z"
   },
   {
    "duration": 1690,
    "start_time": "2021-10-25T14:54:33.215Z"
   },
   {
    "duration": 434,
    "start_time": "2021-10-25T14:56:03.140Z"
   },
   {
    "duration": 195,
    "start_time": "2021-10-25T14:56:20.262Z"
   },
   {
    "duration": 4233,
    "start_time": "2021-10-25T14:57:48.554Z"
   },
   {
    "duration": 425,
    "start_time": "2021-10-25T14:58:13.137Z"
   },
   {
    "duration": 371,
    "start_time": "2021-10-25T14:58:41.836Z"
   },
   {
    "duration": 1131,
    "start_time": "2021-10-25T14:59:27.384Z"
   },
   {
    "duration": 1716,
    "start_time": "2021-10-25T15:00:38.097Z"
   },
   {
    "duration": 1457,
    "start_time": "2021-10-25T15:01:43.854Z"
   },
   {
    "duration": 1211,
    "start_time": "2021-10-25T15:02:45.158Z"
   },
   {
    "duration": 5572,
    "start_time": "2021-10-26T05:20:16.196Z"
   },
   {
    "duration": 336,
    "start_time": "2021-10-26T05:20:26.078Z"
   },
   {
    "duration": 3078,
    "start_time": "2021-10-26T05:20:36.378Z"
   },
   {
    "duration": 50,
    "start_time": "2021-10-26T05:20:39.459Z"
   },
   {
    "duration": 49,
    "start_time": "2021-10-26T05:20:39.512Z"
   },
   {
    "duration": 19,
    "start_time": "2021-10-26T05:20:39.564Z"
   },
   {
    "duration": 11,
    "start_time": "2021-10-26T05:20:39.585Z"
   },
   {
    "duration": 33,
    "start_time": "2021-10-26T05:20:39.598Z"
   },
   {
    "duration": 21,
    "start_time": "2021-10-26T05:20:39.633Z"
   },
   {
    "duration": 6,
    "start_time": "2021-10-26T05:20:39.658Z"
   },
   {
    "duration": 816,
    "start_time": "2021-10-26T05:20:39.666Z"
   },
   {
    "duration": 885,
    "start_time": "2021-10-26T05:20:40.484Z"
   },
   {
    "duration": 17,
    "start_time": "2021-10-26T05:20:41.371Z"
   },
   {
    "duration": 59,
    "start_time": "2021-10-26T05:20:41.391Z"
   },
   {
    "duration": 2360,
    "start_time": "2021-10-26T05:20:41.452Z"
   },
   {
    "duration": 2942,
    "start_time": "2021-10-26T05:20:43.814Z"
   },
   {
    "duration": 12,
    "start_time": "2021-10-26T05:20:46.758Z"
   },
   {
    "duration": 56,
    "start_time": "2021-10-26T05:22:45.821Z"
   },
   {
    "duration": 44,
    "start_time": "2021-10-26T05:22:53.470Z"
   },
   {
    "duration": 82,
    "start_time": "2021-10-26T05:27:06.592Z"
   },
   {
    "duration": 43,
    "start_time": "2021-10-26T05:28:42.070Z"
   },
   {
    "duration": 232,
    "start_time": "2021-10-26T05:29:15.923Z"
   },
   {
    "duration": 7,
    "start_time": "2021-10-26T05:29:26.871Z"
   },
   {
    "duration": 71,
    "start_time": "2021-10-26T05:36:47.946Z"
   },
   {
    "duration": 244,
    "start_time": "2021-10-26T05:36:55.439Z"
   },
   {
    "duration": 6,
    "start_time": "2021-10-26T05:37:38.963Z"
   },
   {
    "duration": 6,
    "start_time": "2021-10-26T05:37:42.063Z"
   },
   {
    "duration": 9,
    "start_time": "2021-10-26T05:42:23.923Z"
   },
   {
    "duration": 10,
    "start_time": "2021-10-26T05:46:00.953Z"
   },
   {
    "duration": 3464,
    "start_time": "2021-10-26T05:49:32.640Z"
   },
   {
    "duration": 3732,
    "start_time": "2021-10-26T05:50:11.135Z"
   },
   {
    "duration": 3725,
    "start_time": "2021-10-26T05:50:27.200Z"
   },
   {
    "duration": 3487,
    "start_time": "2021-10-26T05:51:44.242Z"
   },
   {
    "duration": 4486,
    "start_time": "2021-10-26T05:58:42.790Z"
   },
   {
    "duration": 49,
    "start_time": "2021-10-26T05:58:47.279Z"
   },
   {
    "duration": 47,
    "start_time": "2021-10-26T05:58:47.331Z"
   },
   {
    "duration": 18,
    "start_time": "2021-10-26T05:58:47.381Z"
   },
   {
    "duration": 29,
    "start_time": "2021-10-26T05:58:47.402Z"
   },
   {
    "duration": 18,
    "start_time": "2021-10-26T05:58:47.433Z"
   },
   {
    "duration": 22,
    "start_time": "2021-10-26T05:58:47.454Z"
   },
   {
    "duration": 5,
    "start_time": "2021-10-26T05:58:47.480Z"
   },
   {
    "duration": 980,
    "start_time": "2021-10-26T05:58:47.487Z"
   },
   {
    "duration": 1021,
    "start_time": "2021-10-26T05:58:48.470Z"
   },
   {
    "duration": 38,
    "start_time": "2021-10-26T05:58:49.493Z"
   },
   {
    "duration": 14,
    "start_time": "2021-10-26T05:58:49.533Z"
   },
   {
    "duration": 9,
    "start_time": "2021-10-26T05:58:49.550Z"
   },
   {
    "duration": 3580,
    "start_time": "2021-10-26T05:58:49.561Z"
   },
   {
    "duration": 36,
    "start_time": "2021-10-26T05:58:53.109Z"
   },
   {
    "duration": 35,
    "start_time": "2021-10-26T05:58:53.112Z"
   },
   {
    "duration": 3660,
    "start_time": "2021-10-26T06:02:23.111Z"
   },
   {
    "duration": 5,
    "start_time": "2021-10-26T06:08:00.710Z"
   },
   {
    "duration": 207,
    "start_time": "2021-10-26T06:08:44.867Z"
   },
   {
    "duration": 222,
    "start_time": "2021-10-26T06:09:26.429Z"
   },
   {
    "duration": 196,
    "start_time": "2021-10-26T06:09:54.349Z"
   },
   {
    "duration": 1334,
    "start_time": "2021-10-26T06:10:05.506Z"
   },
   {
    "duration": 367,
    "start_time": "2021-10-26T06:10:15.465Z"
   },
   {
    "duration": 385,
    "start_time": "2021-10-26T06:10:48.717Z"
   },
   {
    "duration": 3291,
    "start_time": "2021-10-26T06:11:02.679Z"
   },
   {
    "duration": 3110,
    "start_time": "2021-10-26T06:11:10.948Z"
   },
   {
    "duration": 5354,
    "start_time": "2021-10-26T06:20:52.124Z"
   },
   {
    "duration": 1206,
    "start_time": "2021-10-26T06:24:05.396Z"
   },
   {
    "duration": 370,
    "start_time": "2021-10-26T06:24:50.306Z"
   },
   {
    "duration": 6133,
    "start_time": "2021-10-27T05:21:24.858Z"
   },
   {
    "duration": 6162,
    "start_time": "2021-10-28T04:52:51.635Z"
   },
   {
    "duration": 48,
    "start_time": "2021-10-28T04:52:57.800Z"
   },
   {
    "duration": 46,
    "start_time": "2021-10-28T04:52:57.851Z"
   },
   {
    "duration": 19,
    "start_time": "2021-10-28T04:52:57.899Z"
   },
   {
    "duration": 37,
    "start_time": "2021-10-28T04:52:57.921Z"
   },
   {
    "duration": 13,
    "start_time": "2021-10-28T04:52:57.960Z"
   },
   {
    "duration": 21,
    "start_time": "2021-10-28T04:52:57.975Z"
   },
   {
    "duration": 5,
    "start_time": "2021-10-28T04:52:57.999Z"
   },
   {
    "duration": 838,
    "start_time": "2021-10-28T04:52:58.007Z"
   },
   {
    "duration": 948,
    "start_time": "2021-10-28T04:52:58.848Z"
   },
   {
    "duration": 29,
    "start_time": "2021-10-28T04:52:59.799Z"
   },
   {
    "duration": 33,
    "start_time": "2021-10-28T04:52:59.830Z"
   },
   {
    "duration": 11,
    "start_time": "2021-10-28T04:52:59.865Z"
   },
   {
    "duration": 789,
    "start_time": "2021-10-28T04:52:59.878Z"
   },
   {
    "duration": -98,
    "start_time": "2021-10-28T04:53:00.768Z"
   },
   {
    "duration": -97,
    "start_time": "2021-10-28T04:53:00.769Z"
   },
   {
    "duration": -96,
    "start_time": "2021-10-28T04:53:00.770Z"
   },
   {
    "duration": 5,
    "start_time": "2021-10-28T05:08:39.668Z"
   },
   {
    "duration": 785,
    "start_time": "2021-10-28T05:15:22.007Z"
   },
   {
    "duration": 343,
    "start_time": "2021-10-28T05:18:08.759Z"
   },
   {
    "duration": 381,
    "start_time": "2021-10-28T05:18:35.280Z"
   },
   {
    "duration": 363,
    "start_time": "2021-10-28T05:19:07.848Z"
   },
   {
    "duration": 66,
    "start_time": "2021-10-28T05:19:10.935Z"
   },
   {
    "duration": 31,
    "start_time": "2021-10-28T05:21:21.614Z"
   },
   {
    "duration": 1080,
    "start_time": "2021-10-28T05:29:13.682Z"
   },
   {
    "duration": 1053,
    "start_time": "2021-10-28T05:30:28.806Z"
   },
   {
    "duration": 1060,
    "start_time": "2021-10-28T05:31:39.404Z"
   },
   {
    "duration": 12404,
    "start_time": "2021-10-28T05:31:59.193Z"
   },
   {
    "duration": 5290,
    "start_time": "2021-10-28T05:36:44.695Z"
   },
   {
    "duration": 1603,
    "start_time": "2021-10-28T05:42:26.444Z"
   },
   {
    "duration": 2041,
    "start_time": "2021-10-28T05:42:54.478Z"
   },
   {
    "duration": 380,
    "start_time": "2021-10-28T05:43:50.570Z"
   },
   {
    "duration": 387,
    "start_time": "2021-10-28T05:44:06.692Z"
   },
   {
    "duration": 1879,
    "start_time": "2021-10-28T05:44:27.807Z"
   },
   {
    "duration": 1893,
    "start_time": "2021-10-28T05:48:13.208Z"
   },
   {
    "duration": 1853,
    "start_time": "2021-10-28T05:48:35.311Z"
   },
   {
    "duration": 1305,
    "start_time": "2021-10-28T05:50:44.789Z"
   },
   {
    "duration": 1935,
    "start_time": "2021-10-28T05:51:41.768Z"
   },
   {
    "duration": 1663,
    "start_time": "2021-10-28T05:53:11.914Z"
   },
   {
    "duration": 119,
    "start_time": "2021-10-28T05:53:21.725Z"
   },
   {
    "duration": 1635,
    "start_time": "2021-10-28T05:53:36.111Z"
   },
   {
    "duration": 1604,
    "start_time": "2021-10-28T05:53:54.029Z"
   },
   {
    "duration": 774,
    "start_time": "2021-10-28T06:01:42.910Z"
   },
   {
    "duration": 452,
    "start_time": "2021-10-28T06:04:13.889Z"
   },
   {
    "duration": 390,
    "start_time": "2021-10-28T06:05:40.644Z"
   },
   {
    "duration": 5828,
    "start_time": "2021-10-28T06:06:13.643Z"
   },
   {
    "duration": 4352,
    "start_time": "2021-10-28T06:06:42.881Z"
   },
   {
    "duration": 4316,
    "start_time": "2021-10-28T06:07:00.522Z"
   },
   {
    "duration": 4542,
    "start_time": "2021-10-28T06:08:31.950Z"
   },
   {
    "duration": 403,
    "start_time": "2021-10-28T06:08:54.376Z"
   },
   {
    "duration": 6031,
    "start_time": "2021-10-28T06:10:17.274Z"
   },
   {
    "duration": 5723,
    "start_time": "2021-10-28T06:11:07.172Z"
   },
   {
    "duration": 925,
    "start_time": "2021-10-28T06:11:25.692Z"
   },
   {
    "duration": 7620,
    "start_time": "2021-10-28T06:11:51.960Z"
   },
   {
    "duration": 946,
    "start_time": "2021-10-28T06:12:15.721Z"
   },
   {
    "duration": 875,
    "start_time": "2021-10-28T06:13:22.973Z"
   },
   {
    "duration": 1337,
    "start_time": "2021-10-28T06:13:33.955Z"
   },
   {
    "duration": 1209,
    "start_time": "2021-10-28T06:13:44.751Z"
   },
   {
    "duration": 2747,
    "start_time": "2021-10-28T06:14:34.320Z"
   },
   {
    "duration": 1766,
    "start_time": "2021-10-28T06:16:04.810Z"
   },
   {
    "duration": 10031,
    "start_time": "2021-10-28T06:20:43.005Z"
   },
   {
    "duration": 3512,
    "start_time": "2021-10-28T06:21:30.374Z"
   },
   {
    "duration": 4484,
    "start_time": "2021-10-28T06:22:07.844Z"
   },
   {
    "duration": 4452,
    "start_time": "2021-10-28T06:24:41.398Z"
   },
   {
    "duration": 10441,
    "start_time": "2021-10-28T06:25:14.714Z"
   },
   {
    "duration": 4692,
    "start_time": "2021-10-28T06:25:46.438Z"
   },
   {
    "duration": 262,
    "start_time": "2021-10-28T06:27:22.506Z"
   },
   {
    "duration": 1518,
    "start_time": "2021-10-28T06:27:28.174Z"
   },
   {
    "duration": 800,
    "start_time": "2021-10-28T06:27:33.560Z"
   },
   {
    "duration": 4050,
    "start_time": "2021-10-28T07:21:07.425Z"
   },
   {
    "duration": 53,
    "start_time": "2021-10-28T07:21:25.166Z"
   },
   {
    "duration": 46,
    "start_time": "2021-10-28T07:21:27.422Z"
   },
   {
    "duration": 3598,
    "start_time": "2021-10-28T07:21:32.674Z"
   },
   {
    "duration": 51,
    "start_time": "2021-10-28T07:21:36.275Z"
   },
   {
    "duration": 44,
    "start_time": "2021-10-28T07:21:36.329Z"
   },
   {
    "duration": 19,
    "start_time": "2021-10-28T07:21:36.376Z"
   },
   {
    "duration": 11,
    "start_time": "2021-10-28T07:21:36.398Z"
   },
   {
    "duration": 17,
    "start_time": "2021-10-28T07:21:36.411Z"
   },
   {
    "duration": 46,
    "start_time": "2021-10-28T07:21:36.430Z"
   },
   {
    "duration": 5,
    "start_time": "2021-10-28T07:21:36.480Z"
   },
   {
    "duration": 830,
    "start_time": "2021-10-28T07:21:36.487Z"
   },
   {
    "duration": 985,
    "start_time": "2021-10-28T07:21:37.320Z"
   },
   {
    "duration": 31,
    "start_time": "2021-10-28T07:21:38.307Z"
   },
   {
    "duration": 27,
    "start_time": "2021-10-28T07:21:38.341Z"
   },
   {
    "duration": 11,
    "start_time": "2021-10-28T07:21:38.370Z"
   },
   {
    "duration": 6,
    "start_time": "2021-10-28T07:21:38.383Z"
   },
   {
    "duration": 8,
    "start_time": "2021-10-28T07:21:38.392Z"
   },
   {
    "duration": 57,
    "start_time": "2021-10-28T07:21:38.402Z"
   },
   {
    "duration": 122,
    "start_time": "2021-10-28T07:21:38.461Z"
   },
   {
    "duration": 255,
    "start_time": "2021-10-28T07:21:38.331Z"
   },
   {
    "duration": 255,
    "start_time": "2021-10-28T07:21:38.332Z"
   },
   {
    "duration": 238,
    "start_time": "2021-10-28T07:21:38.351Z"
   },
   {
    "duration": 233,
    "start_time": "2021-10-28T07:21:38.358Z"
   },
   {
    "duration": 233,
    "start_time": "2021-10-28T07:21:38.359Z"
   },
   {
    "duration": 235,
    "start_time": "2021-10-28T07:21:38.359Z"
   },
   {
    "duration": 236,
    "start_time": "2021-10-28T07:21:38.360Z"
   },
   {
    "duration": 236,
    "start_time": "2021-10-28T07:21:38.361Z"
   },
   {
    "duration": 238,
    "start_time": "2021-10-28T07:21:38.361Z"
   },
   {
    "duration": 709,
    "start_time": "2021-10-28T07:21:56.269Z"
   },
   {
    "duration": 85,
    "start_time": "2021-10-28T07:21:56.982Z"
   },
   {
    "duration": 33,
    "start_time": "2021-10-28T07:21:57.071Z"
   },
   {
    "duration": 53,
    "start_time": "2021-10-28T07:21:57.107Z"
   },
   {
    "duration": 4571,
    "start_time": "2021-10-28T07:21:57.162Z"
   },
   {
    "duration": 4961,
    "start_time": "2021-10-28T07:22:01.736Z"
   },
   {
    "duration": 695,
    "start_time": "2021-10-28T07:22:06.700Z"
   },
   {
    "duration": 9825,
    "start_time": "2021-10-28T07:22:07.400Z"
   },
   {
    "duration": 164,
    "start_time": "2021-10-28T07:22:17.064Z"
   },
   {
    "duration": 25,
    "start_time": "2021-10-28T07:24:49.504Z"
   },
   {
    "duration": 3013,
    "start_time": "2021-10-28T07:28:00.116Z"
   },
   {
    "duration": 1275,
    "start_time": "2021-10-28T07:29:10.604Z"
   },
   {
    "duration": 1182,
    "start_time": "2021-10-28T07:29:25.711Z"
   },
   {
    "duration": 1022,
    "start_time": "2021-10-28T07:29:35.439Z"
   },
   {
    "duration": 1332,
    "start_time": "2021-10-28T07:29:45.978Z"
   },
   {
    "duration": 9295,
    "start_time": "2021-10-28T07:31:53.110Z"
   },
   {
    "duration": 10962,
    "start_time": "2021-10-28T07:32:09.152Z"
   },
   {
    "duration": 10131,
    "start_time": "2021-10-28T07:33:02.109Z"
   },
   {
    "duration": 130,
    "start_time": "2021-10-28T07:33:36.987Z"
   },
   {
    "duration": 391,
    "start_time": "2021-10-28T07:33:46.351Z"
   },
   {
    "duration": 10696,
    "start_time": "2021-10-28T07:35:35.821Z"
   },
   {
    "duration": 10145,
    "start_time": "2021-10-28T07:36:29.381Z"
   },
   {
    "duration": 394,
    "start_time": "2021-10-28T07:37:28.550Z"
   },
   {
    "duration": 8,
    "start_time": "2021-10-28T07:37:42.869Z"
   },
   {
    "duration": 3990,
    "start_time": "2021-10-28T07:40:25.751Z"
   },
   {
    "duration": 56,
    "start_time": "2021-10-28T07:40:29.745Z"
   },
   {
    "duration": 62,
    "start_time": "2021-10-28T07:40:29.804Z"
   },
   {
    "duration": 19,
    "start_time": "2021-10-28T07:40:29.869Z"
   },
   {
    "duration": 29,
    "start_time": "2021-10-28T07:40:29.891Z"
   },
   {
    "duration": 33,
    "start_time": "2021-10-28T07:40:29.923Z"
   },
   {
    "duration": 34,
    "start_time": "2021-10-28T07:40:29.958Z"
   },
   {
    "duration": 6,
    "start_time": "2021-10-28T07:40:29.994Z"
   },
   {
    "duration": 956,
    "start_time": "2021-10-28T07:40:30.004Z"
   },
   {
    "duration": 962,
    "start_time": "2021-10-28T07:40:30.963Z"
   },
   {
    "duration": 36,
    "start_time": "2021-10-28T07:40:31.928Z"
   },
   {
    "duration": 15,
    "start_time": "2021-10-28T07:40:31.966Z"
   },
   {
    "duration": 28,
    "start_time": "2021-10-28T07:40:31.984Z"
   },
   {
    "duration": 28,
    "start_time": "2021-10-28T07:40:32.015Z"
   },
   {
    "duration": 31,
    "start_time": "2021-10-28T07:40:32.045Z"
   },
   {
    "duration": 23,
    "start_time": "2021-10-28T07:40:32.079Z"
   },
   {
    "duration": 831,
    "start_time": "2021-10-28T07:40:32.105Z"
   },
   {
    "duration": 76,
    "start_time": "2021-10-28T07:40:32.938Z"
   },
   {
    "duration": 43,
    "start_time": "2021-10-28T07:40:33.017Z"
   },
   {
    "duration": 126,
    "start_time": "2021-10-28T07:40:33.062Z"
   },
   {
    "duration": -419,
    "start_time": "2021-10-28T07:40:33.609Z"
   },
   {
    "duration": -417,
    "start_time": "2021-10-28T07:40:33.609Z"
   },
   {
    "duration": -419,
    "start_time": "2021-10-28T07:40:33.613Z"
   },
   {
    "duration": -422,
    "start_time": "2021-10-28T07:40:33.617Z"
   },
   {
    "duration": -422,
    "start_time": "2021-10-28T07:40:33.619Z"
   },
   {
    "duration": -425,
    "start_time": "2021-10-28T07:40:33.623Z"
   },
   {
    "duration": -424,
    "start_time": "2021-10-28T07:40:33.624Z"
   },
   {
    "duration": 236,
    "start_time": "2021-10-28T07:40:50.483Z"
   },
   {
    "duration": 34,
    "start_time": "2021-10-28T07:40:59.822Z"
   },
   {
    "duration": 19,
    "start_time": "2021-10-28T07:40:59.859Z"
   },
   {
    "duration": 2086,
    "start_time": "2021-10-28T07:40:59.914Z"
   },
   {
    "duration": 5,
    "start_time": "2021-10-28T07:41:02.004Z"
   },
   {
    "duration": 1397,
    "start_time": "2021-10-28T07:41:02.013Z"
   },
   {
    "duration": 2231,
    "start_time": "2021-10-28T07:41:03.413Z"
   },
   {
    "duration": -602,
    "start_time": "2021-10-28T07:41:06.249Z"
   },
   {
    "duration": 6,
    "start_time": "2021-10-28T07:41:35.439Z"
   },
   {
    "duration": 524,
    "start_time": "2021-10-28T07:47:34.667Z"
   },
   {
    "duration": 815,
    "start_time": "2021-10-28T07:48:14.338Z"
   },
   {
    "duration": 417,
    "start_time": "2021-10-28T07:48:37.666Z"
   },
   {
    "duration": 519,
    "start_time": "2021-10-28T07:48:44.145Z"
   },
   {
    "duration": 655,
    "start_time": "2021-10-28T07:48:59.433Z"
   },
   {
    "duration": 368,
    "start_time": "2021-10-28T07:49:08.560Z"
   },
   {
    "duration": 395,
    "start_time": "2021-10-28T07:49:20.019Z"
   },
   {
    "duration": 385,
    "start_time": "2021-10-28T07:49:36.962Z"
   },
   {
    "duration": 378,
    "start_time": "2021-10-28T07:49:44.111Z"
   },
   {
    "duration": 1336,
    "start_time": "2021-10-28T07:51:12.743Z"
   },
   {
    "duration": 32,
    "start_time": "2021-10-28T08:06:45.191Z"
   },
   {
    "duration": 814,
    "start_time": "2021-10-28T08:10:20.120Z"
   },
   {
    "duration": 711,
    "start_time": "2021-10-28T08:10:26.508Z"
   },
   {
    "duration": 687,
    "start_time": "2021-10-28T08:10:38.520Z"
   },
   {
    "duration": 679,
    "start_time": "2021-10-28T08:10:57.924Z"
   },
   {
    "duration": 724,
    "start_time": "2021-10-28T08:11:07.940Z"
   },
   {
    "duration": 4,
    "start_time": "2021-10-28T08:14:57.743Z"
   },
   {
    "duration": 162,
    "start_time": "2021-10-28T08:17:33.156Z"
   },
   {
    "duration": 40,
    "start_time": "2021-10-28T08:17:59.952Z"
   },
   {
    "duration": 150,
    "start_time": "2021-10-28T09:16:26.922Z"
   },
   {
    "duration": 126,
    "start_time": "2021-10-28T09:16:37.351Z"
   },
   {
    "duration": 117,
    "start_time": "2021-10-28T09:17:22.004Z"
   },
   {
    "duration": 116,
    "start_time": "2021-10-28T09:17:36.773Z"
   },
   {
    "duration": 5597,
    "start_time": "2021-10-28T12:09:09.349Z"
   },
   {
    "duration": 37,
    "start_time": "2021-10-28T12:09:14.949Z"
   },
   {
    "duration": 32,
    "start_time": "2021-10-28T12:09:14.988Z"
   },
   {
    "duration": 11,
    "start_time": "2021-10-28T12:09:15.022Z"
   },
   {
    "duration": 12,
    "start_time": "2021-10-28T12:09:15.034Z"
   },
   {
    "duration": 501,
    "start_time": "2021-10-28T12:09:15.048Z"
   },
   {
    "duration": 19,
    "start_time": "2021-10-28T12:09:15.534Z"
   },
   {
    "duration": 19,
    "start_time": "2021-10-28T12:09:15.535Z"
   },
   {
    "duration": 3,
    "start_time": "2021-10-28T12:09:15.552Z"
   },
   {
    "duration": 2,
    "start_time": "2021-10-28T12:09:15.555Z"
   },
   {
    "duration": -19,
    "start_time": "2021-10-28T12:09:15.577Z"
   },
   {
    "duration": -19,
    "start_time": "2021-10-28T12:09:15.579Z"
   },
   {
    "duration": -19,
    "start_time": "2021-10-28T12:09:15.580Z"
   },
   {
    "duration": -17,
    "start_time": "2021-10-28T12:09:15.580Z"
   },
   {
    "duration": -17,
    "start_time": "2021-10-28T12:09:15.581Z"
   },
   {
    "duration": -16,
    "start_time": "2021-10-28T12:09:15.582Z"
   },
   {
    "duration": -15,
    "start_time": "2021-10-28T12:09:15.582Z"
   },
   {
    "duration": -14,
    "start_time": "2021-10-28T12:09:15.583Z"
   },
   {
    "duration": -14,
    "start_time": "2021-10-28T12:09:15.584Z"
   },
   {
    "duration": -12,
    "start_time": "2021-10-28T12:09:15.584Z"
   },
   {
    "duration": -12,
    "start_time": "2021-10-28T12:09:15.585Z"
   },
   {
    "duration": -12,
    "start_time": "2021-10-28T12:09:15.585Z"
   },
   {
    "duration": -12,
    "start_time": "2021-10-28T12:09:15.586Z"
   },
   {
    "duration": -12,
    "start_time": "2021-10-28T12:09:15.587Z"
   },
   {
    "duration": -12,
    "start_time": "2021-10-28T12:09:15.587Z"
   },
   {
    "duration": -12,
    "start_time": "2021-10-28T12:09:15.588Z"
   },
   {
    "duration": -12,
    "start_time": "2021-10-28T12:09:15.589Z"
   },
   {
    "duration": -13,
    "start_time": "2021-10-28T12:09:15.590Z"
   },
   {
    "duration": -17,
    "start_time": "2021-10-28T12:09:15.595Z"
   },
   {
    "duration": -16,
    "start_time": "2021-10-28T12:09:15.595Z"
   },
   {
    "duration": -17,
    "start_time": "2021-10-28T12:09:15.596Z"
   },
   {
    "duration": 455,
    "start_time": "2021-10-28T12:10:42.119Z"
   },
   {
    "duration": 348,
    "start_time": "2021-10-28T12:12:09.738Z"
   },
   {
    "duration": 539,
    "start_time": "2021-10-28T12:12:29.928Z"
   },
   {
    "duration": 383,
    "start_time": "2021-10-28T12:17:01.207Z"
   },
   {
    "duration": 115,
    "start_time": "2021-10-28T12:19:16.372Z"
   },
   {
    "duration": 407,
    "start_time": "2021-10-28T12:19:28.177Z"
   },
   {
    "duration": 113,
    "start_time": "2021-10-28T12:23:27.840Z"
   },
   {
    "duration": 123,
    "start_time": "2021-10-28T12:23:40.741Z"
   },
   {
    "duration": 395,
    "start_time": "2021-10-28T12:23:57.181Z"
   },
   {
    "duration": 364,
    "start_time": "2021-10-28T12:26:14.495Z"
   },
   {
    "duration": 8,
    "start_time": "2021-10-28T12:28:31.735Z"
   },
   {
    "duration": 11,
    "start_time": "2021-10-28T12:28:50.452Z"
   },
   {
    "duration": 373,
    "start_time": "2021-10-28T12:29:56.731Z"
   },
   {
    "duration": 398,
    "start_time": "2021-10-28T12:30:22.243Z"
   },
   {
    "duration": 441,
    "start_time": "2021-10-28T12:33:08.622Z"
   },
   {
    "duration": 6,
    "start_time": "2021-10-28T12:35:08.861Z"
   },
   {
    "duration": 9,
    "start_time": "2021-10-28T12:35:23.196Z"
   },
   {
    "duration": 119,
    "start_time": "2021-10-28T12:37:36.620Z"
   },
   {
    "duration": 382,
    "start_time": "2021-10-28T12:37:43.098Z"
   },
   {
    "duration": 380,
    "start_time": "2021-10-28T12:38:14.517Z"
   },
   {
    "duration": 19,
    "start_time": "2021-10-28T12:38:42.911Z"
   },
   {
    "duration": 2557,
    "start_time": "2021-10-28T12:39:31.489Z"
   },
   {
    "duration": 383,
    "start_time": "2021-10-28T12:39:50.732Z"
   },
   {
    "duration": 2550,
    "start_time": "2021-10-28T12:42:40.879Z"
   },
   {
    "duration": 2533,
    "start_time": "2021-10-28T12:43:06.224Z"
   },
   {
    "duration": 22,
    "start_time": "2021-10-28T12:44:41.740Z"
   },
   {
    "duration": 2547,
    "start_time": "2021-10-28T12:45:06.324Z"
   },
   {
    "duration": 2517,
    "start_time": "2021-10-28T12:45:27.723Z"
   },
   {
    "duration": 2553,
    "start_time": "2021-10-28T13:07:06.632Z"
   },
   {
    "duration": 2377,
    "start_time": "2021-10-28T13:09:23.905Z"
   },
   {
    "duration": 3,
    "start_time": "2021-10-28T13:09:46.682Z"
   },
   {
    "duration": 4,
    "start_time": "2021-10-28T13:10:01.991Z"
   },
   {
    "duration": 4,
    "start_time": "2021-10-28T13:10:20.495Z"
   },
   {
    "duration": 350,
    "start_time": "2021-10-28T13:10:52.158Z"
   },
   {
    "duration": 578,
    "start_time": "2021-10-28T13:12:53.448Z"
   },
   {
    "duration": 8296,
    "start_time": "2021-10-28T13:13:31.318Z"
   },
   {
    "duration": 8728,
    "start_time": "2021-10-28T13:14:40.911Z"
   },
   {
    "duration": 8469,
    "start_time": "2021-10-28T13:15:42.233Z"
   },
   {
    "duration": 8909,
    "start_time": "2021-10-28T13:16:09.731Z"
   },
   {
    "duration": 6,
    "start_time": "2021-10-28T13:18:15.546Z"
   },
   {
    "duration": 5,
    "start_time": "2021-10-28T13:18:33.655Z"
   },
   {
    "duration": 119,
    "start_time": "2021-10-28T13:19:08.766Z"
   },
   {
    "duration": 5,
    "start_time": "2021-10-28T13:19:18.483Z"
   },
   {
    "duration": 12,
    "start_time": "2021-10-28T13:19:44.957Z"
   },
   {
    "duration": 4529,
    "start_time": "2021-10-28T13:20:42.769Z"
   },
   {
    "duration": 40,
    "start_time": "2021-10-28T13:20:47.300Z"
   },
   {
    "duration": 41,
    "start_time": "2021-10-28T13:20:47.342Z"
   },
   {
    "duration": 14,
    "start_time": "2021-10-28T13:20:47.385Z"
   },
   {
    "duration": 7,
    "start_time": "2021-10-28T13:20:47.402Z"
   },
   {
    "duration": 8,
    "start_time": "2021-10-28T13:20:47.411Z"
   },
   {
    "duration": 11,
    "start_time": "2021-10-28T13:20:47.421Z"
   },
   {
    "duration": 470,
    "start_time": "2021-10-28T13:20:47.435Z"
   },
   {
    "duration": -17,
    "start_time": "2021-10-28T13:20:47.925Z"
   },
   {
    "duration": -17,
    "start_time": "2021-10-28T13:20:47.926Z"
   },
   {
    "duration": -17,
    "start_time": "2021-10-28T13:20:47.927Z"
   },
   {
    "duration": -18,
    "start_time": "2021-10-28T13:20:47.929Z"
   },
   {
    "duration": -22,
    "start_time": "2021-10-28T13:20:47.934Z"
   },
   {
    "duration": -22,
    "start_time": "2021-10-28T13:20:47.935Z"
   },
   {
    "duration": -21,
    "start_time": "2021-10-28T13:20:47.935Z"
   },
   {
    "duration": -21,
    "start_time": "2021-10-28T13:20:47.936Z"
   },
   {
    "duration": -20,
    "start_time": "2021-10-28T13:20:47.937Z"
   },
   {
    "duration": -20,
    "start_time": "2021-10-28T13:20:47.938Z"
   },
   {
    "duration": -20,
    "start_time": "2021-10-28T13:20:47.939Z"
   },
   {
    "duration": -19,
    "start_time": "2021-10-28T13:20:47.939Z"
   },
   {
    "duration": -19,
    "start_time": "2021-10-28T13:20:47.940Z"
   },
   {
    "duration": -19,
    "start_time": "2021-10-28T13:20:47.941Z"
   },
   {
    "duration": -21,
    "start_time": "2021-10-28T13:20:47.944Z"
   },
   {
    "duration": -21,
    "start_time": "2021-10-28T13:20:47.945Z"
   },
   {
    "duration": -21,
    "start_time": "2021-10-28T13:20:47.946Z"
   },
   {
    "duration": -23,
    "start_time": "2021-10-28T13:20:47.949Z"
   },
   {
    "duration": -23,
    "start_time": "2021-10-28T13:20:47.950Z"
   },
   {
    "duration": -23,
    "start_time": "2021-10-28T13:20:47.951Z"
   },
   {
    "duration": -23,
    "start_time": "2021-10-28T13:20:47.952Z"
   },
   {
    "duration": -22,
    "start_time": "2021-10-28T13:20:47.952Z"
   },
   {
    "duration": -22,
    "start_time": "2021-10-28T13:20:47.953Z"
   },
   {
    "duration": -21,
    "start_time": "2021-10-28T13:20:47.953Z"
   },
   {
    "duration": -21,
    "start_time": "2021-10-28T13:20:47.954Z"
   },
   {
    "duration": 128,
    "start_time": "2021-10-28T13:21:57.230Z"
   },
   {
    "duration": 109,
    "start_time": "2021-10-28T13:22:19.792Z"
   },
   {
    "duration": 139,
    "start_time": "2021-10-28T13:22:56.006Z"
   },
   {
    "duration": 119,
    "start_time": "2021-10-28T13:23:36.642Z"
   },
   {
    "duration": 112,
    "start_time": "2021-10-28T13:23:50.258Z"
   },
   {
    "duration": 120,
    "start_time": "2021-10-28T13:25:11.333Z"
   },
   {
    "duration": 121,
    "start_time": "2021-10-28T13:25:45.035Z"
   },
   {
    "duration": 5053,
    "start_time": "2021-10-29T13:45:33.457Z"
   },
   {
    "duration": 44,
    "start_time": "2021-10-29T13:45:38.512Z"
   },
   {
    "duration": 34,
    "start_time": "2021-10-29T13:45:38.558Z"
   },
   {
    "duration": 13,
    "start_time": "2021-10-29T13:45:38.594Z"
   },
   {
    "duration": 12,
    "start_time": "2021-10-29T13:45:38.609Z"
   },
   {
    "duration": 82,
    "start_time": "2021-10-29T13:45:38.623Z"
   },
   {
    "duration": 0,
    "start_time": "2021-10-29T13:45:38.708Z"
   },
   {
    "duration": 0,
    "start_time": "2021-10-29T13:45:38.709Z"
   },
   {
    "duration": 0,
    "start_time": "2021-10-29T13:45:38.710Z"
   },
   {
    "duration": 0,
    "start_time": "2021-10-29T13:45:38.711Z"
   },
   {
    "duration": -4,
    "start_time": "2021-10-29T13:45:38.716Z"
   },
   {
    "duration": -4,
    "start_time": "2021-10-29T13:45:38.717Z"
   },
   {
    "duration": -4,
    "start_time": "2021-10-29T13:45:38.718Z"
   },
   {
    "duration": -4,
    "start_time": "2021-10-29T13:45:38.719Z"
   },
   {
    "duration": -4,
    "start_time": "2021-10-29T13:45:38.720Z"
   },
   {
    "duration": -5,
    "start_time": "2021-10-29T13:45:38.722Z"
   },
   {
    "duration": -5,
    "start_time": "2021-10-29T13:45:38.723Z"
   },
   {
    "duration": -5,
    "start_time": "2021-10-29T13:45:38.724Z"
   },
   {
    "duration": -4,
    "start_time": "2021-10-29T13:45:38.725Z"
   },
   {
    "duration": -4,
    "start_time": "2021-10-29T13:45:38.725Z"
   },
   {
    "duration": -3,
    "start_time": "2021-10-29T13:45:38.726Z"
   },
   {
    "duration": -2,
    "start_time": "2021-10-29T13:45:38.726Z"
   },
   {
    "duration": -2,
    "start_time": "2021-10-29T13:45:38.727Z"
   },
   {
    "duration": -36,
    "start_time": "2021-10-29T13:45:38.762Z"
   },
   {
    "duration": -40,
    "start_time": "2021-10-29T13:45:38.767Z"
   },
   {
    "duration": -41,
    "start_time": "2021-10-29T13:45:38.769Z"
   },
   {
    "duration": -41,
    "start_time": "2021-10-29T13:45:38.770Z"
   },
   {
    "duration": -41,
    "start_time": "2021-10-29T13:45:38.771Z"
   },
   {
    "duration": -41,
    "start_time": "2021-10-29T13:45:38.772Z"
   },
   {
    "duration": -38,
    "start_time": "2021-10-29T13:45:38.772Z"
   },
   {
    "duration": -38,
    "start_time": "2021-10-29T13:45:38.773Z"
   },
   {
    "duration": -38,
    "start_time": "2021-10-29T13:45:38.774Z"
   },
   {
    "duration": -37,
    "start_time": "2021-10-29T13:45:38.774Z"
   },
   {
    "duration": 95,
    "start_time": "2021-10-29T13:46:20.035Z"
   },
   {
    "duration": 88,
    "start_time": "2021-10-29T13:46:28.341Z"
   },
   {
    "duration": 93,
    "start_time": "2021-10-29T13:47:12.226Z"
   },
   {
    "duration": 89,
    "start_time": "2021-10-29T13:47:35.115Z"
   },
   {
    "duration": 100,
    "start_time": "2021-10-29T13:47:53.825Z"
   },
   {
    "duration": 79,
    "start_time": "2021-10-29T13:48:08.684Z"
   },
   {
    "duration": 95,
    "start_time": "2021-10-29T13:48:32.977Z"
   },
   {
    "duration": 83,
    "start_time": "2021-10-29T13:48:53.763Z"
   },
   {
    "duration": 80,
    "start_time": "2021-10-29T13:49:09.376Z"
   },
   {
    "duration": 86,
    "start_time": "2021-10-29T13:49:24.286Z"
   },
   {
    "duration": 101,
    "start_time": "2021-10-29T13:49:54.517Z"
   },
   {
    "duration": 79,
    "start_time": "2021-10-29T13:50:06.484Z"
   },
   {
    "duration": 102,
    "start_time": "2021-10-29T13:50:25.760Z"
   },
   {
    "duration": 76,
    "start_time": "2021-10-29T13:51:26.075Z"
   },
   {
    "duration": 81,
    "start_time": "2021-10-29T13:51:46.802Z"
   },
   {
    "duration": 2375,
    "start_time": "2021-10-29T13:52:18.935Z"
   },
   {
    "duration": 40,
    "start_time": "2021-10-29T13:52:21.312Z"
   },
   {
    "duration": 29,
    "start_time": "2021-10-29T13:52:21.354Z"
   },
   {
    "duration": 12,
    "start_time": "2021-10-29T13:52:21.384Z"
   },
   {
    "duration": 9,
    "start_time": "2021-10-29T13:52:21.398Z"
   },
   {
    "duration": 79,
    "start_time": "2021-10-29T13:53:03.447Z"
   },
   {
    "duration": 93,
    "start_time": "2021-10-29T13:53:16.241Z"
   },
   {
    "duration": 6,
    "start_time": "2021-10-29T13:53:29.424Z"
   },
   {
    "duration": 3,
    "start_time": "2021-10-29T13:53:43.372Z"
   },
   {
    "duration": 7,
    "start_time": "2021-10-29T13:54:02.120Z"
   },
   {
    "duration": 5,
    "start_time": "2021-10-29T13:54:29.933Z"
   },
   {
    "duration": 4,
    "start_time": "2021-10-29T13:54:45.008Z"
   },
   {
    "duration": 312,
    "start_time": "2021-10-29T13:54:47.995Z"
   },
   {
    "duration": 1057,
    "start_time": "2021-10-29T13:55:14.425Z"
   },
   {
    "duration": 5,
    "start_time": "2021-10-29T13:55:27.643Z"
   },
   {
    "duration": 10,
    "start_time": "2021-10-29T13:57:59.530Z"
   },
   {
    "duration": 304,
    "start_time": "2021-10-29T14:02:46.798Z"
   },
   {
    "duration": 3777,
    "start_time": "2021-10-29T14:03:38.039Z"
   },
   {
    "duration": 41,
    "start_time": "2021-10-29T14:03:41.818Z"
   },
   {
    "duration": 35,
    "start_time": "2021-10-29T14:03:41.862Z"
   },
   {
    "duration": 13,
    "start_time": "2021-10-29T14:03:41.899Z"
   },
   {
    "duration": 21,
    "start_time": "2021-10-29T14:03:41.914Z"
   },
   {
    "duration": 1083,
    "start_time": "2021-10-29T14:03:41.937Z"
   },
   {
    "duration": 6,
    "start_time": "2021-10-29T14:03:43.023Z"
   },
   {
    "duration": 27,
    "start_time": "2021-10-29T14:03:43.030Z"
   },
   {
    "duration": 14,
    "start_time": "2021-10-29T14:03:43.063Z"
   },
   {
    "duration": 336,
    "start_time": "2021-10-29T14:03:43.080Z"
   },
   {
    "duration": -4,
    "start_time": "2021-10-29T14:03:43.423Z"
   },
   {
    "duration": -16,
    "start_time": "2021-10-29T14:03:43.436Z"
   },
   {
    "duration": -17,
    "start_time": "2021-10-29T14:03:43.437Z"
   },
   {
    "duration": -17,
    "start_time": "2021-10-29T14:03:43.438Z"
   },
   {
    "duration": -17,
    "start_time": "2021-10-29T14:03:43.439Z"
   },
   {
    "duration": -17,
    "start_time": "2021-10-29T14:03:43.440Z"
   },
   {
    "duration": -20,
    "start_time": "2021-10-29T14:03:43.444Z"
   },
   {
    "duration": -20,
    "start_time": "2021-10-29T14:03:43.445Z"
   },
   {
    "duration": -20,
    "start_time": "2021-10-29T14:03:43.446Z"
   },
   {
    "duration": -20,
    "start_time": "2021-10-29T14:03:43.447Z"
   },
   {
    "duration": -19,
    "start_time": "2021-10-29T14:03:43.447Z"
   },
   {
    "duration": -19,
    "start_time": "2021-10-29T14:03:43.448Z"
   },
   {
    "duration": -19,
    "start_time": "2021-10-29T14:03:43.449Z"
   },
   {
    "duration": -18,
    "start_time": "2021-10-29T14:03:43.449Z"
   },
   {
    "duration": -18,
    "start_time": "2021-10-29T14:03:43.450Z"
   },
   {
    "duration": -23,
    "start_time": "2021-10-29T14:03:43.455Z"
   },
   {
    "duration": -22,
    "start_time": "2021-10-29T14:03:43.455Z"
   },
   {
    "duration": -70,
    "start_time": "2021-10-29T14:03:43.504Z"
   },
   {
    "duration": -69,
    "start_time": "2021-10-29T14:03:43.504Z"
   },
   {
    "duration": -69,
    "start_time": "2021-10-29T14:03:43.505Z"
   },
   {
    "duration": -69,
    "start_time": "2021-10-29T14:03:43.506Z"
   },
   {
    "duration": -69,
    "start_time": "2021-10-29T14:03:43.507Z"
   },
   {
    "duration": -69,
    "start_time": "2021-10-29T14:03:43.508Z"
   },
   {
    "duration": -69,
    "start_time": "2021-10-29T14:03:43.508Z"
   },
   {
    "duration": -70,
    "start_time": "2021-10-29T14:03:43.510Z"
   },
   {
    "duration": 5,
    "start_time": "2021-10-29T14:05:03.460Z"
   },
   {
    "duration": 4,
    "start_time": "2021-10-29T14:05:17.577Z"
   },
   {
    "duration": 4,
    "start_time": "2021-10-29T14:06:43.056Z"
   },
   {
    "duration": 398,
    "start_time": "2021-10-29T14:08:05.244Z"
   },
   {
    "duration": 300,
    "start_time": "2021-10-29T14:08:32.185Z"
   },
   {
    "duration": 3593,
    "start_time": "2021-10-29T14:08:43.196Z"
   },
   {
    "duration": 42,
    "start_time": "2021-10-29T14:08:46.792Z"
   },
   {
    "duration": 39,
    "start_time": "2021-10-29T14:08:46.837Z"
   },
   {
    "duration": 13,
    "start_time": "2021-10-29T14:08:46.878Z"
   },
   {
    "duration": 15,
    "start_time": "2021-10-29T14:08:46.893Z"
   },
   {
    "duration": 331,
    "start_time": "2021-10-29T14:08:46.910Z"
   },
   {
    "duration": 5,
    "start_time": "2021-10-29T14:08:47.244Z"
   },
   {
    "duration": 22,
    "start_time": "2021-10-29T14:08:47.250Z"
   },
   {
    "duration": 320,
    "start_time": "2021-10-29T14:08:47.276Z"
   },
   {
    "duration": -9,
    "start_time": "2021-10-29T14:08:47.609Z"
   },
   {
    "duration": -20,
    "start_time": "2021-10-29T14:08:47.621Z"
   },
   {
    "duration": -20,
    "start_time": "2021-10-29T14:08:47.622Z"
   },
   {
    "duration": -19,
    "start_time": "2021-10-29T14:08:47.623Z"
   },
   {
    "duration": -19,
    "start_time": "2021-10-29T14:08:47.624Z"
   },
   {
    "duration": -17,
    "start_time": "2021-10-29T14:08:47.624Z"
   },
   {
    "duration": -17,
    "start_time": "2021-10-29T14:08:47.625Z"
   },
   {
    "duration": -17,
    "start_time": "2021-10-29T14:08:47.627Z"
   },
   {
    "duration": -17,
    "start_time": "2021-10-29T14:08:47.628Z"
   },
   {
    "duration": -20,
    "start_time": "2021-10-29T14:08:47.633Z"
   },
   {
    "duration": -21,
    "start_time": "2021-10-29T14:08:47.635Z"
   },
   {
    "duration": -74,
    "start_time": "2021-10-29T14:08:47.690Z"
   },
   {
    "duration": -74,
    "start_time": "2021-10-29T14:08:47.691Z"
   },
   {
    "duration": -73,
    "start_time": "2021-10-29T14:08:47.692Z"
   },
   {
    "duration": -73,
    "start_time": "2021-10-29T14:08:47.693Z"
   },
   {
    "duration": -76,
    "start_time": "2021-10-29T14:08:47.698Z"
   },
   {
    "duration": -76,
    "start_time": "2021-10-29T14:08:47.699Z"
   },
   {
    "duration": -75,
    "start_time": "2021-10-29T14:08:47.700Z"
   },
   {
    "duration": -75,
    "start_time": "2021-10-29T14:08:47.701Z"
   },
   {
    "duration": -74,
    "start_time": "2021-10-29T14:08:47.701Z"
   },
   {
    "duration": -73,
    "start_time": "2021-10-29T14:08:47.702Z"
   },
   {
    "duration": -72,
    "start_time": "2021-10-29T14:08:47.702Z"
   },
   {
    "duration": -72,
    "start_time": "2021-10-29T14:08:47.703Z"
   },
   {
    "duration": -71,
    "start_time": "2021-10-29T14:08:47.704Z"
   },
   {
    "duration": -43,
    "start_time": "2021-10-29T14:08:47.705Z"
   },
   {
    "duration": -41,
    "start_time": "2021-10-29T14:08:47.705Z"
   },
   {
    "duration": -40,
    "start_time": "2021-10-29T14:08:47.706Z"
   },
   {
    "duration": 3,
    "start_time": "2021-10-29T14:09:05.420Z"
   },
   {
    "duration": 80,
    "start_time": "2021-10-29T14:09:49.222Z"
   },
   {
    "duration": 322,
    "start_time": "2021-10-29T14:09:56.208Z"
   },
   {
    "duration": 272,
    "start_time": "2021-10-29T14:12:30.838Z"
   },
   {
    "duration": -96,
    "start_time": "2021-10-29T14:13:21.110Z"
   },
   {
    "duration": 277,
    "start_time": "2021-10-29T14:13:30.616Z"
   },
   {
    "duration": 1667,
    "start_time": "2021-10-29T14:14:22.046Z"
   },
   {
    "duration": 1732,
    "start_time": "2021-10-29T14:14:28.194Z"
   },
   {
    "duration": 4,
    "start_time": "2021-10-29T14:14:45.629Z"
   },
   {
    "duration": 1752,
    "start_time": "2021-10-29T14:15:30.281Z"
   },
   {
    "duration": 1732,
    "start_time": "2021-10-29T14:15:52.917Z"
   },
   {
    "duration": 1662,
    "start_time": "2021-10-29T14:22:26.191Z"
   },
   {
    "duration": 123,
    "start_time": "2021-10-29T14:24:03.971Z"
   },
   {
    "duration": 79,
    "start_time": "2021-10-29T14:24:57.594Z"
   },
   {
    "duration": 60,
    "start_time": "2021-10-29T16:44:53.120Z"
   },
   {
    "duration": 205,
    "start_time": "2021-10-29T16:45:21.448Z"
   },
   {
    "duration": 4335,
    "start_time": "2021-10-29T16:45:35.256Z"
   },
   {
    "duration": 36,
    "start_time": "2021-10-29T16:45:39.593Z"
   },
   {
    "duration": 29,
    "start_time": "2021-10-29T16:45:39.631Z"
   },
   {
    "duration": 12,
    "start_time": "2021-10-29T16:45:39.661Z"
   },
   {
    "duration": 6,
    "start_time": "2021-10-29T16:45:39.674Z"
   },
   {
    "duration": 1485,
    "start_time": "2021-10-29T16:45:39.691Z"
   },
   {
    "duration": 5,
    "start_time": "2021-10-29T16:45:41.178Z"
   },
   {
    "duration": 1047,
    "start_time": "2021-10-29T16:45:41.192Z"
   },
   {
    "duration": 3,
    "start_time": "2021-10-29T16:45:42.242Z"
   },
   {
    "duration": 11,
    "start_time": "2021-10-29T16:45:42.247Z"
   },
   {
    "duration": 41,
    "start_time": "2021-10-29T16:45:42.260Z"
   },
   {
    "duration": 3,
    "start_time": "2021-10-29T16:45:42.303Z"
   },
   {
    "duration": 491,
    "start_time": "2021-10-29T16:45:42.308Z"
   },
   {
    "duration": 702,
    "start_time": "2021-10-29T16:45:42.801Z"
   },
   {
    "duration": 19,
    "start_time": "2021-10-29T16:45:43.505Z"
   },
   {
    "duration": 10,
    "start_time": "2021-10-29T16:45:43.525Z"
   },
   {
    "duration": 8,
    "start_time": "2021-10-29T16:45:43.536Z"
   },
   {
    "duration": 7,
    "start_time": "2021-10-29T16:45:43.545Z"
   },
   {
    "duration": 4,
    "start_time": "2021-10-29T16:45:43.554Z"
   },
   {
    "duration": 33,
    "start_time": "2021-10-29T16:45:43.559Z"
   },
   {
    "duration": 437,
    "start_time": "2021-10-29T16:45:43.593Z"
   },
   {
    "duration": 46,
    "start_time": "2021-10-29T16:45:44.032Z"
   },
   {
    "duration": 33,
    "start_time": "2021-10-29T16:45:44.080Z"
   },
   {
    "duration": 78,
    "start_time": "2021-10-29T16:45:44.116Z"
   },
   {
    "duration": 43,
    "start_time": "2021-10-29T16:45:44.196Z"
   },
   {
    "duration": 943,
    "start_time": "2021-10-29T16:45:44.241Z"
   },
   {
    "duration": 57,
    "start_time": "2021-10-29T16:45:45.188Z"
   },
   {
    "duration": 74,
    "start_time": "2021-10-29T16:45:45.173Z"
   },
   {
    "duration": 73,
    "start_time": "2021-10-29T16:45:45.175Z"
   },
   {
    "duration": 73,
    "start_time": "2021-10-29T16:45:45.177Z"
   },
   {
    "duration": 73,
    "start_time": "2021-10-29T16:45:45.178Z"
   },
   {
    "duration": 74,
    "start_time": "2021-10-29T16:45:45.179Z"
   },
   {
    "duration": 73,
    "start_time": "2021-10-29T16:45:45.181Z"
   },
   {
    "duration": 60,
    "start_time": "2021-10-29T16:45:45.195Z"
   },
   {
    "duration": 5,
    "start_time": "2021-10-29T16:46:37.453Z"
   },
   {
    "duration": 238,
    "start_time": "2021-10-29T16:46:54.755Z"
   },
   {
    "duration": 234,
    "start_time": "2021-10-29T16:47:04.760Z"
   },
   {
    "duration": 10,
    "start_time": "2021-10-29T16:48:42.921Z"
   },
   {
    "duration": 14,
    "start_time": "2021-10-29T16:51:44.090Z"
   },
   {
    "duration": 688,
    "start_time": "2021-10-29T16:52:56.303Z"
   },
   {
    "duration": 4,
    "start_time": "2021-10-29T16:53:33.736Z"
   },
   {
    "duration": 675,
    "start_time": "2021-10-29T17:04:40.408Z"
   },
   {
    "duration": 4110,
    "start_time": "2021-10-29T17:05:05.454Z"
   },
   {
    "duration": 37,
    "start_time": "2021-10-29T17:05:09.566Z"
   },
   {
    "duration": 32,
    "start_time": "2021-10-29T17:05:09.605Z"
   },
   {
    "duration": 12,
    "start_time": "2021-10-29T17:05:09.640Z"
   },
   {
    "duration": 10,
    "start_time": "2021-10-29T17:05:09.654Z"
   },
   {
    "duration": 40,
    "start_time": "2021-10-29T17:05:09.666Z"
   },
   {
    "duration": 6,
    "start_time": "2021-10-29T17:05:09.708Z"
   },
   {
    "duration": 4,
    "start_time": "2021-10-29T17:05:09.716Z"
   },
   {
    "duration": 666,
    "start_time": "2021-10-29T17:05:09.723Z"
   },
   {
    "duration": 399,
    "start_time": "2021-10-29T17:05:10.392Z"
   },
   {
    "duration": 4,
    "start_time": "2021-10-29T17:05:10.793Z"
   },
   {
    "duration": 604,
    "start_time": "2021-10-29T17:05:10.799Z"
   },
   {
    "duration": 62,
    "start_time": "2021-10-29T17:05:11.344Z"
   },
   {
    "duration": 62,
    "start_time": "2021-10-29T17:05:11.345Z"
   },
   {
    "duration": 57,
    "start_time": "2021-10-29T17:05:11.352Z"
   },
   {
    "duration": 13,
    "start_time": "2021-10-29T17:05:11.397Z"
   },
   {
    "duration": 12,
    "start_time": "2021-10-29T17:05:11.399Z"
   },
   {
    "duration": 13,
    "start_time": "2021-10-29T17:05:11.400Z"
   },
   {
    "duration": 14,
    "start_time": "2021-10-29T17:05:11.400Z"
   },
   {
    "duration": 14,
    "start_time": "2021-10-29T17:05:11.401Z"
   },
   {
    "duration": 15,
    "start_time": "2021-10-29T17:05:11.402Z"
   },
   {
    "duration": 15,
    "start_time": "2021-10-29T17:05:11.403Z"
   },
   {
    "duration": 15,
    "start_time": "2021-10-29T17:05:11.404Z"
   },
   {
    "duration": 15,
    "start_time": "2021-10-29T17:05:11.405Z"
   },
   {
    "duration": 17,
    "start_time": "2021-10-29T17:05:11.405Z"
   },
   {
    "duration": 17,
    "start_time": "2021-10-29T17:05:11.406Z"
   },
   {
    "duration": 17,
    "start_time": "2021-10-29T17:05:11.407Z"
   },
   {
    "duration": 19,
    "start_time": "2021-10-29T17:05:11.407Z"
   },
   {
    "duration": 19,
    "start_time": "2021-10-29T17:05:11.408Z"
   },
   {
    "duration": 20,
    "start_time": "2021-10-29T17:05:11.409Z"
   },
   {
    "duration": 21,
    "start_time": "2021-10-29T17:05:11.409Z"
   },
   {
    "duration": 21,
    "start_time": "2021-10-29T17:05:11.410Z"
   },
   {
    "duration": 22,
    "start_time": "2021-10-29T17:05:11.411Z"
   },
   {
    "duration": 21,
    "start_time": "2021-10-29T17:05:11.412Z"
   },
   {
    "duration": 14,
    "start_time": "2021-10-29T17:05:58.244Z"
   },
   {
    "duration": 613,
    "start_time": "2021-10-29T17:06:02.559Z"
   },
   {
    "duration": 6,
    "start_time": "2021-10-30T03:50:05.304Z"
   },
   {
    "duration": 2067,
    "start_time": "2021-10-30T03:51:05.190Z"
   },
   {
    "duration": 37,
    "start_time": "2021-10-30T03:51:07.259Z"
   },
   {
    "duration": 28,
    "start_time": "2021-10-30T03:51:07.298Z"
   },
   {
    "duration": 11,
    "start_time": "2021-10-30T03:51:07.328Z"
   },
   {
    "duration": 10,
    "start_time": "2021-10-30T03:51:07.341Z"
   },
   {
    "duration": 14,
    "start_time": "2021-10-30T03:51:07.352Z"
   },
   {
    "duration": 5,
    "start_time": "2021-10-30T03:51:07.391Z"
   },
   {
    "duration": 5,
    "start_time": "2021-10-30T03:51:07.397Z"
   },
   {
    "duration": 643,
    "start_time": "2021-10-30T03:51:07.405Z"
   },
   {
    "duration": 410,
    "start_time": "2021-10-30T03:51:08.050Z"
   },
   {
    "duration": 3,
    "start_time": "2021-10-30T03:51:08.462Z"
   },
   {
    "duration": 189,
    "start_time": "2021-10-30T03:51:08.466Z"
   },
   {
    "duration": 20,
    "start_time": "2021-10-30T03:51:08.637Z"
   },
   {
    "duration": 20,
    "start_time": "2021-10-30T03:51:08.638Z"
   },
   {
    "duration": 19,
    "start_time": "2021-10-30T03:51:08.640Z"
   },
   {
    "duration": 19,
    "start_time": "2021-10-30T03:51:08.641Z"
   },
   {
    "duration": 11,
    "start_time": "2021-10-30T03:51:08.650Z"
   },
   {
    "duration": 11,
    "start_time": "2021-10-30T03:51:08.651Z"
   },
   {
    "duration": -44,
    "start_time": "2021-10-30T03:51:08.707Z"
   },
   {
    "duration": -49,
    "start_time": "2021-10-30T03:51:08.713Z"
   },
   {
    "duration": -49,
    "start_time": "2021-10-30T03:51:08.714Z"
   },
   {
    "duration": -49,
    "start_time": "2021-10-30T03:51:08.715Z"
   },
   {
    "duration": -49,
    "start_time": "2021-10-30T03:51:08.716Z"
   },
   {
    "duration": -49,
    "start_time": "2021-10-30T03:51:08.717Z"
   },
   {
    "duration": -49,
    "start_time": "2021-10-30T03:51:08.718Z"
   },
   {
    "duration": -48,
    "start_time": "2021-10-30T03:51:08.718Z"
   },
   {
    "duration": -48,
    "start_time": "2021-10-30T03:51:08.719Z"
   },
   {
    "duration": -48,
    "start_time": "2021-10-30T03:51:08.720Z"
   },
   {
    "duration": -48,
    "start_time": "2021-10-30T03:51:08.721Z"
   },
   {
    "duration": -47,
    "start_time": "2021-10-30T03:51:08.721Z"
   },
   {
    "duration": -47,
    "start_time": "2021-10-30T03:51:08.722Z"
   },
   {
    "duration": -47,
    "start_time": "2021-10-30T03:51:08.723Z"
   },
   {
    "duration": -46,
    "start_time": "2021-10-30T03:51:08.723Z"
   },
   {
    "duration": -46,
    "start_time": "2021-10-30T03:51:08.724Z"
   },
   {
    "duration": 8,
    "start_time": "2021-10-30T03:55:33.761Z"
   },
   {
    "duration": 607,
    "start_time": "2021-10-30T03:55:49.215Z"
   },
   {
    "duration": 7360,
    "start_time": "2021-10-30T03:56:28.597Z"
   },
   {
    "duration": 722,
    "start_time": "2021-10-30T03:56:35.958Z"
   },
   {
    "duration": 242,
    "start_time": "2021-10-30T04:06:47.857Z"
   },
   {
    "duration": 2942,
    "start_time": "2021-10-30T04:06:54.944Z"
   },
   {
    "duration": 220,
    "start_time": "2021-10-30T04:07:24.178Z"
   },
   {
    "duration": 3,
    "start_time": "2021-10-30T04:07:38.035Z"
   },
   {
    "duration": 4,
    "start_time": "2021-10-30T04:09:19.282Z"
   },
   {
    "duration": 186,
    "start_time": "2021-10-30T04:12:27.690Z"
   },
   {
    "duration": 171,
    "start_time": "2021-10-30T04:12:36.702Z"
   },
   {
    "duration": 2119,
    "start_time": "2021-10-30T04:12:43.022Z"
   },
   {
    "duration": 40,
    "start_time": "2021-10-30T04:12:45.143Z"
   },
   {
    "duration": 35,
    "start_time": "2021-10-30T04:12:45.186Z"
   },
   {
    "duration": 13,
    "start_time": "2021-10-30T04:12:45.222Z"
   },
   {
    "duration": 12,
    "start_time": "2021-10-30T04:12:45.237Z"
   },
   {
    "duration": 237,
    "start_time": "2021-10-30T04:12:45.251Z"
   },
   {
    "duration": 20,
    "start_time": "2021-10-30T04:12:45.471Z"
   },
   {
    "duration": 20,
    "start_time": "2021-10-30T04:12:45.472Z"
   },
   {
    "duration": 19,
    "start_time": "2021-10-30T04:12:45.473Z"
   },
   {
    "duration": 19,
    "start_time": "2021-10-30T04:12:45.474Z"
   },
   {
    "duration": 20,
    "start_time": "2021-10-30T04:12:45.474Z"
   },
   {
    "duration": 14,
    "start_time": "2021-10-30T04:12:45.481Z"
   },
   {
    "duration": 14,
    "start_time": "2021-10-30T04:12:45.482Z"
   },
   {
    "duration": 14,
    "start_time": "2021-10-30T04:12:45.483Z"
   },
   {
    "duration": 15,
    "start_time": "2021-10-30T04:12:45.483Z"
   },
   {
    "duration": 15,
    "start_time": "2021-10-30T04:12:45.484Z"
   },
   {
    "duration": 15,
    "start_time": "2021-10-30T04:12:45.485Z"
   },
   {
    "duration": 15,
    "start_time": "2021-10-30T04:12:45.486Z"
   },
   {
    "duration": 16,
    "start_time": "2021-10-30T04:12:45.487Z"
   },
   {
    "duration": 17,
    "start_time": "2021-10-30T04:12:45.487Z"
   },
   {
    "duration": 17,
    "start_time": "2021-10-30T04:12:45.488Z"
   },
   {
    "duration": 17,
    "start_time": "2021-10-30T04:12:45.489Z"
   },
   {
    "duration": 18,
    "start_time": "2021-10-30T04:12:45.489Z"
   },
   {
    "duration": 18,
    "start_time": "2021-10-30T04:12:45.490Z"
   },
   {
    "duration": 19,
    "start_time": "2021-10-30T04:12:45.490Z"
   },
   {
    "duration": 20,
    "start_time": "2021-10-30T04:12:45.491Z"
   },
   {
    "duration": 20,
    "start_time": "2021-10-30T04:12:45.492Z"
   },
   {
    "duration": 21,
    "start_time": "2021-10-30T04:12:45.492Z"
   },
   {
    "duration": 15,
    "start_time": "2021-10-30T04:12:45.499Z"
   },
   {
    "duration": 15,
    "start_time": "2021-10-30T04:12:45.500Z"
   },
   {
    "duration": 16,
    "start_time": "2021-10-30T04:12:45.500Z"
   },
   {
    "duration": 16,
    "start_time": "2021-10-30T04:12:45.501Z"
   },
   {
    "duration": 16,
    "start_time": "2021-10-30T04:12:45.502Z"
   },
   {
    "duration": 16,
    "start_time": "2021-10-30T04:12:45.503Z"
   },
   {
    "duration": 17,
    "start_time": "2021-10-30T04:12:45.503Z"
   },
   {
    "duration": 17,
    "start_time": "2021-10-30T04:12:45.504Z"
   },
   {
    "duration": 2059,
    "start_time": "2021-10-30T04:13:24.643Z"
   },
   {
    "duration": 39,
    "start_time": "2021-10-30T04:13:26.704Z"
   },
   {
    "duration": 29,
    "start_time": "2021-10-30T04:13:26.746Z"
   },
   {
    "duration": 13,
    "start_time": "2021-10-30T04:13:26.776Z"
   },
   {
    "duration": 13,
    "start_time": "2021-10-30T04:13:26.791Z"
   },
   {
    "duration": 19,
    "start_time": "2021-10-30T04:13:26.805Z"
   },
   {
    "duration": 5,
    "start_time": "2021-10-30T04:13:26.826Z"
   },
   {
    "duration": 8,
    "start_time": "2021-10-30T04:13:26.833Z"
   },
   {
    "duration": 738,
    "start_time": "2021-10-30T04:13:26.843Z"
   },
   {
    "duration": 4,
    "start_time": "2021-10-30T04:13:27.580Z"
   },
   {
    "duration": 4,
    "start_time": "2021-10-30T04:13:27.581Z"
   },
   {
    "duration": 3,
    "start_time": "2021-10-30T04:13:27.582Z"
   },
   {
    "duration": 3,
    "start_time": "2021-10-30T04:13:27.583Z"
   },
   {
    "duration": 2,
    "start_time": "2021-10-30T04:13:27.584Z"
   },
   {
    "duration": 6,
    "start_time": "2021-10-30T04:13:27.585Z"
   },
   {
    "duration": 6,
    "start_time": "2021-10-30T04:13:27.586Z"
   },
   {
    "duration": 6,
    "start_time": "2021-10-30T04:13:27.586Z"
   },
   {
    "duration": 2,
    "start_time": "2021-10-30T04:13:27.591Z"
   },
   {
    "duration": 3,
    "start_time": "2021-10-30T04:13:27.591Z"
   },
   {
    "duration": 3,
    "start_time": "2021-10-30T04:13:27.592Z"
   },
   {
    "duration": 2,
    "start_time": "2021-10-30T04:13:27.593Z"
   },
   {
    "duration": 2,
    "start_time": "2021-10-30T04:13:27.594Z"
   },
   {
    "duration": -5,
    "start_time": "2021-10-30T04:13:27.602Z"
   },
   {
    "duration": -6,
    "start_time": "2021-10-30T04:13:27.603Z"
   },
   {
    "duration": -6,
    "start_time": "2021-10-30T04:13:27.604Z"
   },
   {
    "duration": -6,
    "start_time": "2021-10-30T04:13:27.605Z"
   },
   {
    "duration": -6,
    "start_time": "2021-10-30T04:13:27.606Z"
   },
   {
    "duration": -6,
    "start_time": "2021-10-30T04:13:27.607Z"
   },
   {
    "duration": -7,
    "start_time": "2021-10-30T04:13:27.608Z"
   },
   {
    "duration": -8,
    "start_time": "2021-10-30T04:13:27.610Z"
   },
   {
    "duration": -12,
    "start_time": "2021-10-30T04:13:27.615Z"
   },
   {
    "duration": -13,
    "start_time": "2021-10-30T04:13:27.617Z"
   },
   {
    "duration": -14,
    "start_time": "2021-10-30T04:13:27.618Z"
   },
   {
    "duration": -13,
    "start_time": "2021-10-30T04:13:27.618Z"
   },
   {
    "duration": -13,
    "start_time": "2021-10-30T04:13:27.619Z"
   },
   {
    "duration": -14,
    "start_time": "2021-10-30T04:13:27.620Z"
   },
   {
    "duration": 64,
    "start_time": "2021-10-30T04:15:16.126Z"
   },
   {
    "duration": 354,
    "start_time": "2021-10-30T04:15:26.529Z"
   },
   {
    "duration": 5,
    "start_time": "2021-10-30T04:15:52.327Z"
   },
   {
    "duration": 2039,
    "start_time": "2021-10-30T04:17:47.254Z"
   },
   {
    "duration": 39,
    "start_time": "2021-10-30T04:17:49.295Z"
   },
   {
    "duration": 30,
    "start_time": "2021-10-30T04:17:49.336Z"
   },
   {
    "duration": 12,
    "start_time": "2021-10-30T04:17:49.368Z"
   },
   {
    "duration": 10,
    "start_time": "2021-10-30T04:17:49.391Z"
   },
   {
    "duration": 16,
    "start_time": "2021-10-30T04:17:49.402Z"
   },
   {
    "duration": 5,
    "start_time": "2021-10-30T04:17:49.419Z"
   },
   {
    "duration": 4,
    "start_time": "2021-10-30T04:17:49.426Z"
   },
   {
    "duration": 6,
    "start_time": "2021-10-30T04:17:49.432Z"
   },
   {
    "duration": 366,
    "start_time": "2021-10-30T04:17:49.439Z"
   },
   {
    "duration": -39,
    "start_time": "2021-10-30T04:17:49.847Z"
   },
   {
    "duration": -39,
    "start_time": "2021-10-30T04:17:49.848Z"
   },
   {
    "duration": -39,
    "start_time": "2021-10-30T04:17:49.849Z"
   },
   {
    "duration": -39,
    "start_time": "2021-10-30T04:17:49.851Z"
   },
   {
    "duration": -39,
    "start_time": "2021-10-30T04:17:49.852Z"
   },
   {
    "duration": -39,
    "start_time": "2021-10-30T04:17:49.853Z"
   },
   {
    "duration": -38,
    "start_time": "2021-10-30T04:17:49.854Z"
   },
   {
    "duration": -38,
    "start_time": "2021-10-30T04:17:49.855Z"
   },
   {
    "duration": -38,
    "start_time": "2021-10-30T04:17:49.856Z"
   },
   {
    "duration": -37,
    "start_time": "2021-10-30T04:17:49.857Z"
   },
   {
    "duration": -37,
    "start_time": "2021-10-30T04:17:49.858Z"
   },
   {
    "duration": -37,
    "start_time": "2021-10-30T04:17:49.859Z"
   },
   {
    "duration": -36,
    "start_time": "2021-10-30T04:17:49.860Z"
   },
   {
    "duration": -40,
    "start_time": "2021-10-30T04:17:49.865Z"
   },
   {
    "duration": -40,
    "start_time": "2021-10-30T04:17:49.866Z"
   },
   {
    "duration": -39,
    "start_time": "2021-10-30T04:17:49.867Z"
   },
   {
    "duration": -39,
    "start_time": "2021-10-30T04:17:49.868Z"
   },
   {
    "duration": -38,
    "start_time": "2021-10-30T04:17:49.868Z"
   },
   {
    "duration": -39,
    "start_time": "2021-10-30T04:17:49.870Z"
   },
   {
    "duration": -38,
    "start_time": "2021-10-30T04:17:49.870Z"
   },
   {
    "duration": -38,
    "start_time": "2021-10-30T04:17:49.871Z"
   },
   {
    "duration": -38,
    "start_time": "2021-10-30T04:17:49.872Z"
   },
   {
    "duration": -39,
    "start_time": "2021-10-30T04:17:49.873Z"
   },
   {
    "duration": -38,
    "start_time": "2021-10-30T04:17:49.874Z"
   },
   {
    "duration": -41,
    "start_time": "2021-10-30T04:17:49.877Z"
   },
   {
    "duration": -41,
    "start_time": "2021-10-30T04:17:49.878Z"
   },
   {
    "duration": -41,
    "start_time": "2021-10-30T04:17:49.879Z"
   },
   {
    "duration": 3134,
    "start_time": "2021-10-30T04:18:34.536Z"
   },
   {
    "duration": 37,
    "start_time": "2021-10-30T04:18:37.672Z"
   },
   {
    "duration": 31,
    "start_time": "2021-10-30T04:18:37.711Z"
   },
   {
    "duration": 11,
    "start_time": "2021-10-30T04:18:37.744Z"
   },
   {
    "duration": 10,
    "start_time": "2021-10-30T04:18:37.757Z"
   },
   {
    "duration": 35,
    "start_time": "2021-10-30T04:18:37.769Z"
   },
   {
    "duration": 4,
    "start_time": "2021-10-30T04:18:37.806Z"
   },
   {
    "duration": 3,
    "start_time": "2021-10-30T04:18:37.812Z"
   },
   {
    "duration": 5,
    "start_time": "2021-10-30T04:18:37.818Z"
   },
   {
    "duration": 440,
    "start_time": "2021-10-30T04:18:37.825Z"
   },
   {
    "duration": -55,
    "start_time": "2021-10-30T04:18:38.323Z"
   },
   {
    "duration": -57,
    "start_time": "2021-10-30T04:18:38.326Z"
   },
   {
    "duration": -58,
    "start_time": "2021-10-30T04:18:38.328Z"
   },
   {
    "duration": -60,
    "start_time": "2021-10-30T04:18:38.331Z"
   },
   {
    "duration": -61,
    "start_time": "2021-10-30T04:18:38.333Z"
   },
   {
    "duration": -61,
    "start_time": "2021-10-30T04:18:38.334Z"
   },
   {
    "duration": -66,
    "start_time": "2021-10-30T04:18:38.340Z"
   },
   {
    "duration": -72,
    "start_time": "2021-10-30T04:18:38.347Z"
   },
   {
    "duration": -72,
    "start_time": "2021-10-30T04:18:38.348Z"
   },
   {
    "duration": -73,
    "start_time": "2021-10-30T04:18:38.350Z"
   },
   {
    "duration": -74,
    "start_time": "2021-10-30T04:18:38.352Z"
   },
   {
    "duration": -74,
    "start_time": "2021-10-30T04:18:38.353Z"
   },
   {
    "duration": -80,
    "start_time": "2021-10-30T04:18:38.360Z"
   },
   {
    "duration": -80,
    "start_time": "2021-10-30T04:18:38.361Z"
   },
   {
    "duration": -81,
    "start_time": "2021-10-30T04:18:38.363Z"
   },
   {
    "duration": -81,
    "start_time": "2021-10-30T04:18:38.364Z"
   },
   {
    "duration": -81,
    "start_time": "2021-10-30T04:18:38.365Z"
   },
   {
    "duration": -81,
    "start_time": "2021-10-30T04:18:38.366Z"
   },
   {
    "duration": -86,
    "start_time": "2021-10-30T04:18:38.372Z"
   },
   {
    "duration": -93,
    "start_time": "2021-10-30T04:18:38.379Z"
   },
   {
    "duration": -92,
    "start_time": "2021-10-30T04:18:38.380Z"
   },
   {
    "duration": -92,
    "start_time": "2021-10-30T04:18:38.380Z"
   },
   {
    "duration": -92,
    "start_time": "2021-10-30T04:18:38.381Z"
   },
   {
    "duration": -91,
    "start_time": "2021-10-30T04:18:38.381Z"
   },
   {
    "duration": -91,
    "start_time": "2021-10-30T04:18:38.382Z"
   },
   {
    "duration": -90,
    "start_time": "2021-10-30T04:18:38.382Z"
   },
   {
    "duration": -90,
    "start_time": "2021-10-30T04:18:38.383Z"
   },
   {
    "duration": 3033,
    "start_time": "2021-10-30T04:19:29.945Z"
   },
   {
    "duration": 38,
    "start_time": "2021-10-30T04:19:32.980Z"
   },
   {
    "duration": 32,
    "start_time": "2021-10-30T04:19:33.019Z"
   },
   {
    "duration": 11,
    "start_time": "2021-10-30T04:19:33.053Z"
   },
   {
    "duration": 28,
    "start_time": "2021-10-30T04:19:33.066Z"
   },
   {
    "duration": 15,
    "start_time": "2021-10-30T04:19:33.096Z"
   },
   {
    "duration": 5,
    "start_time": "2021-10-30T04:19:33.112Z"
   },
   {
    "duration": 4,
    "start_time": "2021-10-30T04:19:33.118Z"
   },
   {
    "duration": 6,
    "start_time": "2021-10-30T04:19:33.124Z"
   },
   {
    "duration": 619,
    "start_time": "2021-10-30T04:19:33.132Z"
   },
   {
    "duration": 377,
    "start_time": "2021-10-30T04:19:33.753Z"
   },
   {
    "duration": 3,
    "start_time": "2021-10-30T04:19:34.131Z"
   },
   {
    "duration": 5,
    "start_time": "2021-10-30T04:19:34.136Z"
   },
   {
    "duration": 612,
    "start_time": "2021-10-30T04:19:34.143Z"
   },
   {
    "duration": 247,
    "start_time": "2021-10-30T04:19:34.757Z"
   },
   {
    "duration": -8,
    "start_time": "2021-10-30T04:19:35.014Z"
   },
   {
    "duration": -8,
    "start_time": "2021-10-30T04:19:35.015Z"
   },
   {
    "duration": -7,
    "start_time": "2021-10-30T04:19:35.016Z"
   },
   {
    "duration": -8,
    "start_time": "2021-10-30T04:19:35.018Z"
   },
   {
    "duration": -7,
    "start_time": "2021-10-30T04:19:35.018Z"
   },
   {
    "duration": -10,
    "start_time": "2021-10-30T04:19:35.022Z"
   },
   {
    "duration": -19,
    "start_time": "2021-10-30T04:19:35.032Z"
   },
   {
    "duration": -20,
    "start_time": "2021-10-30T04:19:35.033Z"
   },
   {
    "duration": -18,
    "start_time": "2021-10-30T04:19:35.033Z"
   },
   {
    "duration": -18,
    "start_time": "2021-10-30T04:19:35.034Z"
   },
   {
    "duration": -19,
    "start_time": "2021-10-30T04:19:35.035Z"
   },
   {
    "duration": -19,
    "start_time": "2021-10-30T04:19:35.036Z"
   },
   {
    "duration": -18,
    "start_time": "2021-10-30T04:19:35.036Z"
   },
   {
    "duration": -18,
    "start_time": "2021-10-30T04:19:35.037Z"
   },
   {
    "duration": -17,
    "start_time": "2021-10-30T04:19:35.037Z"
   },
   {
    "duration": -17,
    "start_time": "2021-10-30T04:19:35.038Z"
   },
   {
    "duration": -17,
    "start_time": "2021-10-30T04:19:35.039Z"
   },
   {
    "duration": -21,
    "start_time": "2021-10-30T04:19:35.044Z"
   },
   {
    "duration": -21,
    "start_time": "2021-10-30T04:19:35.045Z"
   },
   {
    "duration": -20,
    "start_time": "2021-10-30T04:19:35.045Z"
   },
   {
    "duration": -20,
    "start_time": "2021-10-30T04:19:35.046Z"
   },
   {
    "duration": -20,
    "start_time": "2021-10-30T04:19:35.047Z"
   },
   {
    "duration": 2120,
    "start_time": "2021-10-30T04:20:21.602Z"
   },
   {
    "duration": 40,
    "start_time": "2021-10-30T04:20:23.724Z"
   },
   {
    "duration": 30,
    "start_time": "2021-10-30T04:20:23.766Z"
   },
   {
    "duration": 13,
    "start_time": "2021-10-30T04:20:23.798Z"
   },
   {
    "duration": 13,
    "start_time": "2021-10-30T04:20:23.813Z"
   },
   {
    "duration": 13,
    "start_time": "2021-10-30T04:20:23.827Z"
   },
   {
    "duration": 5,
    "start_time": "2021-10-30T04:20:23.842Z"
   },
   {
    "duration": 6,
    "start_time": "2021-10-30T04:20:23.849Z"
   },
   {
    "duration": 34,
    "start_time": "2021-10-30T04:20:23.858Z"
   },
   {
    "duration": 729,
    "start_time": "2021-10-30T04:20:23.895Z"
   },
   {
    "duration": -22,
    "start_time": "2021-10-30T04:20:24.649Z"
   },
   {
    "duration": -23,
    "start_time": "2021-10-30T04:20:24.651Z"
   },
   {
    "duration": -24,
    "start_time": "2021-10-30T04:20:24.653Z"
   },
   {
    "duration": -27,
    "start_time": "2021-10-30T04:20:24.657Z"
   },
   {
    "duration": -28,
    "start_time": "2021-10-30T04:20:24.658Z"
   },
   {
    "duration": -28,
    "start_time": "2021-10-30T04:20:24.659Z"
   },
   {
    "duration": -28,
    "start_time": "2021-10-30T04:20:24.660Z"
   },
   {
    "duration": -28,
    "start_time": "2021-10-30T04:20:24.661Z"
   },
   {
    "duration": -28,
    "start_time": "2021-10-30T04:20:24.662Z"
   },
   {
    "duration": -28,
    "start_time": "2021-10-30T04:20:24.663Z"
   },
   {
    "duration": -28,
    "start_time": "2021-10-30T04:20:24.664Z"
   },
   {
    "duration": -28,
    "start_time": "2021-10-30T04:20:24.665Z"
   },
   {
    "duration": -28,
    "start_time": "2021-10-30T04:20:24.666Z"
   },
   {
    "duration": -28,
    "start_time": "2021-10-30T04:20:24.667Z"
   },
   {
    "duration": -28,
    "start_time": "2021-10-30T04:20:24.668Z"
   },
   {
    "duration": -28,
    "start_time": "2021-10-30T04:20:24.669Z"
   },
   {
    "duration": -28,
    "start_time": "2021-10-30T04:20:24.670Z"
   },
   {
    "duration": -28,
    "start_time": "2021-10-30T04:20:24.671Z"
   },
   {
    "duration": -32,
    "start_time": "2021-10-30T04:20:24.675Z"
   },
   {
    "duration": -32,
    "start_time": "2021-10-30T04:20:24.676Z"
   },
   {
    "duration": -32,
    "start_time": "2021-10-30T04:20:24.677Z"
   },
   {
    "duration": -53,
    "start_time": "2021-10-30T04:20:24.699Z"
   },
   {
    "duration": -53,
    "start_time": "2021-10-30T04:20:24.700Z"
   },
   {
    "duration": -53,
    "start_time": "2021-10-30T04:20:24.701Z"
   },
   {
    "duration": -53,
    "start_time": "2021-10-30T04:20:24.702Z"
   },
   {
    "duration": -71,
    "start_time": "2021-10-30T04:20:24.721Z"
   },
   {
    "duration": -32,
    "start_time": "2021-10-30T04:20:24.722Z"
   },
   {
    "duration": 2098,
    "start_time": "2021-10-30T04:21:40.716Z"
   },
   {
    "duration": 38,
    "start_time": "2021-10-30T04:21:42.817Z"
   },
   {
    "duration": 28,
    "start_time": "2021-10-30T04:21:42.857Z"
   },
   {
    "duration": 12,
    "start_time": "2021-10-30T04:21:42.887Z"
   },
   {
    "duration": 10,
    "start_time": "2021-10-30T04:21:42.900Z"
   },
   {
    "duration": 12,
    "start_time": "2021-10-30T04:21:42.912Z"
   },
   {
    "duration": 5,
    "start_time": "2021-10-30T04:21:42.925Z"
   },
   {
    "duration": 4,
    "start_time": "2021-10-30T04:21:42.931Z"
   },
   {
    "duration": 6,
    "start_time": "2021-10-30T04:21:42.938Z"
   },
   {
    "duration": 1796,
    "start_time": "2021-10-30T04:21:42.946Z"
   },
   {
    "duration": 3,
    "start_time": "2021-10-30T04:21:44.744Z"
   },
   {
    "duration": 6,
    "start_time": "2021-10-30T04:21:44.748Z"
   },
   {
    "duration": 750,
    "start_time": "2021-10-30T04:21:44.756Z"
   },
   {
    "duration": -27,
    "start_time": "2021-10-30T04:21:45.535Z"
   },
   {
    "duration": -27,
    "start_time": "2021-10-30T04:21:45.536Z"
   },
   {
    "duration": -27,
    "start_time": "2021-10-30T04:21:45.537Z"
   },
   {
    "duration": -28,
    "start_time": "2021-10-30T04:21:45.539Z"
   },
   {
    "duration": -33,
    "start_time": "2021-10-30T04:21:45.545Z"
   },
   {
    "duration": -33,
    "start_time": "2021-10-30T04:21:45.546Z"
   },
   {
    "duration": -33,
    "start_time": "2021-10-30T04:21:45.547Z"
   },
   {
    "duration": -33,
    "start_time": "2021-10-30T04:21:45.548Z"
   },
   {
    "duration": -33,
    "start_time": "2021-10-30T04:21:45.549Z"
   },
   {
    "duration": -33,
    "start_time": "2021-10-30T04:21:45.550Z"
   },
   {
    "duration": -33,
    "start_time": "2021-10-30T04:21:45.551Z"
   },
   {
    "duration": -33,
    "start_time": "2021-10-30T04:21:45.552Z"
   },
   {
    "duration": -34,
    "start_time": "2021-10-30T04:21:45.553Z"
   },
   {
    "duration": -33,
    "start_time": "2021-10-30T04:21:45.553Z"
   },
   {
    "duration": -33,
    "start_time": "2021-10-30T04:21:45.554Z"
   },
   {
    "duration": -42,
    "start_time": "2021-10-30T04:21:45.564Z"
   },
   {
    "duration": -43,
    "start_time": "2021-10-30T04:21:45.566Z"
   },
   {
    "duration": -42,
    "start_time": "2021-10-30T04:21:45.566Z"
   },
   {
    "duration": -42,
    "start_time": "2021-10-30T04:21:45.567Z"
   },
   {
    "duration": -42,
    "start_time": "2021-10-30T04:21:45.568Z"
   },
   {
    "duration": -42,
    "start_time": "2021-10-30T04:21:45.569Z"
   },
   {
    "duration": -42,
    "start_time": "2021-10-30T04:21:45.570Z"
   },
   {
    "duration": -42,
    "start_time": "2021-10-30T04:21:45.570Z"
   },
   {
    "duration": 2011,
    "start_time": "2021-10-30T04:23:02.907Z"
   },
   {
    "duration": 39,
    "start_time": "2021-10-30T04:23:04.920Z"
   },
   {
    "duration": 28,
    "start_time": "2021-10-30T04:23:04.961Z"
   },
   {
    "duration": 12,
    "start_time": "2021-10-30T04:23:04.991Z"
   },
   {
    "duration": 13,
    "start_time": "2021-10-30T04:23:05.004Z"
   },
   {
    "duration": 11,
    "start_time": "2021-10-30T04:23:05.019Z"
   },
   {
    "duration": 5,
    "start_time": "2021-10-30T04:23:05.032Z"
   },
   {
    "duration": 7,
    "start_time": "2021-10-30T04:23:05.039Z"
   },
   {
    "duration": 1885,
    "start_time": "2021-10-30T04:23:05.049Z"
   },
   {
    "duration": 3,
    "start_time": "2021-10-30T04:23:06.937Z"
   },
   {
    "duration": 13,
    "start_time": "2021-10-30T04:23:06.942Z"
   },
   {
    "duration": 1493,
    "start_time": "2021-10-30T04:23:06.956Z"
   },
   {
    "duration": 4,
    "start_time": "2021-10-30T04:23:08.450Z"
   },
   {
    "duration": 15,
    "start_time": "2021-10-30T04:23:08.455Z"
   },
   {
    "duration": 721,
    "start_time": "2021-10-30T04:23:08.471Z"
   },
   {
    "duration": -71,
    "start_time": "2021-10-30T04:23:09.265Z"
   },
   {
    "duration": -71,
    "start_time": "2021-10-30T04:23:09.266Z"
   },
   {
    "duration": -71,
    "start_time": "2021-10-30T04:23:09.267Z"
   },
   {
    "duration": -71,
    "start_time": "2021-10-30T04:23:09.268Z"
   },
   {
    "duration": -71,
    "start_time": "2021-10-30T04:23:09.269Z"
   },
   {
    "duration": -71,
    "start_time": "2021-10-30T04:23:09.270Z"
   },
   {
    "duration": -71,
    "start_time": "2021-10-30T04:23:09.271Z"
   },
   {
    "duration": -71,
    "start_time": "2021-10-30T04:23:09.272Z"
   },
   {
    "duration": -72,
    "start_time": "2021-10-30T04:23:09.273Z"
   },
   {
    "duration": -71,
    "start_time": "2021-10-30T04:23:09.273Z"
   },
   {
    "duration": -71,
    "start_time": "2021-10-30T04:23:09.274Z"
   },
   {
    "duration": -71,
    "start_time": "2021-10-30T04:23:09.275Z"
   },
   {
    "duration": -76,
    "start_time": "2021-10-30T04:23:09.281Z"
   },
   {
    "duration": -76,
    "start_time": "2021-10-30T04:23:09.282Z"
   },
   {
    "duration": -76,
    "start_time": "2021-10-30T04:23:09.283Z"
   },
   {
    "duration": -76,
    "start_time": "2021-10-30T04:23:09.284Z"
   },
   {
    "duration": -76,
    "start_time": "2021-10-30T04:23:09.285Z"
   },
   {
    "duration": -75,
    "start_time": "2021-10-30T04:23:09.285Z"
   },
   {
    "duration": -76,
    "start_time": "2021-10-30T04:23:09.286Z"
   },
   {
    "duration": -76,
    "start_time": "2021-10-30T04:23:09.287Z"
   },
   {
    "duration": 1507,
    "start_time": "2021-10-30T04:24:34.572Z"
   },
   {
    "duration": 1508,
    "start_time": "2021-10-30T04:24:47.886Z"
   },
   {
    "duration": 1449,
    "start_time": "2021-10-30T04:25:04.294Z"
   },
   {
    "duration": 1626,
    "start_time": "2021-10-30T04:25:23.188Z"
   },
   {
    "duration": 182,
    "start_time": "2021-10-30T04:25:54.449Z"
   },
   {
    "duration": 173,
    "start_time": "2021-10-30T04:26:03.896Z"
   },
   {
    "duration": 1873,
    "start_time": "2021-10-30T04:26:39.190Z"
   },
   {
    "duration": 1992,
    "start_time": "2021-10-30T04:27:24.766Z"
   },
   {
    "duration": 59,
    "start_time": "2021-10-30T04:27:54.075Z"
   },
   {
    "duration": 1489,
    "start_time": "2021-10-30T04:27:58.821Z"
   },
   {
    "duration": 4,
    "start_time": "2021-10-30T04:28:25.110Z"
   },
   {
    "duration": 306,
    "start_time": "2021-10-30T04:28:37.820Z"
   },
   {
    "duration": 282,
    "start_time": "2021-10-30T04:28:42.799Z"
   },
   {
    "duration": 589,
    "start_time": "2021-10-30T04:28:49.269Z"
   },
   {
    "duration": 326,
    "start_time": "2021-10-30T04:30:26.717Z"
   },
   {
    "duration": 4,
    "start_time": "2021-10-30T04:30:35.935Z"
   },
   {
    "duration": 647,
    "start_time": "2021-10-30T04:30:38.637Z"
   },
   {
    "duration": 65,
    "start_time": "2021-10-30T04:35:53.595Z"
   },
   {
    "duration": 9,
    "start_time": "2021-10-30T04:36:20.728Z"
   },
   {
    "duration": 3,
    "start_time": "2021-10-30T04:36:47.858Z"
   },
   {
    "duration": 3,
    "start_time": "2021-10-30T04:39:16.220Z"
   },
   {
    "duration": 557,
    "start_time": "2021-10-30T04:40:08.936Z"
   },
   {
    "duration": 377,
    "start_time": "2021-10-30T04:40:19.427Z"
   },
   {
    "duration": 379,
    "start_time": "2021-10-30T04:40:43.770Z"
   },
   {
    "duration": 378,
    "start_time": "2021-10-30T04:40:52.114Z"
   },
   {
    "duration": 380,
    "start_time": "2021-10-30T04:41:58.357Z"
   },
   {
    "duration": 371,
    "start_time": "2021-10-30T04:42:40.569Z"
   },
   {
    "duration": 370,
    "start_time": "2021-10-30T04:42:54.106Z"
   },
   {
    "duration": 2032,
    "start_time": "2021-10-30T04:43:13.687Z"
   },
   {
    "duration": 39,
    "start_time": "2021-10-30T04:43:15.721Z"
   },
   {
    "duration": 29,
    "start_time": "2021-10-30T04:43:15.762Z"
   },
   {
    "duration": 11,
    "start_time": "2021-10-30T04:43:15.793Z"
   },
   {
    "duration": 11,
    "start_time": "2021-10-30T04:43:15.805Z"
   },
   {
    "duration": 11,
    "start_time": "2021-10-30T04:43:15.817Z"
   },
   {
    "duration": 3,
    "start_time": "2021-10-30T04:43:15.830Z"
   },
   {
    "duration": 6,
    "start_time": "2021-10-30T04:43:15.834Z"
   },
   {
    "duration": 305,
    "start_time": "2021-10-30T04:43:15.842Z"
   },
   {
    "duration": 6,
    "start_time": "2021-10-30T04:43:16.149Z"
   },
   {
    "duration": 5,
    "start_time": "2021-10-30T04:43:16.157Z"
   },
   {
    "duration": 586,
    "start_time": "2021-10-30T04:43:16.163Z"
   },
   {
    "duration": 474,
    "start_time": "2021-10-30T04:43:16.751Z"
   },
   {
    "duration": 10,
    "start_time": "2021-10-30T04:43:17.227Z"
   },
   {
    "duration": 6,
    "start_time": "2021-10-30T04:43:17.239Z"
   },
   {
    "duration": 5,
    "start_time": "2021-10-30T04:43:17.247Z"
   },
   {
    "duration": 5,
    "start_time": "2021-10-30T04:43:17.254Z"
   },
   {
    "duration": 31,
    "start_time": "2021-10-30T04:43:17.260Z"
   },
   {
    "duration": 500,
    "start_time": "2021-10-30T04:43:17.293Z"
   },
   {
    "duration": 44,
    "start_time": "2021-10-30T04:43:17.794Z"
   },
   {
    "duration": 20,
    "start_time": "2021-10-30T04:43:17.839Z"
   },
   {
    "duration": 39,
    "start_time": "2021-10-30T04:43:17.860Z"
   },
   {
    "duration": 4,
    "start_time": "2021-10-30T04:43:17.900Z"
   },
   {
    "duration": 819,
    "start_time": "2021-10-30T04:43:17.906Z"
   },
   {
    "duration": 50,
    "start_time": "2021-10-30T04:43:18.727Z"
   },
   {
    "duration": -39,
    "start_time": "2021-10-30T04:43:18.818Z"
   },
   {
    "duration": -40,
    "start_time": "2021-10-30T04:43:18.820Z"
   },
   {
    "duration": -40,
    "start_time": "2021-10-30T04:43:18.821Z"
   },
   {
    "duration": -41,
    "start_time": "2021-10-30T04:43:18.822Z"
   },
   {
    "duration": -41,
    "start_time": "2021-10-30T04:43:18.823Z"
   },
   {
    "duration": -46,
    "start_time": "2021-10-30T04:43:18.829Z"
   },
   {
    "duration": -47,
    "start_time": "2021-10-30T04:43:18.830Z"
   },
   {
    "duration": -49,
    "start_time": "2021-10-30T04:44:27.928Z"
   },
   {
    "duration": 8,
    "start_time": "2021-10-30T04:44:35.779Z"
   },
   {
    "duration": 4807,
    "start_time": "2021-10-30T04:44:38.222Z"
   },
   {
    "duration": 2101,
    "start_time": "2021-10-30T04:45:10.570Z"
   },
   {
    "duration": 39,
    "start_time": "2021-10-30T04:45:12.673Z"
   },
   {
    "duration": 29,
    "start_time": "2021-10-30T04:45:12.714Z"
   },
   {
    "duration": 12,
    "start_time": "2021-10-30T04:45:12.744Z"
   },
   {
    "duration": 18,
    "start_time": "2021-10-30T04:45:12.757Z"
   },
   {
    "duration": 24,
    "start_time": "2021-10-30T04:45:12.776Z"
   },
   {
    "duration": 5,
    "start_time": "2021-10-30T04:45:12.802Z"
   },
   {
    "duration": 291,
    "start_time": "2021-10-30T04:45:12.808Z"
   },
   {
    "duration": 6,
    "start_time": "2021-10-30T04:45:13.102Z"
   },
   {
    "duration": 6,
    "start_time": "2021-10-30T04:45:13.111Z"
   },
   {
    "duration": 654,
    "start_time": "2021-10-30T04:45:13.119Z"
   },
   {
    "duration": 490,
    "start_time": "2021-10-30T04:45:13.775Z"
   },
   {
    "duration": 11,
    "start_time": "2021-10-30T04:45:14.266Z"
   },
   {
    "duration": 16,
    "start_time": "2021-10-30T04:45:14.279Z"
   },
   {
    "duration": 5,
    "start_time": "2021-10-30T04:45:14.296Z"
   },
   {
    "duration": 5,
    "start_time": "2021-10-30T04:45:14.303Z"
   },
   {
    "duration": 5,
    "start_time": "2021-10-30T04:45:14.310Z"
   },
   {
    "duration": 438,
    "start_time": "2021-10-30T04:45:14.317Z"
   },
   {
    "duration": 56,
    "start_time": "2021-10-30T04:45:14.758Z"
   },
   {
    "duration": 22,
    "start_time": "2021-10-30T04:45:14.816Z"
   },
   {
    "duration": 16,
    "start_time": "2021-10-30T04:45:14.840Z"
   },
   {
    "duration": 5,
    "start_time": "2021-10-30T04:45:14.858Z"
   },
   {
    "duration": 909,
    "start_time": "2021-10-30T04:45:14.865Z"
   },
   {
    "duration": 60,
    "start_time": "2021-10-30T04:45:15.776Z"
   },
   {
    "duration": -34,
    "start_time": "2021-10-30T04:45:15.871Z"
   },
   {
    "duration": -33,
    "start_time": "2021-10-30T04:45:15.871Z"
   },
   {
    "duration": -34,
    "start_time": "2021-10-30T04:45:15.873Z"
   },
   {
    "duration": -45,
    "start_time": "2021-10-30T04:45:15.885Z"
   },
   {
    "duration": -44,
    "start_time": "2021-10-30T04:45:15.886Z"
   },
   {
    "duration": -44,
    "start_time": "2021-10-30T04:45:15.887Z"
   },
   {
    "duration": -45,
    "start_time": "2021-10-30T04:45:15.888Z"
   },
   {
    "duration": 9,
    "start_time": "2021-10-30T04:45:41.124Z"
   },
   {
    "duration": 2059,
    "start_time": "2021-10-30T04:45:45.398Z"
   },
   {
    "duration": 40,
    "start_time": "2021-10-30T04:45:47.459Z"
   },
   {
    "duration": 30,
    "start_time": "2021-10-30T04:45:47.502Z"
   },
   {
    "duration": 12,
    "start_time": "2021-10-30T04:45:47.534Z"
   },
   {
    "duration": 11,
    "start_time": "2021-10-30T04:45:47.548Z"
   },
   {
    "duration": 38,
    "start_time": "2021-10-30T04:45:47.561Z"
   },
   {
    "duration": 6,
    "start_time": "2021-10-30T04:45:47.601Z"
   },
   {
    "duration": 304,
    "start_time": "2021-10-30T04:45:47.608Z"
   },
   {
    "duration": 8,
    "start_time": "2021-10-30T04:45:47.916Z"
   },
   {
    "duration": 9,
    "start_time": "2021-10-30T04:45:47.927Z"
   },
   {
    "duration": 756,
    "start_time": "2021-10-30T04:45:47.938Z"
   },
   {
    "duration": 474,
    "start_time": "2021-10-30T04:45:48.696Z"
   },
   {
    "duration": 19,
    "start_time": "2021-10-30T04:45:49.172Z"
   },
   {
    "duration": 6,
    "start_time": "2021-10-30T04:45:49.193Z"
   },
   {
    "duration": 7,
    "start_time": "2021-10-30T04:45:49.200Z"
   },
   {
    "duration": 5,
    "start_time": "2021-10-30T04:45:49.208Z"
   },
   {
    "duration": 5,
    "start_time": "2021-10-30T04:45:49.214Z"
   },
   {
    "duration": 430,
    "start_time": "2021-10-30T04:45:49.221Z"
   },
   {
    "duration": 50,
    "start_time": "2021-10-30T04:45:49.653Z"
   },
   {
    "duration": 20,
    "start_time": "2021-10-30T04:45:49.704Z"
   },
   {
    "duration": 14,
    "start_time": "2021-10-30T04:45:49.725Z"
   },
   {
    "duration": 4,
    "start_time": "2021-10-30T04:45:49.740Z"
   },
   {
    "duration": 947,
    "start_time": "2021-10-30T04:45:49.746Z"
   },
   {
    "duration": 57,
    "start_time": "2021-10-30T04:45:50.694Z"
   },
   {
    "duration": -29,
    "start_time": "2021-10-30T04:45:50.782Z"
   },
   {
    "duration": -30,
    "start_time": "2021-10-30T04:45:50.784Z"
   },
   {
    "duration": -31,
    "start_time": "2021-10-30T04:45:50.786Z"
   },
   {
    "duration": -31,
    "start_time": "2021-10-30T04:45:50.787Z"
   },
   {
    "duration": -33,
    "start_time": "2021-10-30T04:45:50.790Z"
   },
   {
    "duration": -44,
    "start_time": "2021-10-30T04:45:50.803Z"
   },
   {
    "duration": -44,
    "start_time": "2021-10-30T04:45:50.804Z"
   },
   {
    "duration": 9,
    "start_time": "2021-10-30T04:46:28.283Z"
   },
   {
    "duration": 8,
    "start_time": "2021-10-30T04:46:29.316Z"
   },
   {
    "duration": 9,
    "start_time": "2021-10-30T04:46:30.208Z"
   },
   {
    "duration": 8,
    "start_time": "2021-10-30T04:46:31.118Z"
   },
   {
    "duration": 7,
    "start_time": "2021-10-30T04:46:33.102Z"
   },
   {
    "duration": 8,
    "start_time": "2021-10-30T04:46:35.814Z"
   },
   {
    "duration": 63,
    "start_time": "2021-10-30T04:46:50.798Z"
   },
   {
    "duration": 4,
    "start_time": "2021-10-30T04:47:02.719Z"
   },
   {
    "duration": 4,
    "start_time": "2021-10-30T04:47:03.946Z"
   },
   {
    "duration": 4,
    "start_time": "2021-10-30T04:47:05.504Z"
   },
   {
    "duration": 4,
    "start_time": "2021-10-30T04:47:06.194Z"
   },
   {
    "duration": 8,
    "start_time": "2021-10-30T04:47:11.200Z"
   },
   {
    "duration": 8,
    "start_time": "2021-10-30T04:47:12.322Z"
   },
   {
    "duration": 8,
    "start_time": "2021-10-30T04:47:13.034Z"
   },
   {
    "duration": 8,
    "start_time": "2021-10-30T04:47:38.772Z"
   },
   {
    "duration": 2040,
    "start_time": "2021-10-30T04:53:14.941Z"
   },
   {
    "duration": 43,
    "start_time": "2021-10-30T04:53:16.983Z"
   },
   {
    "duration": 28,
    "start_time": "2021-10-30T04:53:17.028Z"
   },
   {
    "duration": 12,
    "start_time": "2021-10-30T04:53:17.058Z"
   },
   {
    "duration": 20,
    "start_time": "2021-10-30T04:53:17.071Z"
   },
   {
    "duration": 14,
    "start_time": "2021-10-30T04:53:17.093Z"
   },
   {
    "duration": 8,
    "start_time": "2021-10-30T04:53:17.108Z"
   },
   {
    "duration": 293,
    "start_time": "2021-10-30T04:53:17.118Z"
   },
   {
    "duration": 13497,
    "start_time": "2021-10-30T04:53:17.413Z"
   },
   {
    "duration": 4,
    "start_time": "2021-10-30T04:53:30.912Z"
   },
   {
    "duration": 9,
    "start_time": "2021-10-30T04:53:30.918Z"
   },
   {
    "duration": 634,
    "start_time": "2021-10-30T04:53:30.929Z"
   },
   {
    "duration": 3258,
    "start_time": "2021-10-30T04:53:34.712Z"
   },
   {
    "duration": 37,
    "start_time": "2021-10-30T04:53:37.971Z"
   },
   {
    "duration": 29,
    "start_time": "2021-10-30T04:53:38.009Z"
   },
   {
    "duration": 11,
    "start_time": "2021-10-30T04:53:38.040Z"
   },
   {
    "duration": 15,
    "start_time": "2021-10-30T04:53:38.052Z"
   },
   {
    "duration": 27,
    "start_time": "2021-10-30T04:53:38.069Z"
   },
   {
    "duration": 6,
    "start_time": "2021-10-30T04:53:38.098Z"
   },
   {
    "duration": 298,
    "start_time": "2021-10-30T04:53:38.106Z"
   },
   {
    "duration": 10970,
    "start_time": "2021-10-30T04:53:38.407Z"
   },
   {
    "duration": 3,
    "start_time": "2021-10-30T04:53:49.380Z"
   },
   {
    "duration": 4,
    "start_time": "2021-10-30T04:53:49.391Z"
   },
   {
    "duration": 680,
    "start_time": "2021-10-30T04:53:49.397Z"
   },
   {
    "duration": 506,
    "start_time": "2021-10-30T04:53:50.079Z"
   },
   {
    "duration": 13,
    "start_time": "2021-10-30T04:53:50.587Z"
   },
   {
    "duration": 7,
    "start_time": "2021-10-30T04:53:50.601Z"
   },
   {
    "duration": 5,
    "start_time": "2021-10-30T04:53:50.609Z"
   },
   {
    "duration": 7,
    "start_time": "2021-10-30T04:53:50.615Z"
   },
   {
    "duration": 6,
    "start_time": "2021-10-30T04:53:50.623Z"
   },
   {
    "duration": 433,
    "start_time": "2021-10-30T04:53:50.630Z"
   },
   {
    "duration": 45,
    "start_time": "2021-10-30T04:53:51.065Z"
   },
   {
    "duration": 19,
    "start_time": "2021-10-30T04:53:51.111Z"
   },
   {
    "duration": 14,
    "start_time": "2021-10-30T04:53:51.132Z"
   },
   {
    "duration": 4,
    "start_time": "2021-10-30T04:53:51.148Z"
   },
   {
    "duration": 876,
    "start_time": "2021-10-30T04:53:51.153Z"
   },
   {
    "duration": 60,
    "start_time": "2021-10-30T04:53:52.031Z"
   },
   {
    "duration": -33,
    "start_time": "2021-10-30T04:53:52.126Z"
   },
   {
    "duration": -35,
    "start_time": "2021-10-30T04:53:52.128Z"
   },
   {
    "duration": -36,
    "start_time": "2021-10-30T04:53:52.130Z"
   },
   {
    "duration": -36,
    "start_time": "2021-10-30T04:53:52.131Z"
   },
   {
    "duration": -36,
    "start_time": "2021-10-30T04:53:52.132Z"
   },
   {
    "duration": -38,
    "start_time": "2021-10-30T04:53:52.134Z"
   },
   {
    "duration": -38,
    "start_time": "2021-10-30T04:53:52.135Z"
   },
   {
    "duration": 7534,
    "start_time": "2021-10-30T04:53:58.448Z"
   },
   {
    "duration": 54,
    "start_time": "2021-10-30T04:54:56.628Z"
   },
   {
    "duration": 257,
    "start_time": "2021-10-30T04:55:05.181Z"
   },
   {
    "duration": 445,
    "start_time": "2021-10-30T04:55:33.650Z"
   },
   {
    "duration": 452,
    "start_time": "2021-10-30T04:55:43.822Z"
   },
   {
    "duration": 451,
    "start_time": "2021-10-30T04:55:55.408Z"
   },
   {
    "duration": 284,
    "start_time": "2021-10-30T04:56:09.818Z"
   },
   {
    "duration": 2035,
    "start_time": "2021-10-30T04:56:44.830Z"
   },
   {
    "duration": 42,
    "start_time": "2021-10-30T04:56:46.867Z"
   },
   {
    "duration": 30,
    "start_time": "2021-10-30T04:56:46.911Z"
   },
   {
    "duration": 13,
    "start_time": "2021-10-30T04:56:46.942Z"
   },
   {
    "duration": 17,
    "start_time": "2021-10-30T04:56:46.956Z"
   },
   {
    "duration": 28,
    "start_time": "2021-10-30T04:56:46.974Z"
   },
   {
    "duration": 7,
    "start_time": "2021-10-30T04:56:47.004Z"
   },
   {
    "duration": 290,
    "start_time": "2021-10-30T04:56:47.012Z"
   },
   {
    "duration": 1296,
    "start_time": "2021-10-30T04:56:47.305Z"
   },
   {
    "duration": 5,
    "start_time": "2021-10-30T04:56:48.604Z"
   },
   {
    "duration": 6,
    "start_time": "2021-10-30T04:56:48.610Z"
   },
   {
    "duration": 1012,
    "start_time": "2021-10-30T04:56:48.617Z"
   },
   {
    "duration": -20,
    "start_time": "2021-10-30T04:56:49.651Z"
   },
   {
    "duration": -20,
    "start_time": "2021-10-30T04:56:49.652Z"
   },
   {
    "duration": -20,
    "start_time": "2021-10-30T04:56:49.653Z"
   },
   {
    "duration": -21,
    "start_time": "2021-10-30T04:56:49.655Z"
   },
   {
    "duration": -21,
    "start_time": "2021-10-30T04:56:49.656Z"
   },
   {
    "duration": -21,
    "start_time": "2021-10-30T04:56:49.657Z"
   },
   {
    "duration": -21,
    "start_time": "2021-10-30T04:56:49.658Z"
   },
   {
    "duration": -21,
    "start_time": "2021-10-30T04:56:49.659Z"
   },
   {
    "duration": -23,
    "start_time": "2021-10-30T04:56:49.662Z"
   },
   {
    "duration": -24,
    "start_time": "2021-10-30T04:56:49.664Z"
   },
   {
    "duration": -23,
    "start_time": "2021-10-30T04:56:49.664Z"
   },
   {
    "duration": -23,
    "start_time": "2021-10-30T04:56:49.665Z"
   },
   {
    "duration": -27,
    "start_time": "2021-10-30T04:56:49.670Z"
   },
   {
    "duration": -27,
    "start_time": "2021-10-30T04:56:49.671Z"
   },
   {
    "duration": -27,
    "start_time": "2021-10-30T04:56:49.672Z"
   },
   {
    "duration": -27,
    "start_time": "2021-10-30T04:56:49.673Z"
   },
   {
    "duration": -27,
    "start_time": "2021-10-30T04:56:49.674Z"
   },
   {
    "duration": -27,
    "start_time": "2021-10-30T04:56:49.675Z"
   },
   {
    "duration": -27,
    "start_time": "2021-10-30T04:56:49.676Z"
   },
   {
    "duration": -27,
    "start_time": "2021-10-30T04:56:49.677Z"
   },
   {
    "duration": 1344,
    "start_time": "2021-10-30T04:58:30.320Z"
   },
   {
    "duration": 701,
    "start_time": "2021-10-30T04:58:37.368Z"
   },
   {
    "duration": 4,
    "start_time": "2021-10-30T04:58:45.143Z"
   },
   {
    "duration": 4,
    "start_time": "2021-10-30T04:58:48.538Z"
   },
   {
    "duration": 3,
    "start_time": "2021-10-30T04:58:52.255Z"
   },
   {
    "duration": 1378,
    "start_time": "2021-10-30T04:58:57.819Z"
   },
   {
    "duration": 729,
    "start_time": "2021-10-30T04:59:11.517Z"
   },
   {
    "duration": 2104,
    "start_time": "2021-10-30T04:59:16.883Z"
   },
   {
    "duration": 39,
    "start_time": "2021-10-30T04:59:18.989Z"
   },
   {
    "duration": 27,
    "start_time": "2021-10-30T04:59:19.030Z"
   },
   {
    "duration": 11,
    "start_time": "2021-10-30T04:59:19.059Z"
   },
   {
    "duration": 19,
    "start_time": "2021-10-30T04:59:19.072Z"
   },
   {
    "duration": 12,
    "start_time": "2021-10-30T04:59:19.093Z"
   },
   {
    "duration": 5,
    "start_time": "2021-10-30T04:59:19.106Z"
   },
   {
    "duration": 295,
    "start_time": "2021-10-30T04:59:19.113Z"
   },
   {
    "duration": 1167,
    "start_time": "2021-10-30T04:59:19.412Z"
   },
   {
    "duration": 11,
    "start_time": "2021-10-30T04:59:20.582Z"
   },
   {
    "duration": 9,
    "start_time": "2021-10-30T04:59:20.595Z"
   },
   {
    "duration": 753,
    "start_time": "2021-10-30T04:59:20.605Z"
   },
   {
    "duration": -15,
    "start_time": "2021-10-30T04:59:21.376Z"
   },
   {
    "duration": -16,
    "start_time": "2021-10-30T04:59:21.378Z"
   },
   {
    "duration": -15,
    "start_time": "2021-10-30T04:59:21.379Z"
   },
   {
    "duration": -15,
    "start_time": "2021-10-30T04:59:21.380Z"
   },
   {
    "duration": -18,
    "start_time": "2021-10-30T04:59:21.385Z"
   },
   {
    "duration": -18,
    "start_time": "2021-10-30T04:59:21.386Z"
   },
   {
    "duration": -18,
    "start_time": "2021-10-30T04:59:21.388Z"
   },
   {
    "duration": -19,
    "start_time": "2021-10-30T04:59:21.390Z"
   },
   {
    "duration": -20,
    "start_time": "2021-10-30T04:59:21.392Z"
   },
   {
    "duration": -21,
    "start_time": "2021-10-30T04:59:21.394Z"
   },
   {
    "duration": -9,
    "start_time": "2021-10-30T04:59:21.400Z"
   },
   {
    "duration": -10,
    "start_time": "2021-10-30T04:59:21.402Z"
   },
   {
    "duration": -10,
    "start_time": "2021-10-30T04:59:21.404Z"
   },
   {
    "duration": -10,
    "start_time": "2021-10-30T04:59:21.405Z"
   },
   {
    "duration": -9,
    "start_time": "2021-10-30T04:59:21.406Z"
   },
   {
    "duration": -9,
    "start_time": "2021-10-30T04:59:21.407Z"
   },
   {
    "duration": -8,
    "start_time": "2021-10-30T04:59:21.408Z"
   },
   {
    "duration": -7,
    "start_time": "2021-10-30T04:59:21.408Z"
   },
   {
    "duration": -7,
    "start_time": "2021-10-30T04:59:21.409Z"
   },
   {
    "duration": -6,
    "start_time": "2021-10-30T04:59:21.410Z"
   },
   {
    "duration": 1176,
    "start_time": "2021-10-30T05:01:28.872Z"
   },
   {
    "duration": 1191,
    "start_time": "2021-10-30T05:02:01.621Z"
   },
   {
    "duration": 4,
    "start_time": "2021-10-30T05:02:05.587Z"
   },
   {
    "duration": 692,
    "start_time": "2021-10-30T05:02:11.359Z"
   },
   {
    "duration": 483,
    "start_time": "2021-10-30T05:02:30.026Z"
   },
   {
    "duration": 431,
    "start_time": "2021-10-30T05:04:01.890Z"
   },
   {
    "duration": 11,
    "start_time": "2021-10-30T05:07:30.815Z"
   },
   {
    "duration": 2095,
    "start_time": "2021-10-30T05:07:49.249Z"
   },
   {
    "duration": 38,
    "start_time": "2021-10-30T05:07:51.347Z"
   },
   {
    "duration": 29,
    "start_time": "2021-10-30T05:07:51.387Z"
   },
   {
    "duration": 11,
    "start_time": "2021-10-30T05:07:51.418Z"
   },
   {
    "duration": 14,
    "start_time": "2021-10-30T05:07:51.431Z"
   },
   {
    "duration": 12,
    "start_time": "2021-10-30T05:07:51.446Z"
   },
   {
    "duration": 4,
    "start_time": "2021-10-30T05:07:51.460Z"
   },
   {
    "duration": 306,
    "start_time": "2021-10-30T05:07:51.466Z"
   },
   {
    "duration": 1173,
    "start_time": "2021-10-30T05:07:51.775Z"
   },
   {
    "duration": 3,
    "start_time": "2021-10-30T05:07:52.950Z"
   },
   {
    "duration": 634,
    "start_time": "2021-10-30T05:07:52.955Z"
   },
   {
    "duration": 478,
    "start_time": "2021-10-30T05:07:53.592Z"
   },
   {
    "duration": 11,
    "start_time": "2021-10-30T05:07:54.072Z"
   },
   {
    "duration": 6,
    "start_time": "2021-10-30T05:07:54.091Z"
   },
   {
    "duration": 5,
    "start_time": "2021-10-30T05:07:54.099Z"
   },
   {
    "duration": 5,
    "start_time": "2021-10-30T05:07:54.106Z"
   },
   {
    "duration": 7,
    "start_time": "2021-10-30T05:07:54.112Z"
   },
   {
    "duration": 441,
    "start_time": "2021-10-30T05:07:54.120Z"
   },
   {
    "duration": 53,
    "start_time": "2021-10-30T05:07:54.563Z"
   },
   {
    "duration": 20,
    "start_time": "2021-10-30T05:07:54.618Z"
   },
   {
    "duration": 14,
    "start_time": "2021-10-30T05:07:54.639Z"
   },
   {
    "duration": 3,
    "start_time": "2021-10-30T05:07:54.655Z"
   },
   {
    "duration": 920,
    "start_time": "2021-10-30T05:07:54.660Z"
   },
   {
    "duration": 57,
    "start_time": "2021-10-30T05:07:55.582Z"
   },
   {
    "duration": 5,
    "start_time": "2021-10-30T05:07:55.635Z"
   },
   {
    "duration": 4,
    "start_time": "2021-10-30T05:07:55.638Z"
   },
   {
    "duration": 4,
    "start_time": "2021-10-30T05:07:55.639Z"
   },
   {
    "duration": 4,
    "start_time": "2021-10-30T05:07:55.640Z"
   },
   {
    "duration": 3,
    "start_time": "2021-10-30T05:07:55.642Z"
   },
   {
    "duration": 3,
    "start_time": "2021-10-30T05:07:55.643Z"
   },
   {
    "duration": -8,
    "start_time": "2021-10-30T05:07:55.655Z"
   },
   {
    "duration": 295,
    "start_time": "2021-10-30T05:14:40.834Z"
   },
   {
    "duration": 24,
    "start_time": "2021-10-30T05:15:43.849Z"
   },
   {
    "duration": 334,
    "start_time": "2021-10-30T05:16:19.293Z"
   },
   {
    "duration": 24,
    "start_time": "2021-10-30T05:16:44.004Z"
   },
   {
    "duration": 668,
    "start_time": "2021-10-30T05:16:48.639Z"
   },
   {
    "duration": 7833,
    "start_time": "2021-10-30T05:17:16.782Z"
   },
   {
    "duration": 302,
    "start_time": "2021-10-30T05:17:33.290Z"
   },
   {
    "duration": 313,
    "start_time": "2021-10-30T05:18:14.302Z"
   },
   {
    "duration": 722,
    "start_time": "2021-10-30T05:18:24.529Z"
   },
   {
    "duration": 20,
    "start_time": "2021-10-30T05:19:36.015Z"
   },
   {
    "duration": 321,
    "start_time": "2021-10-30T05:19:45.412Z"
   },
   {
    "duration": 184,
    "start_time": "2021-10-30T05:21:10.858Z"
   },
   {
    "duration": 26,
    "start_time": "2021-10-30T05:21:24.829Z"
   },
   {
    "duration": 307,
    "start_time": "2021-10-30T05:21:28.900Z"
   },
   {
    "duration": 305,
    "start_time": "2021-10-30T05:24:55.747Z"
   },
   {
    "duration": 337,
    "start_time": "2021-10-30T05:24:59.821Z"
   },
   {
    "duration": 9,
    "start_time": "2021-10-30T05:25:07.884Z"
   },
   {
    "duration": 321,
    "start_time": "2021-10-30T05:25:19.716Z"
   },
   {
    "duration": 454,
    "start_time": "2021-10-30T05:25:25.171Z"
   },
   {
    "duration": 9,
    "start_time": "2021-10-30T05:26:09.707Z"
   },
   {
    "duration": 359,
    "start_time": "2021-10-30T05:26:45.425Z"
   },
   {
    "duration": 1381,
    "start_time": "2021-10-30T05:27:09.611Z"
   },
   {
    "duration": 64,
    "start_time": "2021-10-30T05:32:33.552Z"
   },
   {
    "duration": 328,
    "start_time": "2021-10-30T05:35:27.101Z"
   },
   {
    "duration": 246,
    "start_time": "2021-10-30T05:35:46.677Z"
   },
   {
    "duration": 238,
    "start_time": "2021-10-30T05:36:02.293Z"
   },
   {
    "duration": 224,
    "start_time": "2021-10-30T05:36:07.835Z"
   },
   {
    "duration": 217,
    "start_time": "2021-10-30T05:36:16.280Z"
   },
   {
    "duration": 225,
    "start_time": "2021-10-30T05:40:53.607Z"
   },
   {
    "duration": 21,
    "start_time": "2021-10-30T05:41:52.923Z"
   },
   {
    "duration": 407,
    "start_time": "2021-10-30T05:42:16.893Z"
   },
   {
    "duration": 443,
    "start_time": "2021-10-30T05:42:31.334Z"
   },
   {
    "duration": 380,
    "start_time": "2021-10-30T05:42:36.892Z"
   },
   {
    "duration": 367,
    "start_time": "2021-10-30T05:42:45.564Z"
   },
   {
    "duration": 374,
    "start_time": "2021-10-30T05:42:57.816Z"
   },
   {
    "duration": 4746,
    "start_time": "2021-10-30T05:44:09.323Z"
   },
   {
    "duration": 4649,
    "start_time": "2021-10-30T05:44:33.391Z"
   },
   {
    "duration": 11,
    "start_time": "2021-10-30T05:44:51.276Z"
   },
   {
    "duration": 4967,
    "start_time": "2021-10-30T05:45:04.596Z"
   },
   {
    "duration": 13,
    "start_time": "2021-10-30T05:45:34.706Z"
   },
   {
    "duration": 12,
    "start_time": "2021-10-30T05:46:12.067Z"
   },
   {
    "duration": 5184,
    "start_time": "2021-10-30T05:46:22.523Z"
   },
   {
    "duration": 225,
    "start_time": "2021-10-30T05:46:49.225Z"
   },
   {
    "duration": 221,
    "start_time": "2021-10-30T05:47:04.238Z"
   },
   {
    "duration": 12,
    "start_time": "2021-10-30T05:47:16.096Z"
   },
   {
    "duration": 411,
    "start_time": "2021-10-30T05:49:49.931Z"
   },
   {
    "duration": 397,
    "start_time": "2021-10-30T05:50:00.651Z"
   },
   {
    "duration": 26,
    "start_time": "2021-10-30T05:51:41.628Z"
   },
   {
    "duration": 25,
    "start_time": "2021-10-30T05:51:50.681Z"
   },
   {
    "duration": 23,
    "start_time": "2021-10-30T05:52:52.698Z"
   },
   {
    "duration": 23,
    "start_time": "2021-10-30T05:52:56.734Z"
   },
   {
    "duration": 29,
    "start_time": "2021-10-30T05:53:16.461Z"
   },
   {
    "duration": 1797,
    "start_time": "2021-10-30T05:56:20.931Z"
   },
   {
    "duration": 25,
    "start_time": "2021-10-30T05:59:11.489Z"
   },
   {
    "duration": 9,
    "start_time": "2021-10-30T06:02:58.128Z"
   },
   {
    "duration": 36,
    "start_time": "2021-10-30T06:04:01.488Z"
   },
   {
    "duration": 175,
    "start_time": "2021-10-30T06:13:49.498Z"
   },
   {
    "duration": 190,
    "start_time": "2021-10-30T06:14:06.932Z"
   },
   {
    "duration": 9,
    "start_time": "2021-10-30T06:14:15.451Z"
   },
   {
    "duration": 2144,
    "start_time": "2021-10-30T07:02:12.718Z"
   },
   {
    "duration": 39,
    "start_time": "2021-10-30T07:02:14.864Z"
   },
   {
    "duration": 28,
    "start_time": "2021-10-30T07:02:14.905Z"
   },
   {
    "duration": 13,
    "start_time": "2021-10-30T07:02:14.935Z"
   },
   {
    "duration": 36,
    "start_time": "2021-10-30T07:02:14.949Z"
   },
   {
    "duration": 33,
    "start_time": "2021-10-30T07:02:14.987Z"
   },
   {
    "duration": 24,
    "start_time": "2021-10-30T07:02:15.022Z"
   },
   {
    "duration": 284,
    "start_time": "2021-10-30T07:02:15.048Z"
   },
   {
    "duration": 1194,
    "start_time": "2021-10-30T07:02:15.334Z"
   },
   {
    "duration": 4,
    "start_time": "2021-10-30T07:02:16.530Z"
   },
   {
    "duration": 653,
    "start_time": "2021-10-30T07:02:16.535Z"
   },
   {
    "duration": 483,
    "start_time": "2021-10-30T07:02:17.191Z"
   },
   {
    "duration": 3,
    "start_time": "2021-10-30T07:02:17.675Z"
   },
   {
    "duration": 70,
    "start_time": "2021-10-30T07:02:17.680Z"
   },
   {
    "duration": -7,
    "start_time": "2021-10-30T07:02:17.760Z"
   },
   {
    "duration": -8,
    "start_time": "2021-10-30T07:02:17.762Z"
   },
   {
    "duration": -7,
    "start_time": "2021-10-30T07:02:17.762Z"
   },
   {
    "duration": -7,
    "start_time": "2021-10-30T07:02:17.763Z"
   },
   {
    "duration": -8,
    "start_time": "2021-10-30T07:02:17.765Z"
   },
   {
    "duration": -7,
    "start_time": "2021-10-30T07:02:17.765Z"
   },
   {
    "duration": -8,
    "start_time": "2021-10-30T07:02:17.767Z"
   },
   {
    "duration": -8,
    "start_time": "2021-10-30T07:02:17.768Z"
   },
   {
    "duration": -11,
    "start_time": "2021-10-30T07:02:17.772Z"
   },
   {
    "duration": -11,
    "start_time": "2021-10-30T07:02:17.773Z"
   },
   {
    "duration": -11,
    "start_time": "2021-10-30T07:02:17.774Z"
   },
   {
    "duration": -11,
    "start_time": "2021-10-30T07:02:17.775Z"
   },
   {
    "duration": -11,
    "start_time": "2021-10-30T07:02:17.776Z"
   },
   {
    "duration": -11,
    "start_time": "2021-10-30T07:02:17.777Z"
   },
   {
    "duration": -11,
    "start_time": "2021-10-30T07:02:17.778Z"
   },
   {
    "duration": -11,
    "start_time": "2021-10-30T07:02:17.779Z"
   },
   {
    "duration": -11,
    "start_time": "2021-10-30T07:02:17.780Z"
   },
   {
    "duration": -12,
    "start_time": "2021-10-30T07:02:17.781Z"
   },
   {
    "duration": -10,
    "start_time": "2021-10-30T07:02:17.781Z"
   },
   {
    "duration": -10,
    "start_time": "2021-10-30T07:02:17.782Z"
   },
   {
    "duration": -10,
    "start_time": "2021-10-30T07:02:17.783Z"
   },
   {
    "duration": -10,
    "start_time": "2021-10-30T07:02:17.784Z"
   },
   {
    "duration": -9,
    "start_time": "2021-10-30T07:02:17.784Z"
   },
   {
    "duration": -24,
    "start_time": "2021-10-30T07:02:17.800Z"
   },
   {
    "duration": -24,
    "start_time": "2021-10-30T07:02:17.801Z"
   },
   {
    "duration": -24,
    "start_time": "2021-10-30T07:02:17.802Z"
   },
   {
    "duration": -25,
    "start_time": "2021-10-30T07:02:17.804Z"
   },
   {
    "duration": -25,
    "start_time": "2021-10-30T07:02:17.805Z"
   },
   {
    "duration": -26,
    "start_time": "2021-10-30T07:02:17.806Z"
   },
   {
    "duration": -26,
    "start_time": "2021-10-30T07:02:17.807Z"
   },
   {
    "duration": -25,
    "start_time": "2021-10-30T07:02:17.807Z"
   },
   {
    "duration": -24,
    "start_time": "2021-10-30T07:02:17.808Z"
   },
   {
    "duration": -24,
    "start_time": "2021-10-30T07:02:17.809Z"
   },
   {
    "duration": 2970,
    "start_time": "2021-10-30T07:02:46.914Z"
   },
   {
    "duration": 37,
    "start_time": "2021-10-30T07:02:49.886Z"
   },
   {
    "duration": 29,
    "start_time": "2021-10-30T07:02:49.925Z"
   },
   {
    "duration": 11,
    "start_time": "2021-10-30T07:02:49.956Z"
   },
   {
    "duration": 11,
    "start_time": "2021-10-30T07:02:49.968Z"
   },
   {
    "duration": 11,
    "start_time": "2021-10-30T07:02:49.990Z"
   },
   {
    "duration": 6,
    "start_time": "2021-10-30T07:02:50.003Z"
   },
   {
    "duration": 323,
    "start_time": "2021-10-30T07:02:50.012Z"
   },
   {
    "duration": 1210,
    "start_time": "2021-10-30T07:02:50.337Z"
   },
   {
    "duration": 3,
    "start_time": "2021-10-30T07:02:51.549Z"
   },
   {
    "duration": 631,
    "start_time": "2021-10-30T07:02:51.554Z"
   },
   {
    "duration": 478,
    "start_time": "2021-10-30T07:02:52.186Z"
   },
   {
    "duration": 4,
    "start_time": "2021-10-30T07:02:52.666Z"
   },
   {
    "duration": 76,
    "start_time": "2021-10-30T07:02:52.672Z"
   },
   {
    "duration": -66,
    "start_time": "2021-10-30T07:02:52.818Z"
   },
   {
    "duration": -87,
    "start_time": "2021-10-30T07:02:52.840Z"
   },
   {
    "duration": -87,
    "start_time": "2021-10-30T07:02:52.842Z"
   },
   {
    "duration": -87,
    "start_time": "2021-10-30T07:02:52.843Z"
   },
   {
    "duration": -88,
    "start_time": "2021-10-30T07:02:52.845Z"
   },
   {
    "duration": -87,
    "start_time": "2021-10-30T07:02:52.846Z"
   },
   {
    "duration": -87,
    "start_time": "2021-10-30T07:02:52.847Z"
   },
   {
    "duration": -87,
    "start_time": "2021-10-30T07:02:52.849Z"
   },
   {
    "duration": -87,
    "start_time": "2021-10-30T07:02:52.850Z"
   },
   {
    "duration": -87,
    "start_time": "2021-10-30T07:02:52.851Z"
   },
   {
    "duration": -86,
    "start_time": "2021-10-30T07:02:52.852Z"
   },
   {
    "duration": -93,
    "start_time": "2021-10-30T07:02:52.860Z"
   },
   {
    "duration": -93,
    "start_time": "2021-10-30T07:02:52.861Z"
   },
   {
    "duration": -94,
    "start_time": "2021-10-30T07:02:52.864Z"
   },
   {
    "duration": -94,
    "start_time": "2021-10-30T07:02:52.865Z"
   },
   {
    "duration": -94,
    "start_time": "2021-10-30T07:02:52.866Z"
   },
   {
    "duration": -92,
    "start_time": "2021-10-30T07:02:52.866Z"
   },
   {
    "duration": -92,
    "start_time": "2021-10-30T07:02:52.867Z"
   },
   {
    "duration": -91,
    "start_time": "2021-10-30T07:02:52.868Z"
   },
   {
    "duration": -91,
    "start_time": "2021-10-30T07:02:52.869Z"
   },
   {
    "duration": -97,
    "start_time": "2021-10-30T07:02:52.876Z"
   },
   {
    "duration": -96,
    "start_time": "2021-10-30T07:02:52.877Z"
   },
   {
    "duration": -96,
    "start_time": "2021-10-30T07:02:52.878Z"
   },
   {
    "duration": -95,
    "start_time": "2021-10-30T07:02:52.879Z"
   },
   {
    "duration": -95,
    "start_time": "2021-10-30T07:02:52.880Z"
   },
   {
    "duration": -95,
    "start_time": "2021-10-30T07:02:52.881Z"
   },
   {
    "duration": -94,
    "start_time": "2021-10-30T07:02:52.881Z"
   },
   {
    "duration": -94,
    "start_time": "2021-10-30T07:02:52.882Z"
   },
   {
    "duration": -94,
    "start_time": "2021-10-30T07:02:52.883Z"
   },
   {
    "duration": -94,
    "start_time": "2021-10-30T07:02:52.884Z"
   },
   {
    "duration": -93,
    "start_time": "2021-10-30T07:02:52.884Z"
   },
   {
    "duration": -93,
    "start_time": "2021-10-30T07:02:52.885Z"
   },
   {
    "duration": -99,
    "start_time": "2021-10-30T07:02:52.891Z"
   },
   {
    "duration": 258,
    "start_time": "2021-10-30T07:03:27.201Z"
   },
   {
    "duration": 58,
    "start_time": "2021-10-30T07:03:46.653Z"
   },
   {
    "duration": 1225,
    "start_time": "2021-10-30T07:07:17.173Z"
   },
   {
    "duration": 174,
    "start_time": "2021-10-30T07:07:57.593Z"
   },
   {
    "duration": 184,
    "start_time": "2021-10-30T07:09:17.580Z"
   },
   {
    "duration": 4,
    "start_time": "2021-10-30T07:09:29.839Z"
   },
   {
    "duration": 82,
    "start_time": "2021-10-30T07:10:27.625Z"
   },
   {
    "duration": 57,
    "start_time": "2021-10-30T07:10:51.209Z"
   },
   {
    "duration": 57,
    "start_time": "2021-10-30T07:11:21.657Z"
   },
   {
    "duration": 120,
    "start_time": "2021-10-30T07:11:32.060Z"
   },
   {
    "duration": 178,
    "start_time": "2021-10-30T07:17:16.965Z"
   },
   {
    "duration": 185,
    "start_time": "2021-10-30T07:17:30.541Z"
   },
   {
    "duration": 906,
    "start_time": "2021-10-30T07:18:20.150Z"
   },
   {
    "duration": 173,
    "start_time": "2021-10-30T07:18:21.840Z"
   },
   {
    "duration": 2315,
    "start_time": "2021-10-30T07:18:53.356Z"
   },
   {
    "duration": 38,
    "start_time": "2021-10-30T07:18:55.673Z"
   },
   {
    "duration": 28,
    "start_time": "2021-10-30T07:18:55.713Z"
   },
   {
    "duration": 11,
    "start_time": "2021-10-30T07:18:55.743Z"
   },
   {
    "duration": 10,
    "start_time": "2021-10-30T07:18:55.756Z"
   },
   {
    "duration": 27,
    "start_time": "2021-10-30T07:18:55.768Z"
   },
   {
    "duration": 4,
    "start_time": "2021-10-30T07:18:55.797Z"
   },
   {
    "duration": 298,
    "start_time": "2021-10-30T07:18:55.804Z"
   },
   {
    "duration": 1257,
    "start_time": "2021-10-30T07:18:56.104Z"
   },
   {
    "duration": 4,
    "start_time": "2021-10-30T07:18:57.363Z"
   },
   {
    "duration": 710,
    "start_time": "2021-10-30T07:18:57.368Z"
   },
   {
    "duration": 501,
    "start_time": "2021-10-30T07:18:58.079Z"
   },
   {
    "duration": 3,
    "start_time": "2021-10-30T07:18:58.582Z"
   },
   {
    "duration": 10,
    "start_time": "2021-10-30T07:18:58.587Z"
   },
   {
    "duration": 30,
    "start_time": "2021-10-30T07:18:58.599Z"
   },
   {
    "duration": 9,
    "start_time": "2021-10-30T07:18:58.630Z"
   },
   {
    "duration": 1426,
    "start_time": "2021-10-30T07:18:58.640Z"
   },
   {
    "duration": 3,
    "start_time": "2021-10-30T07:19:00.068Z"
   },
   {
    "duration": 7,
    "start_time": "2021-10-30T07:19:00.072Z"
   },
   {
    "duration": 17,
    "start_time": "2021-10-30T07:19:00.081Z"
   },
   {
    "duration": 417,
    "start_time": "2021-10-30T07:19:00.100Z"
   },
   {
    "duration": 45,
    "start_time": "2021-10-30T07:19:00.518Z"
   },
   {
    "duration": 36,
    "start_time": "2021-10-30T07:19:00.567Z"
   },
   {
    "duration": 15,
    "start_time": "2021-10-30T07:19:00.604Z"
   },
   {
    "duration": 4,
    "start_time": "2021-10-30T07:19:00.621Z"
   },
   {
    "duration": 847,
    "start_time": "2021-10-30T07:19:00.626Z"
   },
   {
    "duration": 238,
    "start_time": "2021-10-30T07:19:01.474Z"
   },
   {
    "duration": 4803,
    "start_time": "2021-10-30T07:19:01.713Z"
   },
   {
    "duration": 11,
    "start_time": "2021-10-30T07:19:06.518Z"
   },
   {
    "duration": 5164,
    "start_time": "2021-10-30T07:19:06.530Z"
   },
   {
    "duration": 12,
    "start_time": "2021-10-30T07:19:11.695Z"
   },
   {
    "duration": 21,
    "start_time": "2021-10-30T07:19:11.708Z"
   },
   {
    "duration": 429,
    "start_time": "2021-10-30T07:19:11.730Z"
   },
   {
    "duration": 39,
    "start_time": "2021-10-30T07:19:12.161Z"
   },
   {
    "duration": 30,
    "start_time": "2021-10-30T07:19:12.202Z"
   },
   {
    "duration": 8,
    "start_time": "2021-10-30T07:19:12.234Z"
   },
   {
    "duration": 460,
    "start_time": "2021-10-30T07:19:12.244Z"
   },
   {
    "duration": -68,
    "start_time": "2021-10-30T07:19:12.774Z"
   },
   {
    "duration": -68,
    "start_time": "2021-10-30T07:19:12.775Z"
   },
   {
    "duration": -68,
    "start_time": "2021-10-30T07:19:12.776Z"
   },
   {
    "duration": -68,
    "start_time": "2021-10-30T07:19:12.777Z"
   },
   {
    "duration": -68,
    "start_time": "2021-10-30T07:19:12.778Z"
   },
   {
    "duration": -67,
    "start_time": "2021-10-30T07:19:12.778Z"
   },
   {
    "duration": -67,
    "start_time": "2021-10-30T07:19:12.779Z"
   },
   {
    "duration": -66,
    "start_time": "2021-10-30T07:19:12.779Z"
   },
   {
    "duration": -70,
    "start_time": "2021-10-30T07:19:12.784Z"
   },
   {
    "duration": -70,
    "start_time": "2021-10-30T07:19:12.785Z"
   },
   {
    "duration": -71,
    "start_time": "2021-10-30T07:19:12.787Z"
   },
   {
    "duration": 4,
    "start_time": "2021-10-30T07:19:14.134Z"
   },
   {
    "duration": 60,
    "start_time": "2021-10-30T07:22:52.100Z"
   },
   {
    "duration": 891,
    "start_time": "2021-10-30T07:22:57.433Z"
   },
   {
    "duration": 14725,
    "start_time": "2021-10-30T07:23:26.753Z"
   },
   {
    "duration": 145,
    "start_time": "2021-10-30T07:36:04.983Z"
   },
   {
    "duration": 84,
    "start_time": "2021-10-30T07:36:58.180Z"
   },
   {
    "duration": 175,
    "start_time": "2021-10-30T07:37:21.567Z"
   },
   {
    "duration": 194,
    "start_time": "2021-10-30T07:37:30.066Z"
   },
   {
    "duration": 160,
    "start_time": "2021-10-30T07:37:50.325Z"
   },
   {
    "duration": 134,
    "start_time": "2021-10-30T07:38:12.710Z"
   },
   {
    "duration": 130,
    "start_time": "2021-10-30T07:38:29.435Z"
   },
   {
    "duration": 135,
    "start_time": "2021-10-30T07:38:48.449Z"
   },
   {
    "duration": 135,
    "start_time": "2021-10-30T07:39:02.867Z"
   },
   {
    "duration": 582,
    "start_time": "2021-10-30T07:39:53.886Z"
   },
   {
    "duration": 37,
    "start_time": "2021-10-30T07:40:31.373Z"
   },
   {
    "duration": 399,
    "start_time": "2021-10-30T07:40:34.116Z"
   },
   {
    "duration": 402,
    "start_time": "2021-10-30T07:42:03.028Z"
   },
   {
    "duration": 66,
    "start_time": "2021-10-30T07:43:02.245Z"
   },
   {
    "duration": 427,
    "start_time": "2021-10-30T07:43:08.136Z"
   },
   {
    "duration": 391,
    "start_time": "2021-10-30T07:43:39.364Z"
   },
   {
    "duration": 402,
    "start_time": "2021-10-30T07:44:24.477Z"
   },
   {
    "duration": 472,
    "start_time": "2021-10-30T07:44:42.185Z"
   },
   {
    "duration": 409,
    "start_time": "2021-10-30T07:45:13.744Z"
   },
   {
    "duration": 423,
    "start_time": "2021-10-30T07:48:34.682Z"
   },
   {
    "duration": 185,
    "start_time": "2021-10-30T07:49:11.655Z"
   },
   {
    "duration": 5215,
    "start_time": "2021-10-31T04:05:33.052Z"
   },
   {
    "duration": 39,
    "start_time": "2021-10-31T04:05:38.269Z"
   },
   {
    "duration": 32,
    "start_time": "2021-10-31T04:05:38.310Z"
   },
   {
    "duration": 12,
    "start_time": "2021-10-31T04:05:38.344Z"
   },
   {
    "duration": 19,
    "start_time": "2021-10-31T04:05:38.357Z"
   },
   {
    "duration": 29,
    "start_time": "2021-10-31T04:05:38.378Z"
   },
   {
    "duration": 5,
    "start_time": "2021-10-31T04:05:38.409Z"
   },
   {
    "duration": 318,
    "start_time": "2021-10-31T04:05:38.416Z"
   },
   {
    "duration": 1314,
    "start_time": "2021-10-31T04:05:38.737Z"
   },
   {
    "duration": 4,
    "start_time": "2021-10-31T04:05:40.053Z"
   },
   {
    "duration": 671,
    "start_time": "2021-10-31T04:05:40.058Z"
   },
   {
    "duration": 495,
    "start_time": "2021-10-31T04:05:40.731Z"
   },
   {
    "duration": 4,
    "start_time": "2021-10-31T04:05:41.228Z"
   },
   {
    "duration": 16,
    "start_time": "2021-10-31T04:05:41.233Z"
   },
   {
    "duration": 40,
    "start_time": "2021-10-31T04:05:41.251Z"
   },
   {
    "duration": 16,
    "start_time": "2021-10-31T04:05:41.293Z"
   },
   {
    "duration": 1519,
    "start_time": "2021-10-31T04:05:41.311Z"
   },
   {
    "duration": 5,
    "start_time": "2021-10-31T04:05:42.832Z"
   },
   {
    "duration": 20,
    "start_time": "2021-10-31T04:05:42.839Z"
   },
   {
    "duration": 13,
    "start_time": "2021-10-31T04:05:42.861Z"
   },
   {
    "duration": 440,
    "start_time": "2021-10-31T04:05:42.876Z"
   },
   {
    "duration": 50,
    "start_time": "2021-10-31T04:05:43.318Z"
   },
   {
    "duration": 39,
    "start_time": "2021-10-31T04:05:43.370Z"
   },
   {
    "duration": 21,
    "start_time": "2021-10-31T04:05:43.412Z"
   },
   {
    "duration": 11,
    "start_time": "2021-10-31T04:05:43.436Z"
   },
   {
    "duration": 890,
    "start_time": "2021-10-31T04:05:43.449Z"
   },
   {
    "duration": 240,
    "start_time": "2021-10-31T04:05:44.344Z"
   },
   {
    "duration": 4792,
    "start_time": "2021-10-31T04:05:44.587Z"
   },
   {
    "duration": 25,
    "start_time": "2021-10-31T04:05:49.381Z"
   },
   {
    "duration": 5120,
    "start_time": "2021-10-31T04:05:49.409Z"
   },
   {
    "duration": 15,
    "start_time": "2021-10-31T04:05:54.531Z"
   },
   {
    "duration": 31,
    "start_time": "2021-10-31T04:05:54.548Z"
   },
   {
    "duration": 542,
    "start_time": "2021-10-31T04:05:54.581Z"
   },
   {
    "duration": 27,
    "start_time": "2021-10-31T04:05:55.125Z"
   },
   {
    "duration": 52,
    "start_time": "2021-10-31T04:05:55.154Z"
   },
   {
    "duration": 9,
    "start_time": "2021-10-31T04:05:55.209Z"
   },
   {
    "duration": 49,
    "start_time": "2021-10-31T04:05:55.220Z"
   },
   {
    "duration": 521,
    "start_time": "2021-10-31T04:05:55.271Z"
   },
   {
    "duration": -58,
    "start_time": "2021-10-31T04:05:55.852Z"
   },
   {
    "duration": -59,
    "start_time": "2021-10-31T04:05:55.854Z"
   },
   {
    "duration": -59,
    "start_time": "2021-10-31T04:05:55.855Z"
   },
   {
    "duration": -60,
    "start_time": "2021-10-31T04:05:55.857Z"
   },
   {
    "duration": -77,
    "start_time": "2021-10-31T04:05:55.875Z"
   },
   {
    "duration": -78,
    "start_time": "2021-10-31T04:05:55.876Z"
   },
   {
    "duration": -78,
    "start_time": "2021-10-31T04:05:55.877Z"
   },
   {
    "duration": -78,
    "start_time": "2021-10-31T04:05:55.878Z"
   },
   {
    "duration": -77,
    "start_time": "2021-10-31T04:05:55.878Z"
   },
   {
    "duration": -77,
    "start_time": "2021-10-31T04:05:55.879Z"
   },
   {
    "duration": 10,
    "start_time": "2021-10-31T04:07:55.795Z"
   },
   {
    "duration": 11,
    "start_time": "2021-10-31T04:08:21.458Z"
   },
   {
    "duration": 4433,
    "start_time": "2021-10-31T04:08:41.889Z"
   },
   {
    "duration": 39,
    "start_time": "2021-10-31T04:08:46.324Z"
   },
   {
    "duration": 34,
    "start_time": "2021-10-31T04:08:46.366Z"
   },
   {
    "duration": 12,
    "start_time": "2021-10-31T04:08:46.406Z"
   },
   {
    "duration": 18,
    "start_time": "2021-10-31T04:08:46.420Z"
   },
   {
    "duration": 21,
    "start_time": "2021-10-31T04:08:46.440Z"
   },
   {
    "duration": 5,
    "start_time": "2021-10-31T04:08:46.463Z"
   },
   {
    "duration": 312,
    "start_time": "2021-10-31T04:08:46.470Z"
   },
   {
    "duration": 1293,
    "start_time": "2021-10-31T04:08:46.785Z"
   },
   {
    "duration": 4,
    "start_time": "2021-10-31T04:08:48.080Z"
   },
   {
    "duration": 742,
    "start_time": "2021-10-31T04:08:48.085Z"
   },
   {
    "duration": 493,
    "start_time": "2021-10-31T04:08:48.828Z"
   },
   {
    "duration": 10,
    "start_time": "2021-10-31T04:08:49.322Z"
   },
   {
    "duration": 14,
    "start_time": "2021-10-31T04:08:49.334Z"
   },
   {
    "duration": 4,
    "start_time": "2021-10-31T04:08:49.350Z"
   },
   {
    "duration": 51,
    "start_time": "2021-10-31T04:08:49.355Z"
   },
   {
    "duration": 10,
    "start_time": "2021-10-31T04:08:49.408Z"
   },
   {
    "duration": 1509,
    "start_time": "2021-10-31T04:08:49.419Z"
   },
   {
    "duration": 4,
    "start_time": "2021-10-31T04:08:50.931Z"
   },
   {
    "duration": 6,
    "start_time": "2021-10-31T04:08:50.937Z"
   },
   {
    "duration": 5,
    "start_time": "2021-10-31T04:08:50.945Z"
   },
   {
    "duration": 457,
    "start_time": "2021-10-31T04:08:50.952Z"
   },
   {
    "duration": 52,
    "start_time": "2021-10-31T04:08:51.411Z"
   },
   {
    "duration": 42,
    "start_time": "2021-10-31T04:08:51.465Z"
   },
   {
    "duration": 19,
    "start_time": "2021-10-31T04:08:51.510Z"
   },
   {
    "duration": 6,
    "start_time": "2021-10-31T04:08:51.531Z"
   },
   {
    "duration": 906,
    "start_time": "2021-10-31T04:08:51.542Z"
   },
   {
    "duration": 236,
    "start_time": "2021-10-31T04:08:52.451Z"
   },
   {
    "duration": 4842,
    "start_time": "2021-10-31T04:08:52.689Z"
   },
   {
    "duration": 14,
    "start_time": "2021-10-31T04:08:57.534Z"
   },
   {
    "duration": 5568,
    "start_time": "2021-10-31T04:08:57.549Z"
   },
   {
    "duration": 12,
    "start_time": "2021-10-31T04:09:03.119Z"
   },
   {
    "duration": 25,
    "start_time": "2021-10-31T04:09:03.133Z"
   },
   {
    "duration": 531,
    "start_time": "2021-10-31T04:09:03.160Z"
   },
   {
    "duration": 37,
    "start_time": "2021-10-31T04:09:03.693Z"
   },
   {
    "duration": 30,
    "start_time": "2021-10-31T04:09:03.732Z"
   },
   {
    "duration": 10,
    "start_time": "2021-10-31T04:09:03.764Z"
   },
   {
    "duration": 64,
    "start_time": "2021-10-31T04:09:03.775Z"
   },
   {
    "duration": 421,
    "start_time": "2021-10-31T04:09:03.841Z"
   },
   {
    "duration": -37,
    "start_time": "2021-10-31T04:09:04.301Z"
   },
   {
    "duration": -39,
    "start_time": "2021-10-31T04:09:04.304Z"
   },
   {
    "duration": -40,
    "start_time": "2021-10-31T04:09:04.306Z"
   },
   {
    "duration": -40,
    "start_time": "2021-10-31T04:09:04.307Z"
   },
   {
    "duration": -41,
    "start_time": "2021-10-31T04:09:04.309Z"
   },
   {
    "duration": -42,
    "start_time": "2021-10-31T04:09:04.311Z"
   },
   {
    "duration": -42,
    "start_time": "2021-10-31T04:09:04.312Z"
   },
   {
    "duration": -42,
    "start_time": "2021-10-31T04:09:04.313Z"
   },
   {
    "duration": -43,
    "start_time": "2021-10-31T04:09:04.314Z"
   },
   {
    "duration": -43,
    "start_time": "2021-10-31T04:09:04.315Z"
   },
   {
    "duration": 356,
    "start_time": "2021-10-31T04:10:02.730Z"
   },
   {
    "duration": 3,
    "start_time": "2021-10-31T04:10:25.664Z"
   },
   {
    "duration": 114,
    "start_time": "2021-10-31T04:10:45.874Z"
   },
   {
    "duration": 5,
    "start_time": "2021-10-31T04:10:53.492Z"
   },
   {
    "duration": 13,
    "start_time": "2021-10-31T04:11:35.478Z"
   },
   {
    "duration": 14,
    "start_time": "2021-10-31T04:12:11.044Z"
   },
   {
    "duration": 13,
    "start_time": "2021-10-31T04:14:19.732Z"
   },
   {
    "duration": 19,
    "start_time": "2021-10-31T04:17:55.048Z"
   },
   {
    "duration": 39,
    "start_time": "2021-10-31T04:18:21.272Z"
   },
   {
    "duration": 24,
    "start_time": "2021-10-31T04:19:14.560Z"
   },
   {
    "duration": 24,
    "start_time": "2021-10-31T04:19:35.436Z"
   },
   {
    "duration": 28,
    "start_time": "2021-10-31T04:19:44.383Z"
   },
   {
    "duration": -42,
    "start_time": "2021-10-31T04:22:28.326Z"
   },
   {
    "duration": 3857,
    "start_time": "2021-10-31T04:22:58.663Z"
   },
   {
    "duration": 39,
    "start_time": "2021-10-31T04:23:02.522Z"
   },
   {
    "duration": 32,
    "start_time": "2021-10-31T04:23:02.563Z"
   },
   {
    "duration": 15,
    "start_time": "2021-10-31T04:23:02.597Z"
   },
   {
    "duration": 25,
    "start_time": "2021-10-31T04:23:02.613Z"
   },
   {
    "duration": 17,
    "start_time": "2021-10-31T04:23:02.640Z"
   },
   {
    "duration": 15,
    "start_time": "2021-10-31T04:23:02.658Z"
   },
   {
    "duration": 320,
    "start_time": "2021-10-31T04:23:02.675Z"
   },
   {
    "duration": 1278,
    "start_time": "2021-10-31T04:23:02.998Z"
   },
   {
    "duration": 4,
    "start_time": "2021-10-31T04:23:04.278Z"
   },
   {
    "duration": 743,
    "start_time": "2021-10-31T04:23:04.284Z"
   },
   {
    "duration": 502,
    "start_time": "2021-10-31T04:23:05.028Z"
   },
   {
    "duration": 11,
    "start_time": "2021-10-31T04:23:05.531Z"
   },
   {
    "duration": 13,
    "start_time": "2021-10-31T04:23:05.544Z"
   },
   {
    "duration": 671,
    "start_time": "2021-10-31T04:23:05.558Z"
   },
   {
    "duration": -8,
    "start_time": "2021-10-31T04:23:06.240Z"
   },
   {
    "duration": -8,
    "start_time": "2021-10-31T04:23:06.241Z"
   },
   {
    "duration": -10,
    "start_time": "2021-10-31T04:23:06.244Z"
   },
   {
    "duration": -10,
    "start_time": "2021-10-31T04:23:06.245Z"
   },
   {
    "duration": -11,
    "start_time": "2021-10-31T04:23:06.247Z"
   },
   {
    "duration": -24,
    "start_time": "2021-10-31T04:23:06.262Z"
   },
   {
    "duration": -25,
    "start_time": "2021-10-31T04:23:06.264Z"
   },
   {
    "duration": -26,
    "start_time": "2021-10-31T04:23:06.266Z"
   },
   {
    "duration": -31,
    "start_time": "2021-10-31T04:23:06.272Z"
   },
   {
    "duration": -31,
    "start_time": "2021-10-31T04:23:06.273Z"
   },
   {
    "duration": -32,
    "start_time": "2021-10-31T04:23:06.274Z"
   },
   {
    "duration": -32,
    "start_time": "2021-10-31T04:23:06.275Z"
   },
   {
    "duration": -32,
    "start_time": "2021-10-31T04:23:06.276Z"
   },
   {
    "duration": -32,
    "start_time": "2021-10-31T04:23:06.277Z"
   },
   {
    "duration": -32,
    "start_time": "2021-10-31T04:23:06.277Z"
   },
   {
    "duration": -33,
    "start_time": "2021-10-31T04:23:06.279Z"
   },
   {
    "duration": -32,
    "start_time": "2021-10-31T04:23:06.279Z"
   },
   {
    "duration": -32,
    "start_time": "2021-10-31T04:23:06.280Z"
   },
   {
    "duration": -32,
    "start_time": "2021-10-31T04:23:06.281Z"
   },
   {
    "duration": -38,
    "start_time": "2021-10-31T04:23:06.287Z"
   },
   {
    "duration": -38,
    "start_time": "2021-10-31T04:23:06.288Z"
   },
   {
    "duration": -38,
    "start_time": "2021-10-31T04:23:06.289Z"
   },
   {
    "duration": -38,
    "start_time": "2021-10-31T04:23:06.290Z"
   },
   {
    "duration": -37,
    "start_time": "2021-10-31T04:23:06.290Z"
   },
   {
    "duration": -37,
    "start_time": "2021-10-31T04:23:06.291Z"
   },
   {
    "duration": -37,
    "start_time": "2021-10-31T04:23:06.292Z"
   },
   {
    "duration": -38,
    "start_time": "2021-10-31T04:23:06.293Z"
   },
   {
    "duration": -53,
    "start_time": "2021-10-31T04:23:06.309Z"
   },
   {
    "duration": -53,
    "start_time": "2021-10-31T04:23:06.310Z"
   },
   {
    "duration": -53,
    "start_time": "2021-10-31T04:23:06.311Z"
   },
   {
    "duration": -54,
    "start_time": "2021-10-31T04:23:06.313Z"
   },
   {
    "duration": -54,
    "start_time": "2021-10-31T04:23:06.314Z"
   },
   {
    "duration": -61,
    "start_time": "2021-10-31T04:23:06.321Z"
   },
   {
    "duration": -61,
    "start_time": "2021-10-31T04:23:06.322Z"
   },
   {
    "duration": -62,
    "start_time": "2021-10-31T04:23:06.324Z"
   },
   {
    "duration": 5553,
    "start_time": "2021-10-31T04:23:20.806Z"
   },
   {
    "duration": 10392,
    "start_time": "2021-10-31T04:24:22.170Z"
   },
   {
    "duration": 3719,
    "start_time": "2021-10-31T04:27:21.998Z"
   },
   {
    "duration": 39,
    "start_time": "2021-10-31T04:27:25.719Z"
   },
   {
    "duration": 31,
    "start_time": "2021-10-31T04:27:25.760Z"
   },
   {
    "duration": 17,
    "start_time": "2021-10-31T04:27:25.792Z"
   },
   {
    "duration": 11,
    "start_time": "2021-10-31T04:27:25.810Z"
   },
   {
    "duration": 15,
    "start_time": "2021-10-31T04:27:25.822Z"
   },
   {
    "duration": 4,
    "start_time": "2021-10-31T04:27:25.839Z"
   },
   {
    "duration": 326,
    "start_time": "2021-10-31T04:27:25.845Z"
   },
   {
    "duration": 1310,
    "start_time": "2021-10-31T04:27:26.174Z"
   },
   {
    "duration": 20,
    "start_time": "2021-10-31T04:27:27.486Z"
   },
   {
    "duration": 711,
    "start_time": "2021-10-31T04:27:27.509Z"
   },
   {
    "duration": 479,
    "start_time": "2021-10-31T04:27:28.222Z"
   },
   {
    "duration": 10,
    "start_time": "2021-10-31T04:27:28.706Z"
   },
   {
    "duration": 4,
    "start_time": "2021-10-31T04:27:28.717Z"
   },
   {
    "duration": 423,
    "start_time": "2021-10-31T04:27:28.722Z"
   },
   {
    "duration": -42,
    "start_time": "2021-10-31T04:27:29.190Z"
   },
   {
    "duration": -44,
    "start_time": "2021-10-31T04:27:29.193Z"
   },
   {
    "duration": -44,
    "start_time": "2021-10-31T04:27:29.194Z"
   },
   {
    "duration": -44,
    "start_time": "2021-10-31T04:27:29.195Z"
   },
   {
    "duration": -45,
    "start_time": "2021-10-31T04:27:29.197Z"
   },
   {
    "duration": -45,
    "start_time": "2021-10-31T04:27:29.198Z"
   },
   {
    "duration": -44,
    "start_time": "2021-10-31T04:27:29.199Z"
   },
   {
    "duration": -45,
    "start_time": "2021-10-31T04:27:29.200Z"
   },
   {
    "duration": -46,
    "start_time": "2021-10-31T04:27:29.202Z"
   },
   {
    "duration": -46,
    "start_time": "2021-10-31T04:27:29.203Z"
   },
   {
    "duration": -46,
    "start_time": "2021-10-31T04:27:29.204Z"
   },
   {
    "duration": -46,
    "start_time": "2021-10-31T04:27:29.205Z"
   },
   {
    "duration": -46,
    "start_time": "2021-10-31T04:27:29.206Z"
   },
   {
    "duration": -46,
    "start_time": "2021-10-31T04:27:29.207Z"
   },
   {
    "duration": -46,
    "start_time": "2021-10-31T04:27:29.208Z"
   },
   {
    "duration": -47,
    "start_time": "2021-10-31T04:27:29.210Z"
   },
   {
    "duration": -50,
    "start_time": "2021-10-31T04:27:29.215Z"
   },
   {
    "duration": -51,
    "start_time": "2021-10-31T04:27:29.217Z"
   },
   {
    "duration": -51,
    "start_time": "2021-10-31T04:27:29.218Z"
   },
   {
    "duration": -51,
    "start_time": "2021-10-31T04:27:29.219Z"
   },
   {
    "duration": -52,
    "start_time": "2021-10-31T04:27:29.220Z"
   },
   {
    "duration": -52,
    "start_time": "2021-10-31T04:27:29.221Z"
   },
   {
    "duration": -50,
    "start_time": "2021-10-31T04:27:29.221Z"
   },
   {
    "duration": -50,
    "start_time": "2021-10-31T04:27:29.222Z"
   },
   {
    "duration": -50,
    "start_time": "2021-10-31T04:27:29.223Z"
   },
   {
    "duration": -50,
    "start_time": "2021-10-31T04:27:29.224Z"
   },
   {
    "duration": -50,
    "start_time": "2021-10-31T04:27:29.225Z"
   },
   {
    "duration": -50,
    "start_time": "2021-10-31T04:27:29.226Z"
   },
   {
    "duration": -50,
    "start_time": "2021-10-31T04:27:29.227Z"
   },
   {
    "duration": -50,
    "start_time": "2021-10-31T04:27:29.228Z"
   },
   {
    "duration": -49,
    "start_time": "2021-10-31T04:27:29.228Z"
   },
   {
    "duration": -50,
    "start_time": "2021-10-31T04:27:29.229Z"
   },
   {
    "duration": -50,
    "start_time": "2021-10-31T04:27:29.230Z"
   },
   {
    "duration": -54,
    "start_time": "2021-10-31T04:27:29.235Z"
   },
   {
    "duration": -54,
    "start_time": "2021-10-31T04:27:29.236Z"
   },
   {
    "duration": -54,
    "start_time": "2021-10-31T04:27:29.237Z"
   },
   {
    "duration": -54,
    "start_time": "2021-10-31T04:27:29.238Z"
   },
   {
    "duration": 361,
    "start_time": "2021-10-31T04:27:49.648Z"
   },
   {
    "duration": 420,
    "start_time": "2021-10-31T04:27:58.645Z"
   },
   {
    "duration": 26,
    "start_time": "2021-10-31T04:28:18.618Z"
   },
   {
    "duration": 743,
    "start_time": "2021-10-31T04:29:24.616Z"
   },
   {
    "duration": 3746,
    "start_time": "2021-10-31T04:29:45.360Z"
   },
   {
    "duration": 41,
    "start_time": "2021-10-31T04:29:49.108Z"
   },
   {
    "duration": 32,
    "start_time": "2021-10-31T04:29:49.151Z"
   },
   {
    "duration": 14,
    "start_time": "2021-10-31T04:29:49.185Z"
   },
   {
    "duration": 11,
    "start_time": "2021-10-31T04:29:49.206Z"
   },
   {
    "duration": 14,
    "start_time": "2021-10-31T04:29:49.218Z"
   },
   {
    "duration": 5,
    "start_time": "2021-10-31T04:29:49.234Z"
   },
   {
    "duration": 331,
    "start_time": "2021-10-31T04:29:49.240Z"
   },
   {
    "duration": 1282,
    "start_time": "2021-10-31T04:29:49.573Z"
   },
   {
    "duration": 3,
    "start_time": "2021-10-31T04:29:50.858Z"
   },
   {
    "duration": 672,
    "start_time": "2021-10-31T04:29:50.863Z"
   },
   {
    "duration": 498,
    "start_time": "2021-10-31T04:29:51.537Z"
   },
   {
    "duration": 9,
    "start_time": "2021-10-31T04:29:52.037Z"
   },
   {
    "duration": 4,
    "start_time": "2021-10-31T04:29:52.048Z"
   },
   {
    "duration": 36,
    "start_time": "2021-10-31T04:29:52.053Z"
   },
   {
    "duration": 463,
    "start_time": "2021-10-31T04:29:52.091Z"
   },
   {
    "duration": 121,
    "start_time": "2021-10-31T04:29:52.556Z"
   },
   {
    "duration": -30,
    "start_time": "2021-10-31T04:29:52.710Z"
   },
   {
    "duration": -40,
    "start_time": "2021-10-31T04:29:52.721Z"
   },
   {
    "duration": -40,
    "start_time": "2021-10-31T04:29:52.722Z"
   },
   {
    "duration": -40,
    "start_time": "2021-10-31T04:29:52.723Z"
   },
   {
    "duration": -40,
    "start_time": "2021-10-31T04:29:52.724Z"
   },
   {
    "duration": -41,
    "start_time": "2021-10-31T04:29:52.726Z"
   },
   {
    "duration": -41,
    "start_time": "2021-10-31T04:29:52.727Z"
   },
   {
    "duration": -41,
    "start_time": "2021-10-31T04:29:52.728Z"
   },
   {
    "duration": -41,
    "start_time": "2021-10-31T04:29:52.729Z"
   },
   {
    "duration": -41,
    "start_time": "2021-10-31T04:29:52.730Z"
   },
   {
    "duration": -41,
    "start_time": "2021-10-31T04:29:52.731Z"
   },
   {
    "duration": -42,
    "start_time": "2021-10-31T04:29:52.732Z"
   },
   {
    "duration": -42,
    "start_time": "2021-10-31T04:29:52.733Z"
   },
   {
    "duration": -42,
    "start_time": "2021-10-31T04:29:52.734Z"
   },
   {
    "duration": -42,
    "start_time": "2021-10-31T04:29:52.735Z"
   },
   {
    "duration": -42,
    "start_time": "2021-10-31T04:29:52.736Z"
   },
   {
    "duration": -42,
    "start_time": "2021-10-31T04:29:52.737Z"
   },
   {
    "duration": -42,
    "start_time": "2021-10-31T04:29:52.738Z"
   },
   {
    "duration": -46,
    "start_time": "2021-10-31T04:29:52.743Z"
   },
   {
    "duration": -46,
    "start_time": "2021-10-31T04:29:52.744Z"
   },
   {
    "duration": -46,
    "start_time": "2021-10-31T04:29:52.745Z"
   },
   {
    "duration": -45,
    "start_time": "2021-10-31T04:29:52.746Z"
   },
   {
    "duration": -46,
    "start_time": "2021-10-31T04:29:52.747Z"
   },
   {
    "duration": -45,
    "start_time": "2021-10-31T04:29:52.748Z"
   },
   {
    "duration": -45,
    "start_time": "2021-10-31T04:29:52.749Z"
   },
   {
    "duration": -46,
    "start_time": "2021-10-31T04:29:52.750Z"
   },
   {
    "duration": -46,
    "start_time": "2021-10-31T04:29:52.751Z"
   },
   {
    "duration": -46,
    "start_time": "2021-10-31T04:29:52.752Z"
   },
   {
    "duration": -46,
    "start_time": "2021-10-31T04:29:52.753Z"
   },
   {
    "duration": -44,
    "start_time": "2021-10-31T04:29:52.753Z"
   },
   {
    "duration": -45,
    "start_time": "2021-10-31T04:29:52.754Z"
   },
   {
    "duration": -45,
    "start_time": "2021-10-31T04:29:52.755Z"
   },
   {
    "duration": -45,
    "start_time": "2021-10-31T04:29:52.756Z"
   },
   {
    "duration": -45,
    "start_time": "2021-10-31T04:29:52.757Z"
   },
   {
    "duration": -43,
    "start_time": "2021-10-31T04:29:52.757Z"
   },
   {
    "duration": 126,
    "start_time": "2021-10-31T04:39:22.957Z"
   },
   {
    "duration": 661,
    "start_time": "2021-10-31T04:40:14.492Z"
   },
   {
    "duration": 663,
    "start_time": "2021-10-31T04:42:59.829Z"
   },
   {
    "duration": 573,
    "start_time": "2021-10-31T04:43:52.106Z"
   },
   {
    "duration": 552,
    "start_time": "2021-10-31T04:44:57.657Z"
   },
   {
    "duration": -7,
    "start_time": "2021-10-31T04:45:17.487Z"
   },
   {
    "duration": 3887,
    "start_time": "2021-10-31T04:45:50.934Z"
   },
   {
    "duration": 40,
    "start_time": "2021-10-31T04:45:54.824Z"
   },
   {
    "duration": 31,
    "start_time": "2021-10-31T04:45:54.866Z"
   },
   {
    "duration": 17,
    "start_time": "2021-10-31T04:45:54.899Z"
   },
   {
    "duration": 11,
    "start_time": "2021-10-31T04:45:54.917Z"
   },
   {
    "duration": 15,
    "start_time": "2021-10-31T04:45:54.929Z"
   },
   {
    "duration": 5,
    "start_time": "2021-10-31T04:45:54.945Z"
   },
   {
    "duration": 335,
    "start_time": "2021-10-31T04:45:54.952Z"
   },
   {
    "duration": 1259,
    "start_time": "2021-10-31T04:45:55.290Z"
   },
   {
    "duration": 4,
    "start_time": "2021-10-31T04:45:56.552Z"
   },
   {
    "duration": 668,
    "start_time": "2021-10-31T04:45:56.558Z"
   },
   {
    "duration": 504,
    "start_time": "2021-10-31T04:45:57.227Z"
   },
   {
    "duration": 10,
    "start_time": "2021-10-31T04:45:57.733Z"
   },
   {
    "duration": 38,
    "start_time": "2021-10-31T04:45:57.745Z"
   },
   {
    "duration": 737,
    "start_time": "2021-10-31T04:45:57.785Z"
   },
   {
    "duration": 9488,
    "start_time": "2021-10-31T04:45:58.524Z"
   },
   {
    "duration": -17,
    "start_time": "2021-10-31T04:46:08.032Z"
   },
   {
    "duration": -18,
    "start_time": "2021-10-31T04:46:08.034Z"
   },
   {
    "duration": -18,
    "start_time": "2021-10-31T04:46:08.035Z"
   },
   {
    "duration": -24,
    "start_time": "2021-10-31T04:46:08.042Z"
   },
   {
    "duration": -24,
    "start_time": "2021-10-31T04:46:08.043Z"
   },
   {
    "duration": -24,
    "start_time": "2021-10-31T04:46:08.044Z"
   },
   {
    "duration": -25,
    "start_time": "2021-10-31T04:46:08.046Z"
   },
   {
    "duration": -25,
    "start_time": "2021-10-31T04:46:08.047Z"
   },
   {
    "duration": -25,
    "start_time": "2021-10-31T04:46:08.048Z"
   },
   {
    "duration": -25,
    "start_time": "2021-10-31T04:46:08.049Z"
   },
   {
    "duration": -25,
    "start_time": "2021-10-31T04:46:08.050Z"
   },
   {
    "duration": -25,
    "start_time": "2021-10-31T04:46:08.051Z"
   },
   {
    "duration": -25,
    "start_time": "2021-10-31T04:46:08.052Z"
   },
   {
    "duration": -30,
    "start_time": "2021-10-31T04:46:08.058Z"
   },
   {
    "duration": -29,
    "start_time": "2021-10-31T04:46:08.059Z"
   },
   {
    "duration": -30,
    "start_time": "2021-10-31T04:46:08.061Z"
   },
   {
    "duration": -30,
    "start_time": "2021-10-31T04:46:08.062Z"
   },
   {
    "duration": -30,
    "start_time": "2021-10-31T04:46:08.063Z"
   },
   {
    "duration": -29,
    "start_time": "2021-10-31T04:46:08.063Z"
   },
   {
    "duration": -29,
    "start_time": "2021-10-31T04:46:08.064Z"
   },
   {
    "duration": -29,
    "start_time": "2021-10-31T04:46:08.065Z"
   },
   {
    "duration": -29,
    "start_time": "2021-10-31T04:46:08.066Z"
   },
   {
    "duration": -28,
    "start_time": "2021-10-31T04:46:08.066Z"
   },
   {
    "duration": -28,
    "start_time": "2021-10-31T04:46:08.067Z"
   },
   {
    "duration": -28,
    "start_time": "2021-10-31T04:46:08.068Z"
   },
   {
    "duration": -28,
    "start_time": "2021-10-31T04:46:08.069Z"
   },
   {
    "duration": -31,
    "start_time": "2021-10-31T04:46:08.073Z"
   },
   {
    "duration": -32,
    "start_time": "2021-10-31T04:46:08.075Z"
   },
   {
    "duration": 710,
    "start_time": "2021-10-31T04:47:38.875Z"
   },
   {
    "duration": 9135,
    "start_time": "2021-10-31T04:49:53.857Z"
   },
   {
    "duration": 1032,
    "start_time": "2021-10-31T04:52:59.004Z"
   },
   {
    "duration": 694,
    "start_time": "2021-10-31T04:53:11.960Z"
   },
   {
    "duration": 14,
    "start_time": "2021-10-31T04:54:47.498Z"
   },
   {
    "duration": 1476,
    "start_time": "2021-10-31T04:56:51.399Z"
   },
   {
    "duration": 387,
    "start_time": "2021-10-31T05:04:47.495Z"
   },
   {
    "duration": 32,
    "start_time": "2021-10-31T05:05:16.792Z"
   },
   {
    "duration": 8361,
    "start_time": "2021-10-31T05:07:14.787Z"
   },
   {
    "duration": 359,
    "start_time": "2021-10-31T05:07:41.500Z"
   },
   {
    "duration": 356,
    "start_time": "2021-10-31T05:07:53.999Z"
   },
   {
    "duration": 27,
    "start_time": "2021-10-31T05:08:11.445Z"
   },
   {
    "duration": 345,
    "start_time": "2021-10-31T05:10:14.669Z"
   },
   {
    "duration": 14,
    "start_time": "2021-10-31T05:10:27.978Z"
   },
   {
    "duration": 18,
    "start_time": "2021-10-31T05:10:47.701Z"
   },
   {
    "duration": 376,
    "start_time": "2021-10-31T05:12:45.423Z"
   },
   {
    "duration": 17,
    "start_time": "2021-10-31T05:13:12.994Z"
   },
   {
    "duration": 21,
    "start_time": "2021-10-31T05:13:21.982Z"
   },
   {
    "duration": 363,
    "start_time": "2021-10-31T05:14:41.959Z"
   },
   {
    "duration": 20,
    "start_time": "2021-10-31T05:15:50.753Z"
   },
   {
    "duration": 345,
    "start_time": "2021-10-31T05:18:49.954Z"
   },
   {
    "duration": 14,
    "start_time": "2021-10-31T05:19:15.229Z"
   },
   {
    "duration": 421,
    "start_time": "2021-10-31T05:20:21.720Z"
   },
   {
    "duration": 713,
    "start_time": "2021-10-31T05:21:51.070Z"
   },
   {
    "duration": 681,
    "start_time": "2021-10-31T05:23:02.124Z"
   },
   {
    "duration": 413,
    "start_time": "2021-10-31T05:24:37.257Z"
   },
   {
    "duration": 674,
    "start_time": "2021-10-31T05:27:27.160Z"
   },
   {
    "duration": 3670,
    "start_time": "2021-10-31T05:27:37.150Z"
   },
   {
    "duration": 39,
    "start_time": "2021-10-31T05:27:40.823Z"
   },
   {
    "duration": 32,
    "start_time": "2021-10-31T05:27:40.864Z"
   },
   {
    "duration": 17,
    "start_time": "2021-10-31T05:27:40.898Z"
   },
   {
    "duration": 15,
    "start_time": "2021-10-31T05:27:40.917Z"
   },
   {
    "duration": 13,
    "start_time": "2021-10-31T05:27:40.934Z"
   },
   {
    "duration": 6,
    "start_time": "2021-10-31T05:27:40.948Z"
   },
   {
    "duration": 322,
    "start_time": "2021-10-31T05:27:40.955Z"
   },
   {
    "duration": 1306,
    "start_time": "2021-10-31T05:27:41.280Z"
   },
   {
    "duration": 4,
    "start_time": "2021-10-31T05:27:42.588Z"
   },
   {
    "duration": 811,
    "start_time": "2021-10-31T05:27:42.607Z"
   },
   {
    "duration": 494,
    "start_time": "2021-10-31T05:27:43.419Z"
   },
   {
    "duration": 10,
    "start_time": "2021-10-31T05:27:43.915Z"
   },
   {
    "duration": 34,
    "start_time": "2021-10-31T05:27:43.927Z"
   },
   {
    "duration": 727,
    "start_time": "2021-10-31T05:27:43.963Z"
   },
   {
    "duration": 1554,
    "start_time": "2021-10-31T05:27:44.691Z"
   },
   {
    "duration": 32,
    "start_time": "2021-10-31T05:27:46.247Z"
   },
   {
    "duration": 34,
    "start_time": "2021-10-31T05:27:46.281Z"
   },
   {
    "duration": 699,
    "start_time": "2021-10-31T05:27:46.316Z"
   },
   {
    "duration": 484,
    "start_time": "2021-10-31T05:27:47.017Z"
   },
   {
    "duration": 47,
    "start_time": "2021-10-31T05:27:47.502Z"
   },
   {
    "duration": 21,
    "start_time": "2021-10-31T05:27:47.551Z"
   },
   {
    "duration": 41,
    "start_time": "2021-10-31T05:27:47.573Z"
   },
   {
    "duration": 4,
    "start_time": "2021-10-31T05:27:47.616Z"
   },
   {
    "duration": 936,
    "start_time": "2021-10-31T05:27:47.622Z"
   },
   {
    "duration": 295,
    "start_time": "2021-10-31T05:27:48.561Z"
   },
   {
    "duration": 5073,
    "start_time": "2021-10-31T05:27:48.860Z"
   },
   {
    "duration": 11,
    "start_time": "2021-10-31T05:27:53.936Z"
   },
   {
    "duration": 5182,
    "start_time": "2021-10-31T05:27:53.949Z"
   },
   {
    "duration": 14,
    "start_time": "2021-10-31T05:27:59.133Z"
   },
   {
    "duration": 22,
    "start_time": "2021-10-31T05:27:59.149Z"
   },
   {
    "duration": 524,
    "start_time": "2021-10-31T05:27:59.173Z"
   },
   {
    "duration": 30,
    "start_time": "2021-10-31T05:27:59.699Z"
   },
   {
    "duration": 30,
    "start_time": "2021-10-31T05:27:59.731Z"
   },
   {
    "duration": 9,
    "start_time": "2021-10-31T05:27:59.763Z"
   },
   {
    "duration": 64,
    "start_time": "2021-10-31T05:27:59.774Z"
   },
   {
    "duration": 2145,
    "start_time": "2021-10-31T05:27:59.840Z"
   },
   {
    "duration": -15,
    "start_time": "2021-10-31T05:28:02.002Z"
   },
   {
    "duration": -16,
    "start_time": "2021-10-31T05:28:02.004Z"
   },
   {
    "duration": -17,
    "start_time": "2021-10-31T05:28:02.005Z"
   },
   {
    "duration": -18,
    "start_time": "2021-10-31T05:28:02.007Z"
   },
   {
    "duration": -19,
    "start_time": "2021-10-31T05:28:02.009Z"
   },
   {
    "duration": -19,
    "start_time": "2021-10-31T05:28:02.010Z"
   },
   {
    "duration": -19,
    "start_time": "2021-10-31T05:28:02.011Z"
   },
   {
    "duration": -20,
    "start_time": "2021-10-31T05:28:02.013Z"
   },
   {
    "duration": -21,
    "start_time": "2021-10-31T05:28:02.014Z"
   },
   {
    "duration": -22,
    "start_time": "2021-10-31T05:28:02.016Z"
   },
   {
    "duration": 498,
    "start_time": "2021-10-31T05:28:08.158Z"
   },
   {
    "duration": 14,
    "start_time": "2021-10-31T05:38:42.091Z"
   },
   {
    "duration": 627,
    "start_time": "2021-10-31T05:43:24.840Z"
   },
   {
    "duration": 598,
    "start_time": "2021-10-31T05:45:07.139Z"
   },
   {
    "duration": 608,
    "start_time": "2021-10-31T05:45:16.267Z"
   },
   {
    "duration": 489,
    "start_time": "2021-10-31T05:52:47.142Z"
   },
   {
    "duration": 27,
    "start_time": "2021-10-31T05:52:54.983Z"
   },
   {
    "duration": 39,
    "start_time": "2021-10-31T05:53:18.956Z"
   },
   {
    "duration": 340,
    "start_time": "2021-10-31T05:59:12.943Z"
   },
   {
    "duration": 10,
    "start_time": "2021-10-31T05:59:31.418Z"
   },
   {
    "duration": 424,
    "start_time": "2021-10-31T05:59:34.136Z"
   },
   {
    "duration": 347,
    "start_time": "2021-10-31T06:00:39.103Z"
   },
   {
    "duration": 397,
    "start_time": "2021-10-31T06:00:42.820Z"
   },
   {
    "duration": 12,
    "start_time": "2021-10-31T06:01:52.088Z"
   },
   {
    "duration": 383,
    "start_time": "2021-10-31T06:01:56.551Z"
   },
   {
    "duration": 367,
    "start_time": "2021-10-31T06:02:05.970Z"
   },
   {
    "duration": 325,
    "start_time": "2021-10-31T06:02:13.173Z"
   },
   {
    "duration": 319,
    "start_time": "2021-10-31T06:04:13.600Z"
   },
   {
    "duration": 325,
    "start_time": "2021-10-31T06:04:31.252Z"
   },
   {
    "duration": 207,
    "start_time": "2021-10-31T06:04:41.077Z"
   },
   {
    "duration": 210,
    "start_time": "2021-10-31T06:04:56.138Z"
   },
   {
    "duration": 211,
    "start_time": "2021-10-31T06:05:03.634Z"
   },
   {
    "duration": 199,
    "start_time": "2021-10-31T06:05:13.486Z"
   },
   {
    "duration": 296,
    "start_time": "2021-10-31T06:05:24.019Z"
   },
   {
    "duration": 199,
    "start_time": "2021-10-31T06:05:29.531Z"
   },
   {
    "duration": 13,
    "start_time": "2021-10-31T06:15:02.265Z"
   },
   {
    "duration": 121,
    "start_time": "2021-10-31T06:15:58.717Z"
   },
   {
    "duration": 12,
    "start_time": "2021-10-31T06:16:13.157Z"
   },
   {
    "duration": 33,
    "start_time": "2021-10-31T06:16:26.653Z"
   },
   {
    "duration": -64,
    "start_time": "2021-10-31T06:17:26.993Z"
   },
   {
    "duration": 21631,
    "start_time": "2021-10-31T06:17:30.155Z"
   },
   {
    "duration": 130,
    "start_time": "2021-10-31T06:18:26.633Z"
   },
   {
    "duration": 131,
    "start_time": "2021-10-31T06:18:38.382Z"
   },
   {
    "duration": 111,
    "start_time": "2021-10-31T06:18:44.153Z"
   },
   {
    "duration": 2410,
    "start_time": "2021-10-31T06:19:07.829Z"
   },
   {
    "duration": 8,
    "start_time": "2021-10-31T06:22:50.354Z"
   },
   {
    "duration": 21303,
    "start_time": "2021-10-31T06:23:00.052Z"
   },
   {
    "duration": -130,
    "start_time": "2021-10-31T06:23:21.488Z"
   },
   {
    "duration": 21492,
    "start_time": "2021-10-31T06:23:22.528Z"
   },
   {
    "duration": 5253,
    "start_time": "2021-10-31T06:23:56.170Z"
   },
   {
    "duration": 5107,
    "start_time": "2021-10-31T06:24:05.866Z"
   },
   {
    "duration": 21360,
    "start_time": "2021-10-31T06:24:16.852Z"
   },
   {
    "duration": 21912,
    "start_time": "2021-10-31T06:24:43.059Z"
   },
   {
    "duration": 229,
    "start_time": "2021-10-31T06:25:51.947Z"
   },
   {
    "duration": 4909,
    "start_time": "2021-10-31T06:26:10.116Z"
   },
   {
    "duration": 5418,
    "start_time": "2021-10-31T06:26:25.256Z"
   },
   {
    "duration": 5359,
    "start_time": "2021-10-31T06:26:43.693Z"
   },
   {
    "duration": 401,
    "start_time": "2021-10-31T07:09:41.914Z"
   },
   {
    "duration": 346,
    "start_time": "2021-10-31T07:11:06.806Z"
   },
   {
    "duration": 2790,
    "start_time": "2021-10-31T07:11:19.186Z"
   },
   {
    "duration": 334,
    "start_time": "2021-10-31T07:11:28.685Z"
   },
   {
    "duration": 21,
    "start_time": "2021-10-31T07:12:23.451Z"
   },
   {
    "duration": 126,
    "start_time": "2021-10-31T07:12:25.906Z"
   },
   {
    "duration": 117,
    "start_time": "2021-10-31T07:12:40.052Z"
   },
   {
    "duration": 127,
    "start_time": "2021-10-31T07:12:44.848Z"
   },
   {
    "duration": 589,
    "start_time": "2021-10-31T07:13:05.652Z"
   },
   {
    "duration": 22,
    "start_time": "2021-10-31T07:13:11.811Z"
   },
   {
    "duration": 29,
    "start_time": "2021-10-31T07:14:44.164Z"
   },
   {
    "duration": 8,
    "start_time": "2021-10-31T07:14:47.046Z"
   },
   {
    "duration": 112,
    "start_time": "2021-10-31T07:16:10.741Z"
   },
   {
    "duration": 9,
    "start_time": "2021-10-31T07:18:09.844Z"
   },
   {
    "duration": 7,
    "start_time": "2021-10-31T07:18:38.462Z"
   },
   {
    "duration": 119,
    "start_time": "2021-10-31T07:20:33.911Z"
   },
   {
    "duration": 128,
    "start_time": "2021-10-31T07:21:00.443Z"
   },
   {
    "duration": 119,
    "start_time": "2021-10-31T07:21:01.244Z"
   },
   {
    "duration": 4152,
    "start_time": "2021-10-31T07:26:26.121Z"
   },
   {
    "duration": 45,
    "start_time": "2021-10-31T07:26:30.276Z"
   },
   {
    "duration": 37,
    "start_time": "2021-10-31T07:26:30.325Z"
   },
   {
    "duration": 18,
    "start_time": "2021-10-31T07:26:30.364Z"
   },
   {
    "duration": 39,
    "start_time": "2021-10-31T07:26:30.384Z"
   },
   {
    "duration": 43,
    "start_time": "2021-10-31T07:26:30.425Z"
   },
   {
    "duration": 14,
    "start_time": "2021-10-31T07:26:30.470Z"
   },
   {
    "duration": 374,
    "start_time": "2021-10-31T07:26:30.486Z"
   },
   {
    "duration": 1497,
    "start_time": "2021-10-31T07:26:30.863Z"
   },
   {
    "duration": 4,
    "start_time": "2021-10-31T07:26:32.362Z"
   },
   {
    "duration": 700,
    "start_time": "2021-10-31T07:26:32.367Z"
   },
   {
    "duration": 539,
    "start_time": "2021-10-31T07:26:33.069Z"
   },
   {
    "duration": 17,
    "start_time": "2021-10-31T07:26:33.611Z"
   },
   {
    "duration": 30,
    "start_time": "2021-10-31T07:26:33.631Z"
   },
   {
    "duration": 833,
    "start_time": "2021-10-31T07:26:33.663Z"
   },
   {
    "duration": 1701,
    "start_time": "2021-10-31T07:26:34.498Z"
   },
   {
    "duration": 52,
    "start_time": "2021-10-31T07:26:36.200Z"
   },
   {
    "duration": 25,
    "start_time": "2021-10-31T07:26:36.254Z"
   },
   {
    "duration": 777,
    "start_time": "2021-10-31T07:26:36.280Z"
   },
   {
    "duration": 634,
    "start_time": "2021-10-31T07:26:37.058Z"
   },
   {
    "duration": 481,
    "start_time": "2021-10-31T07:26:37.694Z"
   },
   {
    "duration": 68,
    "start_time": "2021-10-31T07:26:38.177Z"
   },
   {
    "duration": 21,
    "start_time": "2021-10-31T07:26:38.246Z"
   },
   {
    "duration": 15,
    "start_time": "2021-10-31T07:26:38.269Z"
   },
   {
    "duration": 28,
    "start_time": "2021-10-31T07:26:38.286Z"
   },
   {
    "duration": 905,
    "start_time": "2021-10-31T07:26:38.316Z"
   },
   {
    "duration": 261,
    "start_time": "2021-10-31T07:26:39.227Z"
   },
   {
    "duration": 5986,
    "start_time": "2021-10-31T07:26:39.490Z"
   },
   {
    "duration": 36,
    "start_time": "2021-10-31T07:26:45.478Z"
   },
   {
    "duration": 20,
    "start_time": "2021-10-31T07:26:45.516Z"
   },
   {
    "duration": 11,
    "start_time": "2021-10-31T07:26:45.538Z"
   },
   {
    "duration": 37,
    "start_time": "2021-10-31T07:26:45.551Z"
   },
   {
    "duration": 46,
    "start_time": "2021-10-31T07:26:45.589Z"
   },
   {
    "duration": 467,
    "start_time": "2021-10-31T07:26:45.637Z"
   },
   {
    "duration": 37,
    "start_time": "2021-10-31T07:26:46.106Z"
   },
   {
    "duration": 41,
    "start_time": "2021-10-31T07:26:46.145Z"
   },
   {
    "duration": 23,
    "start_time": "2021-10-31T07:26:46.188Z"
   },
   {
    "duration": 77,
    "start_time": "2021-10-31T07:26:46.213Z"
   },
   {
    "duration": 456,
    "start_time": "2021-10-31T07:26:46.292Z"
   },
   {
    "duration": 29,
    "start_time": "2021-10-31T07:26:46.750Z"
   },
   {
    "duration": 71,
    "start_time": "2021-10-31T07:26:46.781Z"
   },
   {
    "duration": 473,
    "start_time": "2021-10-31T07:26:46.854Z"
   },
   {
    "duration": 10,
    "start_time": "2021-10-31T07:26:47.331Z"
   },
   {
    "duration": 328,
    "start_time": "2021-10-31T07:26:47.342Z"
   },
   {
    "duration": 228,
    "start_time": "2021-10-31T07:26:47.672Z"
   },
   {
    "duration": 239,
    "start_time": "2021-10-31T07:26:47.906Z"
   },
   {
    "duration": 19,
    "start_time": "2021-10-31T07:26:48.147Z"
   },
   {
    "duration": 457,
    "start_time": "2021-10-31T07:26:48.168Z"
   },
   {
    "duration": 8,
    "start_time": "2021-10-31T07:26:48.620Z"
   },
   {
    "duration": 9324,
    "start_time": "2021-10-31T07:30:59.519Z"
   },
   {
    "duration": 26,
    "start_time": "2021-10-31T07:31:13.643Z"
   },
   {
    "duration": 455,
    "start_time": "2021-10-31T07:37:27.617Z"
   },
   {
    "duration": 6,
    "start_time": "2021-10-31T07:38:22.341Z"
   },
   {
    "duration": 12,
    "start_time": "2021-10-31T07:38:30.398Z"
   },
   {
    "duration": 4635,
    "start_time": "2021-11-02T10:17:24.752Z"
   },
   {
    "duration": 36,
    "start_time": "2021-11-02T10:17:29.389Z"
   },
   {
    "duration": 31,
    "start_time": "2021-11-02T10:17:29.427Z"
   },
   {
    "duration": 13,
    "start_time": "2021-11-02T10:17:29.460Z"
   },
   {
    "duration": 24,
    "start_time": "2021-11-02T10:17:29.475Z"
   },
   {
    "duration": 14,
    "start_time": "2021-11-02T10:17:29.501Z"
   },
   {
    "duration": 6,
    "start_time": "2021-11-02T10:17:29.516Z"
   },
   {
    "duration": 316,
    "start_time": "2021-11-02T10:17:29.524Z"
   },
   {
    "duration": 1254,
    "start_time": "2021-11-02T10:17:29.842Z"
   },
   {
    "duration": 3,
    "start_time": "2021-11-02T10:17:31.098Z"
   },
   {
    "duration": 691,
    "start_time": "2021-11-02T10:17:31.103Z"
   },
   {
    "duration": 490,
    "start_time": "2021-11-02T10:17:31.796Z"
   },
   {
    "duration": 13,
    "start_time": "2021-11-02T10:17:32.288Z"
   },
   {
    "duration": 25,
    "start_time": "2021-11-02T10:17:32.303Z"
   },
   {
    "duration": 690,
    "start_time": "2021-11-02T10:17:32.330Z"
   },
   {
    "duration": 1379,
    "start_time": "2021-11-02T10:17:33.022Z"
   },
   {
    "duration": 25,
    "start_time": "2021-11-02T10:17:34.403Z"
   },
   {
    "duration": 23,
    "start_time": "2021-11-02T10:17:34.430Z"
   },
   {
    "duration": 759,
    "start_time": "2021-11-02T10:17:34.454Z"
   },
   {
    "duration": 535,
    "start_time": "2021-11-02T10:17:35.215Z"
   },
   {
    "duration": 421,
    "start_time": "2021-11-02T10:17:35.752Z"
   },
   {
    "duration": 52,
    "start_time": "2021-11-02T10:17:36.174Z"
   },
   {
    "duration": 19,
    "start_time": "2021-11-02T10:17:36.229Z"
   },
   {
    "duration": 14,
    "start_time": "2021-11-02T10:17:36.250Z"
   },
   {
    "duration": 27,
    "start_time": "2021-11-02T10:17:36.266Z"
   },
   {
    "duration": 814,
    "start_time": "2021-11-02T10:17:36.294Z"
   },
   {
    "duration": 224,
    "start_time": "2021-11-02T10:17:37.110Z"
   },
   {
    "duration": 5149,
    "start_time": "2021-11-02T10:17:37.336Z"
   },
   {
    "duration": 10,
    "start_time": "2021-11-02T10:17:42.487Z"
   },
   {
    "duration": 9,
    "start_time": "2021-11-02T10:17:42.499Z"
   },
   {
    "duration": 8,
    "start_time": "2021-11-02T10:17:42.510Z"
   },
   {
    "duration": 18,
    "start_time": "2021-11-02T10:17:42.520Z"
   },
   {
    "duration": 427,
    "start_time": "2021-11-02T10:17:42.540Z"
   },
   {
    "duration": 31,
    "start_time": "2021-11-02T10:17:42.969Z"
   },
   {
    "duration": 28,
    "start_time": "2021-11-02T10:17:43.001Z"
   },
   {
    "duration": 33,
    "start_time": "2021-11-02T10:17:43.030Z"
   },
   {
    "duration": 408,
    "start_time": "2021-11-02T10:17:43.065Z"
   },
   {
    "duration": 33,
    "start_time": "2021-11-02T10:17:43.474Z"
   },
   {
    "duration": 34,
    "start_time": "2021-11-02T10:17:43.509Z"
   },
   {
    "duration": 403,
    "start_time": "2021-11-02T10:17:43.545Z"
   },
   {
    "duration": 9,
    "start_time": "2021-11-02T10:17:43.950Z"
   },
   {
    "duration": 289,
    "start_time": "2021-11-02T10:17:43.961Z"
   },
   {
    "duration": 205,
    "start_time": "2021-11-02T10:17:44.252Z"
   },
   {
    "duration": 196,
    "start_time": "2021-11-02T10:17:44.458Z"
   },
   {
    "duration": 17,
    "start_time": "2021-11-02T10:17:44.656Z"
   },
   {
    "duration": 19,
    "start_time": "2021-11-02T10:17:44.674Z"
   },
   {
    "duration": 9,
    "start_time": "2021-11-02T10:17:44.695Z"
   },
   {
    "duration": 88,
    "start_time": "2021-11-02T17:36:17.035Z"
   },
   {
    "duration": 362,
    "start_time": "2021-11-02T17:41:21.036Z"
   },
   {
    "duration": 4,
    "start_time": "2021-11-02T17:41:38.178Z"
   },
   {
    "duration": 639,
    "start_time": "2021-11-02T17:41:41.359Z"
   },
   {
    "duration": 5531,
    "start_time": "2021-11-02T17:42:11.007Z"
   },
   {
    "duration": 64,
    "start_time": "2021-11-02T17:42:16.549Z"
   },
   {
    "duration": 37,
    "start_time": "2021-11-02T17:42:16.616Z"
   },
   {
    "duration": 17,
    "start_time": "2021-11-02T17:42:16.654Z"
   },
   {
    "duration": 14,
    "start_time": "2021-11-02T17:42:16.673Z"
   },
   {
    "duration": 22,
    "start_time": "2021-11-02T17:42:16.689Z"
   },
   {
    "duration": 6,
    "start_time": "2021-11-02T17:42:16.712Z"
   },
   {
    "duration": 341,
    "start_time": "2021-11-02T17:42:16.719Z"
   },
   {
    "duration": 1330,
    "start_time": "2021-11-02T17:42:17.063Z"
   },
   {
    "duration": 4,
    "start_time": "2021-11-02T17:42:18.396Z"
   },
   {
    "duration": 669,
    "start_time": "2021-11-02T17:42:18.402Z"
   },
   {
    "duration": 508,
    "start_time": "2021-11-02T17:42:19.073Z"
   },
   {
    "duration": 10,
    "start_time": "2021-11-02T17:42:19.582Z"
   },
   {
    "duration": 25,
    "start_time": "2021-11-02T17:42:19.594Z"
   },
   {
    "duration": 803,
    "start_time": "2021-11-02T17:42:19.621Z"
   },
   {
    "duration": 1656,
    "start_time": "2021-11-02T17:42:20.426Z"
   },
   {
    "duration": 49,
    "start_time": "2021-11-02T17:42:22.084Z"
   },
   {
    "duration": 30,
    "start_time": "2021-11-02T17:42:22.135Z"
   },
   {
    "duration": 822,
    "start_time": "2021-11-02T17:42:22.167Z"
   },
   {
    "duration": 708,
    "start_time": "2021-11-02T17:42:22.990Z"
   },
   {
    "duration": 516,
    "start_time": "2021-11-02T17:42:23.700Z"
   },
   {
    "duration": 62,
    "start_time": "2021-11-02T17:42:24.218Z"
   },
   {
    "duration": 20,
    "start_time": "2021-11-02T17:42:24.281Z"
   },
   {
    "duration": 15,
    "start_time": "2021-11-02T17:42:24.303Z"
   },
   {
    "duration": 27,
    "start_time": "2021-11-02T17:42:24.320Z"
   },
   {
    "duration": 874,
    "start_time": "2021-11-02T17:42:24.349Z"
   },
   {
    "duration": 249,
    "start_time": "2021-11-02T17:42:25.228Z"
   },
   {
    "duration": 5730,
    "start_time": "2021-11-02T17:42:25.479Z"
   },
   {
    "duration": 13,
    "start_time": "2021-11-02T17:42:31.211Z"
   },
   {
    "duration": 39,
    "start_time": "2021-11-02T17:42:31.225Z"
   },
   {
    "duration": 32,
    "start_time": "2021-11-02T17:42:31.266Z"
   },
   {
    "duration": 37,
    "start_time": "2021-11-02T17:42:31.300Z"
   },
   {
    "duration": 424,
    "start_time": "2021-11-02T17:42:31.339Z"
   },
   {
    "duration": 26,
    "start_time": "2021-11-02T17:42:31.765Z"
   },
   {
    "duration": 56,
    "start_time": "2021-11-02T17:42:31.793Z"
   },
   {
    "duration": 37,
    "start_time": "2021-11-02T17:42:31.851Z"
   },
   {
    "duration": 429,
    "start_time": "2021-11-02T17:42:31.890Z"
   },
   {
    "duration": 39,
    "start_time": "2021-11-02T17:42:32.321Z"
   },
   {
    "duration": 40,
    "start_time": "2021-11-02T17:42:32.362Z"
   },
   {
    "duration": 420,
    "start_time": "2021-11-02T17:42:32.404Z"
   },
   {
    "duration": 25,
    "start_time": "2021-11-02T17:42:32.825Z"
   },
   {
    "duration": 319,
    "start_time": "2021-11-02T17:42:32.852Z"
   },
   {
    "duration": 217,
    "start_time": "2021-11-02T17:42:33.173Z"
   },
   {
    "duration": 201,
    "start_time": "2021-11-02T17:42:33.391Z"
   },
   {
    "duration": 18,
    "start_time": "2021-11-02T17:42:33.594Z"
   },
   {
    "duration": 6,
    "start_time": "2021-11-02T17:42:33.614Z"
   },
   {
    "duration": 27,
    "start_time": "2021-11-02T17:42:33.622Z"
   },
   {
    "duration": 4,
    "start_time": "2021-11-02T17:44:08.339Z"
   },
   {
    "duration": 870,
    "start_time": "2021-11-02T17:44:10.391Z"
   },
   {
    "duration": 3,
    "start_time": "2021-11-02T17:44:26.985Z"
   },
   {
    "duration": 806,
    "start_time": "2021-11-02T17:44:28.695Z"
   },
   {
    "duration": 4,
    "start_time": "2021-11-02T17:44:36.901Z"
   },
   {
    "duration": 4,
    "start_time": "2021-11-02T17:44:41.208Z"
   },
   {
    "duration": 674,
    "start_time": "2021-11-02T17:44:43.088Z"
   },
   {
    "duration": 4,
    "start_time": "2021-11-02T17:45:09.484Z"
   },
   {
    "duration": 430,
    "start_time": "2021-11-02T17:45:13.434Z"
   },
   {
    "duration": 4,
    "start_time": "2021-11-02T17:45:36.139Z"
   },
   {
    "duration": 791,
    "start_time": "2021-11-02T17:45:37.814Z"
   },
   {
    "duration": 5,
    "start_time": "2021-11-02T17:45:47.106Z"
   },
   {
    "duration": 708,
    "start_time": "2021-11-02T17:45:48.583Z"
   },
   {
    "duration": 6111,
    "start_time": "2021-11-03T12:12:30.869Z"
   },
   {
    "duration": 53,
    "start_time": "2021-11-03T12:12:36.983Z"
   },
   {
    "duration": 49,
    "start_time": "2021-11-03T12:12:37.040Z"
   },
   {
    "duration": 37,
    "start_time": "2021-11-03T12:12:37.093Z"
   },
   {
    "duration": 18,
    "start_time": "2021-11-03T12:12:37.133Z"
   },
   {
    "duration": 18,
    "start_time": "2021-11-03T12:12:37.154Z"
   },
   {
    "duration": 7,
    "start_time": "2021-11-03T12:12:37.174Z"
   },
   {
    "duration": 605,
    "start_time": "2021-11-03T12:12:37.184Z"
   },
   {
    "duration": 1919,
    "start_time": "2021-11-03T12:12:37.793Z"
   },
   {
    "duration": 8,
    "start_time": "2021-11-03T12:12:39.715Z"
   },
   {
    "duration": 1016,
    "start_time": "2021-11-03T12:12:39.725Z"
   },
   {
    "duration": 856,
    "start_time": "2021-11-03T12:12:40.744Z"
   },
   {
    "duration": 25,
    "start_time": "2021-11-03T12:12:41.603Z"
   },
   {
    "duration": 39,
    "start_time": "2021-11-03T12:12:41.630Z"
   },
   {
    "duration": 1595,
    "start_time": "2021-11-03T12:12:41.671Z"
   },
   {
    "duration": 3214,
    "start_time": "2021-11-03T12:12:43.269Z"
   },
   {
    "duration": 53,
    "start_time": "2021-11-03T12:12:46.485Z"
   },
   {
    "duration": 37,
    "start_time": "2021-11-03T12:12:46.541Z"
   },
   {
    "duration": 1115,
    "start_time": "2021-11-03T12:12:46.581Z"
   },
   {
    "duration": 867,
    "start_time": "2021-11-03T12:12:47.698Z"
   },
   {
    "duration": 693,
    "start_time": "2021-11-03T12:12:48.568Z"
   },
   {
    "duration": 81,
    "start_time": "2021-11-03T12:12:49.263Z"
   },
   {
    "duration": 30,
    "start_time": "2021-11-03T12:12:49.346Z"
   },
   {
    "duration": 49,
    "start_time": "2021-11-03T12:12:49.378Z"
   },
   {
    "duration": 6,
    "start_time": "2021-11-03T12:12:49.430Z"
   },
   {
    "duration": 1307,
    "start_time": "2021-11-03T12:12:49.438Z"
   },
   {
    "duration": 375,
    "start_time": "2021-11-03T12:12:50.750Z"
   },
   {
    "duration": 8618,
    "start_time": "2021-11-03T12:12:51.128Z"
   },
   {
    "duration": 17,
    "start_time": "2021-11-03T12:12:59.749Z"
   },
   {
    "duration": 18,
    "start_time": "2021-11-03T12:12:59.769Z"
   },
   {
    "duration": 15,
    "start_time": "2021-11-03T12:12:59.821Z"
   },
   {
    "duration": 32,
    "start_time": "2021-11-03T12:12:59.838Z"
   },
   {
    "duration": 695,
    "start_time": "2021-11-03T12:12:59.872Z"
   },
   {
    "duration": 57,
    "start_time": "2021-11-03T12:13:00.570Z"
   },
   {
    "duration": 48,
    "start_time": "2021-11-03T12:13:00.630Z"
   },
   {
    "duration": 87,
    "start_time": "2021-11-03T12:13:00.681Z"
   },
   {
    "duration": 660,
    "start_time": "2021-11-03T12:13:00.770Z"
   },
   {
    "duration": 39,
    "start_time": "2021-11-03T12:13:01.432Z"
   },
   {
    "duration": 92,
    "start_time": "2021-11-03T12:13:01.474Z"
   },
   {
    "duration": 744,
    "start_time": "2021-11-03T12:13:01.569Z"
   },
   {
    "duration": 12,
    "start_time": "2021-11-03T12:13:02.322Z"
   },
   {
    "duration": 426,
    "start_time": "2021-11-03T12:13:02.336Z"
   },
   {
    "duration": 500,
    "start_time": "2021-11-03T12:13:02.765Z"
   },
   {
    "duration": 343,
    "start_time": "2021-11-03T12:13:03.268Z"
   },
   {
    "duration": 34,
    "start_time": "2021-11-03T12:13:03.615Z"
   },
   {
    "duration": 9,
    "start_time": "2021-11-03T12:13:03.652Z"
   },
   {
    "duration": 14,
    "start_time": "2021-11-03T12:13:03.664Z"
   },
   {
    "duration": 1088,
    "start_time": "2021-11-03T12:15:14.934Z"
   },
   {
    "duration": 1052,
    "start_time": "2021-11-03T12:15:36.850Z"
   },
   {
    "duration": 93,
    "start_time": "2021-11-03T12:17:26.449Z"
   },
   {
    "duration": 86,
    "start_time": "2021-11-03T12:17:31.984Z"
   },
   {
    "duration": 952,
    "start_time": "2021-11-03T12:17:44.550Z"
   },
   {
    "duration": 402,
    "start_time": "2021-11-03T12:18:06.211Z"
   },
   {
    "duration": 6,
    "start_time": "2021-11-03T12:18:15.920Z"
   },
   {
    "duration": 965,
    "start_time": "2021-11-03T12:18:18.048Z"
   },
   {
    "duration": 5,
    "start_time": "2021-11-03T12:21:14.108Z"
   },
   {
    "duration": 1572,
    "start_time": "2021-11-03T12:21:20.540Z"
   },
   {
    "duration": 101,
    "start_time": "2021-11-03T12:22:35.403Z"
   },
   {
    "duration": 6,
    "start_time": "2021-11-03T12:22:53.299Z"
   },
   {
    "duration": 977,
    "start_time": "2021-11-03T12:22:55.836Z"
   },
   {
    "duration": 5,
    "start_time": "2021-11-03T12:23:13.116Z"
   },
   {
    "duration": 1022,
    "start_time": "2021-11-03T12:23:14.890Z"
   },
   {
    "duration": 6,
    "start_time": "2021-11-03T12:23:35.726Z"
   },
   {
    "duration": 1008,
    "start_time": "2021-11-03T12:23:40.332Z"
   },
   {
    "duration": 266,
    "start_time": "2021-11-03T12:24:34.646Z"
   },
   {
    "duration": 911,
    "start_time": "2021-11-03T12:25:07.239Z"
   },
   {
    "duration": 21,
    "start_time": "2021-11-03T12:29:05.202Z"
   },
   {
    "duration": 1086,
    "start_time": "2021-11-03T12:29:16.526Z"
   },
   {
    "duration": 7031,
    "start_time": "2021-11-03T12:30:08.728Z"
   },
   {
    "duration": 6737,
    "start_time": "2021-11-03T12:31:57.250Z"
   },
   {
    "duration": 6767,
    "start_time": "2021-11-03T12:34:07.652Z"
   },
   {
    "duration": 7697,
    "start_time": "2021-11-03T12:34:15.308Z"
   },
   {
    "duration": 4712,
    "start_time": "2021-11-03T12:34:44.948Z"
   },
   {
    "duration": 47,
    "start_time": "2021-11-03T12:34:49.663Z"
   },
   {
    "duration": 47,
    "start_time": "2021-11-03T12:34:49.713Z"
   },
   {
    "duration": 18,
    "start_time": "2021-11-03T12:34:49.763Z"
   },
   {
    "duration": 40,
    "start_time": "2021-11-03T12:34:49.783Z"
   },
   {
    "duration": 652,
    "start_time": "2021-11-03T12:34:49.825Z"
   },
   {
    "duration": 23,
    "start_time": "2021-11-03T12:34:50.479Z"
   },
   {
    "duration": 24,
    "start_time": "2021-11-03T12:34:50.504Z"
   },
   {
    "duration": 6,
    "start_time": "2021-11-03T12:34:50.532Z"
   },
   {
    "duration": 6,
    "start_time": "2021-11-03T12:34:50.541Z"
   },
   {
    "duration": 8,
    "start_time": "2021-11-03T12:34:50.550Z"
   },
   {
    "duration": 994,
    "start_time": "2021-11-03T12:34:50.561Z"
   },
   {
    "duration": 890,
    "start_time": "2021-11-03T12:34:51.557Z"
   },
   {
    "duration": 12,
    "start_time": "2021-11-03T12:34:52.449Z"
   },
   {
    "duration": 59,
    "start_time": "2021-11-03T12:34:52.464Z"
   },
   {
    "duration": 1323,
    "start_time": "2021-11-03T12:34:52.525Z"
   },
   {
    "duration": 3171,
    "start_time": "2021-11-03T12:34:53.851Z"
   },
   {
    "duration": 41,
    "start_time": "2021-11-03T12:34:57.025Z"
   },
   {
    "duration": 55,
    "start_time": "2021-11-03T12:34:57.069Z"
   },
   {
    "duration": 415,
    "start_time": "2021-11-03T12:34:57.126Z"
   },
   {
    "duration": 271,
    "start_time": "2021-11-03T12:34:57.273Z"
   },
   {
    "duration": 259,
    "start_time": "2021-11-03T12:34:57.287Z"
   },
   {
    "duration": 243,
    "start_time": "2021-11-03T12:34:57.304Z"
   },
   {
    "duration": 238,
    "start_time": "2021-11-03T12:34:57.311Z"
   },
   {
    "duration": 237,
    "start_time": "2021-11-03T12:34:57.313Z"
   },
   {
    "duration": 237,
    "start_time": "2021-11-03T12:34:57.315Z"
   },
   {
    "duration": 237,
    "start_time": "2021-11-03T12:34:57.317Z"
   },
   {
    "duration": 237,
    "start_time": "2021-11-03T12:34:57.318Z"
   },
   {
    "duration": 237,
    "start_time": "2021-11-03T12:34:57.320Z"
   },
   {
    "duration": 232,
    "start_time": "2021-11-03T12:34:57.326Z"
   },
   {
    "duration": 233,
    "start_time": "2021-11-03T12:34:57.327Z"
   },
   {
    "duration": 232,
    "start_time": "2021-11-03T12:34:57.329Z"
   },
   {
    "duration": 232,
    "start_time": "2021-11-03T12:34:57.330Z"
   },
   {
    "duration": 233,
    "start_time": "2021-11-03T12:34:57.331Z"
   },
   {
    "duration": 216,
    "start_time": "2021-11-03T12:34:57.349Z"
   },
   {
    "duration": 213,
    "start_time": "2021-11-03T12:34:57.353Z"
   },
   {
    "duration": 210,
    "start_time": "2021-11-03T12:34:57.358Z"
   },
   {
    "duration": 209,
    "start_time": "2021-11-03T12:34:57.360Z"
   },
   {
    "duration": 209,
    "start_time": "2021-11-03T12:34:57.361Z"
   },
   {
    "duration": 209,
    "start_time": "2021-11-03T12:34:57.363Z"
   },
   {
    "duration": 209,
    "start_time": "2021-11-03T12:34:57.364Z"
   },
   {
    "duration": 208,
    "start_time": "2021-11-03T12:34:57.366Z"
   },
   {
    "duration": 206,
    "start_time": "2021-11-03T12:34:57.369Z"
   },
   {
    "duration": 201,
    "start_time": "2021-11-03T12:34:57.376Z"
   },
   {
    "duration": 201,
    "start_time": "2021-11-03T12:34:57.377Z"
   },
   {
    "duration": 201,
    "start_time": "2021-11-03T12:34:57.379Z"
   },
   {
    "duration": 201,
    "start_time": "2021-11-03T12:34:57.380Z"
   },
   {
    "duration": 202,
    "start_time": "2021-11-03T12:34:57.381Z"
   },
   {
    "duration": 93,
    "start_time": "2021-11-03T12:55:51.730Z"
   },
   {
    "duration": 665,
    "start_time": "2021-11-03T12:57:38.328Z"
   },
   {
    "duration": 66,
    "start_time": "2021-11-03T12:57:55.884Z"
   },
   {
    "duration": 3552,
    "start_time": "2021-11-03T12:58:40.335Z"
   },
   {
    "duration": 53,
    "start_time": "2021-11-03T12:58:43.890Z"
   },
   {
    "duration": 46,
    "start_time": "2021-11-03T12:58:43.946Z"
   },
   {
    "duration": 33,
    "start_time": "2021-11-03T12:58:43.996Z"
   },
   {
    "duration": 27,
    "start_time": "2021-11-03T12:58:44.032Z"
   },
   {
    "duration": 536,
    "start_time": "2021-11-03T12:58:44.063Z"
   },
   {
    "duration": 34,
    "start_time": "2021-11-03T12:58:44.602Z"
   },
   {
    "duration": 6,
    "start_time": "2021-11-03T12:58:44.642Z"
   },
   {
    "duration": 1004,
    "start_time": "2021-11-03T12:58:44.652Z"
   },
   {
    "duration": 902,
    "start_time": "2021-11-03T12:58:45.659Z"
   },
   {
    "duration": 12,
    "start_time": "2021-11-03T12:58:46.563Z"
   },
   {
    "duration": 64,
    "start_time": "2021-11-03T12:58:46.578Z"
   },
   {
    "duration": 1296,
    "start_time": "2021-11-03T12:58:46.644Z"
   },
   {
    "duration": 2999,
    "start_time": "2021-11-03T12:58:47.942Z"
   },
   {
    "duration": 39,
    "start_time": "2021-11-03T12:58:50.944Z"
   },
   {
    "duration": 62,
    "start_time": "2021-11-03T12:58:50.985Z"
   },
   {
    "duration": 269,
    "start_time": "2021-11-03T12:58:51.049Z"
   },
   {
    "duration": 226,
    "start_time": "2021-11-03T12:58:51.095Z"
   },
   {
    "duration": 225,
    "start_time": "2021-11-03T12:58:51.098Z"
   },
   {
    "duration": 224,
    "start_time": "2021-11-03T12:58:51.100Z"
   },
   {
    "duration": 223,
    "start_time": "2021-11-03T12:58:51.102Z"
   },
   {
    "duration": 222,
    "start_time": "2021-11-03T12:58:51.104Z"
   },
   {
    "duration": 222,
    "start_time": "2021-11-03T12:58:51.106Z"
   },
   {
    "duration": 216,
    "start_time": "2021-11-03T12:58:51.113Z"
   },
   {
    "duration": 215,
    "start_time": "2021-11-03T12:58:51.115Z"
   },
   {
    "duration": 214,
    "start_time": "2021-11-03T12:58:51.117Z"
   },
   {
    "duration": 215,
    "start_time": "2021-11-03T12:58:51.118Z"
   },
   {
    "duration": 214,
    "start_time": "2021-11-03T12:58:51.120Z"
   },
   {
    "duration": 214,
    "start_time": "2021-11-03T12:58:51.121Z"
   },
   {
    "duration": 213,
    "start_time": "2021-11-03T12:58:51.123Z"
   },
   {
    "duration": 213,
    "start_time": "2021-11-03T12:58:51.124Z"
   },
   {
    "duration": 212,
    "start_time": "2021-11-03T12:58:51.126Z"
   },
   {
    "duration": 213,
    "start_time": "2021-11-03T12:58:51.127Z"
   },
   {
    "duration": 200,
    "start_time": "2021-11-03T12:58:51.141Z"
   },
   {
    "duration": 195,
    "start_time": "2021-11-03T12:58:51.147Z"
   },
   {
    "duration": 192,
    "start_time": "2021-11-03T12:58:51.151Z"
   },
   {
    "duration": 190,
    "start_time": "2021-11-03T12:58:51.154Z"
   },
   {
    "duration": 191,
    "start_time": "2021-11-03T12:58:51.155Z"
   },
   {
    "duration": 189,
    "start_time": "2021-11-03T12:58:51.158Z"
   },
   {
    "duration": 184,
    "start_time": "2021-11-03T12:58:51.164Z"
   },
   {
    "duration": 183,
    "start_time": "2021-11-03T12:58:51.166Z"
   },
   {
    "duration": 181,
    "start_time": "2021-11-03T12:58:51.169Z"
   },
   {
    "duration": 179,
    "start_time": "2021-11-03T12:58:51.173Z"
   },
   {
    "duration": 179,
    "start_time": "2021-11-03T12:58:51.174Z"
   },
   {
    "duration": 178,
    "start_time": "2021-11-03T12:58:51.177Z"
   },
   {
    "duration": 103,
    "start_time": "2021-11-03T13:00:21.869Z"
   },
   {
    "duration": 813,
    "start_time": "2021-11-03T13:00:28.175Z"
   },
   {
    "duration": 55,
    "start_time": "2021-11-03T13:01:55.921Z"
   },
   {
    "duration": 337,
    "start_time": "2021-11-03T13:02:20.750Z"
   },
   {
    "duration": 3461,
    "start_time": "2021-11-03T13:02:29.444Z"
   },
   {
    "duration": 53,
    "start_time": "2021-11-03T13:02:32.908Z"
   },
   {
    "duration": 70,
    "start_time": "2021-11-03T13:02:32.964Z"
   },
   {
    "duration": 20,
    "start_time": "2021-11-03T13:02:33.037Z"
   },
   {
    "duration": 16,
    "start_time": "2021-11-03T13:02:33.059Z"
   },
   {
    "duration": 818,
    "start_time": "2021-11-03T13:02:33.077Z"
   },
   {
    "duration": 29,
    "start_time": "2021-11-03T13:02:33.898Z"
   },
   {
    "duration": 7,
    "start_time": "2021-11-03T13:02:33.929Z"
   },
   {
    "duration": 963,
    "start_time": "2021-11-03T13:02:33.940Z"
   },
   {
    "duration": 925,
    "start_time": "2021-11-03T13:02:34.907Z"
   },
   {
    "duration": 13,
    "start_time": "2021-11-03T13:02:35.834Z"
   },
   {
    "duration": 39,
    "start_time": "2021-11-03T13:02:35.850Z"
   },
   {
    "duration": 1360,
    "start_time": "2021-11-03T13:02:35.892Z"
   },
   {
    "duration": 3003,
    "start_time": "2021-11-03T13:02:37.255Z"
   },
   {
    "duration": 40,
    "start_time": "2021-11-03T13:02:40.260Z"
   },
   {
    "duration": 55,
    "start_time": "2021-11-03T13:02:40.302Z"
   },
   {
    "duration": 988,
    "start_time": "2021-11-03T13:02:40.359Z"
   },
   {
    "duration": 811,
    "start_time": "2021-11-03T13:02:41.349Z"
   },
   {
    "duration": 83,
    "start_time": "2021-11-03T13:02:42.162Z"
   },
   {
    "duration": 32,
    "start_time": "2021-11-03T13:02:42.247Z"
   },
   {
    "duration": 49,
    "start_time": "2021-11-03T13:02:42.281Z"
   },
   {
    "duration": 7,
    "start_time": "2021-11-03T13:02:42.332Z"
   },
   {
    "duration": 1354,
    "start_time": "2021-11-03T13:02:42.341Z"
   },
   {
    "duration": 374,
    "start_time": "2021-11-03T13:02:43.698Z"
   },
   {
    "duration": 7854,
    "start_time": "2021-11-03T13:02:44.075Z"
   },
   {
    "duration": 20,
    "start_time": "2021-11-03T13:02:51.932Z"
   },
   {
    "duration": 16,
    "start_time": "2021-11-03T13:02:51.959Z"
   },
   {
    "duration": 57,
    "start_time": "2021-11-03T13:02:51.979Z"
   },
   {
    "duration": 34,
    "start_time": "2021-11-03T13:02:52.039Z"
   },
   {
    "duration": 704,
    "start_time": "2021-11-03T13:02:52.076Z"
   },
   {
    "duration": 51,
    "start_time": "2021-11-03T13:02:52.782Z"
   },
   {
    "duration": 48,
    "start_time": "2021-11-03T13:02:52.836Z"
   },
   {
    "duration": 76,
    "start_time": "2021-11-03T13:02:52.886Z"
   },
   {
    "duration": 646,
    "start_time": "2021-11-03T13:02:52.964Z"
   },
   {
    "duration": 46,
    "start_time": "2021-11-03T13:02:53.613Z"
   },
   {
    "duration": 65,
    "start_time": "2021-11-03T13:02:53.661Z"
   },
   {
    "duration": 631,
    "start_time": "2021-11-03T13:02:53.729Z"
   },
   {
    "duration": 11,
    "start_time": "2021-11-03T13:02:54.362Z"
   },
   {
    "duration": 339,
    "start_time": "2021-11-03T13:02:54.375Z"
   },
   {
    "duration": 334,
    "start_time": "2021-11-03T13:02:54.722Z"
   },
   {
    "duration": 433,
    "start_time": "2021-11-03T13:02:55.058Z"
   },
   {
    "duration": 35,
    "start_time": "2021-11-03T13:02:55.494Z"
   },
   {
    "duration": 9,
    "start_time": "2021-11-03T13:02:55.531Z"
   },
   {
    "duration": 11,
    "start_time": "2021-11-03T13:02:55.543Z"
   },
   {
    "duration": 25,
    "start_time": "2021-11-03T13:03:00.930Z"
   },
   {
    "duration": 25,
    "start_time": "2021-11-03T13:03:26.683Z"
   },
   {
    "duration": 24,
    "start_time": "2021-11-03T13:03:31.321Z"
   },
   {
    "duration": 24,
    "start_time": "2021-11-03T13:04:31.377Z"
   },
   {
    "duration": 24,
    "start_time": "2021-11-03T13:04:39.221Z"
   },
   {
    "duration": 2274,
    "start_time": "2021-11-03T13:05:54.742Z"
   },
   {
    "duration": 25,
    "start_time": "2021-11-03T13:06:11.661Z"
   },
   {
    "duration": 24,
    "start_time": "2021-11-03T13:06:34.064Z"
   },
   {
    "duration": 2652,
    "start_time": "2021-11-03T13:07:14.758Z"
   },
   {
    "duration": 88,
    "start_time": "2021-11-03T13:07:52.021Z"
   },
   {
    "duration": 479,
    "start_time": "2021-11-03T13:09:51.345Z"
   },
   {
    "duration": 663,
    "start_time": "2021-11-03T13:28:47.348Z"
   },
   {
    "duration": 127,
    "start_time": "2021-11-03T13:29:13.532Z"
   },
   {
    "duration": 115,
    "start_time": "2021-11-03T13:29:36.665Z"
   },
   {
    "duration": 2232,
    "start_time": "2021-11-03T13:32:56.335Z"
   },
   {
    "duration": 360,
    "start_time": "2021-11-03T13:33:45.443Z"
   },
   {
    "duration": 404,
    "start_time": "2021-11-03T13:34:45.298Z"
   },
   {
    "duration": 346,
    "start_time": "2021-11-03T13:35:06.644Z"
   },
   {
    "duration": 414,
    "start_time": "2021-11-03T13:35:40.554Z"
   },
   {
    "duration": 843,
    "start_time": "2021-11-03T13:38:10.999Z"
   },
   {
    "duration": 98,
    "start_time": "2021-11-03T13:38:31.226Z"
   },
   {
    "duration": 93,
    "start_time": "2021-11-03T13:39:01.421Z"
   },
   {
    "duration": 84,
    "start_time": "2021-11-03T13:42:46.089Z"
   },
   {
    "duration": 88,
    "start_time": "2021-11-03T13:43:05.083Z"
   },
   {
    "duration": 7989,
    "start_time": "2021-11-03T13:43:13.495Z"
   },
   {
    "duration": 121,
    "start_time": "2021-11-03T13:43:29.777Z"
   },
   {
    "duration": 8308,
    "start_time": "2021-11-03T13:43:54.727Z"
   },
   {
    "duration": 8449,
    "start_time": "2021-11-03T13:44:18.727Z"
   },
   {
    "duration": 8482,
    "start_time": "2021-11-03T13:44:35.153Z"
   },
   {
    "duration": 1169,
    "start_time": "2021-11-03T13:57:13.450Z"
   },
   {
    "duration": 4996,
    "start_time": "2021-11-03T13:57:27.298Z"
   },
   {
    "duration": 48,
    "start_time": "2021-11-03T13:57:32.296Z"
   },
   {
    "duration": 47,
    "start_time": "2021-11-03T13:57:32.348Z"
   },
   {
    "duration": 33,
    "start_time": "2021-11-03T13:57:32.398Z"
   },
   {
    "duration": 18,
    "start_time": "2021-11-03T13:57:32.433Z"
   },
   {
    "duration": 566,
    "start_time": "2021-11-03T13:57:32.453Z"
   },
   {
    "duration": 25,
    "start_time": "2021-11-03T13:57:33.023Z"
   },
   {
    "duration": 6,
    "start_time": "2021-11-03T13:57:33.051Z"
   },
   {
    "duration": 1186,
    "start_time": "2021-11-03T13:57:33.061Z"
   },
   {
    "duration": 947,
    "start_time": "2021-11-03T13:57:34.250Z"
   },
   {
    "duration": 12,
    "start_time": "2021-11-03T13:57:35.199Z"
   },
   {
    "duration": 50,
    "start_time": "2021-11-03T13:57:35.213Z"
   },
   {
    "duration": 1610,
    "start_time": "2021-11-03T13:57:35.265Z"
   },
   {
    "duration": 3266,
    "start_time": "2021-11-03T13:57:36.877Z"
   },
   {
    "duration": 43,
    "start_time": "2021-11-03T13:57:40.145Z"
   },
   {
    "duration": 53,
    "start_time": "2021-11-03T13:57:40.190Z"
   },
   {
    "duration": 965,
    "start_time": "2021-11-03T13:57:40.245Z"
   },
   {
    "duration": 953,
    "start_time": "2021-11-03T13:57:41.213Z"
   },
   {
    "duration": 85,
    "start_time": "2021-11-03T13:57:42.169Z"
   },
   {
    "duration": 31,
    "start_time": "2021-11-03T13:57:42.257Z"
   },
   {
    "duration": 50,
    "start_time": "2021-11-03T13:57:42.290Z"
   },
   {
    "duration": 7,
    "start_time": "2021-11-03T13:57:42.343Z"
   },
   {
    "duration": 3073,
    "start_time": "2021-11-03T13:57:42.353Z"
   },
   {
    "duration": 436,
    "start_time": "2021-11-03T13:57:45.429Z"
   },
   {
    "duration": 10151,
    "start_time": "2021-11-03T13:57:45.868Z"
   },
   {
    "duration": 24,
    "start_time": "2021-11-03T13:57:56.023Z"
   },
   {
    "duration": 21,
    "start_time": "2021-11-03T13:57:56.054Z"
   },
   {
    "duration": 56,
    "start_time": "2021-11-03T13:57:56.079Z"
   },
   {
    "duration": 34,
    "start_time": "2021-11-03T13:57:56.138Z"
   },
   {
    "duration": 707,
    "start_time": "2021-11-03T13:57:56.175Z"
   },
   {
    "duration": 55,
    "start_time": "2021-11-03T13:57:56.885Z"
   },
   {
    "duration": 46,
    "start_time": "2021-11-03T13:57:56.943Z"
   },
   {
    "duration": 67,
    "start_time": "2021-11-03T13:57:56.992Z"
   },
   {
    "duration": 672,
    "start_time": "2021-11-03T13:57:57.062Z"
   },
   {
    "duration": 41,
    "start_time": "2021-11-03T13:57:57.737Z"
   },
   {
    "duration": 68,
    "start_time": "2021-11-03T13:57:57.781Z"
   },
   {
    "duration": 741,
    "start_time": "2021-11-03T13:57:57.852Z"
   },
   {
    "duration": 12,
    "start_time": "2021-11-03T13:57:58.595Z"
   },
   {
    "duration": 345,
    "start_time": "2021-11-03T13:57:58.610Z"
   },
   {
    "duration": 335,
    "start_time": "2021-11-03T13:57:58.957Z"
   },
   {
    "duration": 337,
    "start_time": "2021-11-03T13:57:59.294Z"
   },
   {
    "duration": 28,
    "start_time": "2021-11-03T13:57:59.633Z"
   },
   {
    "duration": 9,
    "start_time": "2021-11-03T13:57:59.663Z"
   },
   {
    "duration": 49,
    "start_time": "2021-11-03T13:57:59.674Z"
   },
   {
    "duration": 29,
    "start_time": "2021-11-03T13:58:29.650Z"
   },
   {
    "duration": 22,
    "start_time": "2021-11-03T13:59:18.624Z"
   },
   {
    "duration": 1095,
    "start_time": "2021-11-03T13:59:21.990Z"
   },
   {
    "duration": 4347,
    "start_time": "2021-11-03T13:59:36.557Z"
   },
   {
    "duration": 54,
    "start_time": "2021-11-03T13:59:40.908Z"
   },
   {
    "duration": 78,
    "start_time": "2021-11-03T13:59:40.965Z"
   },
   {
    "duration": 29,
    "start_time": "2021-11-03T13:59:41.047Z"
   },
   {
    "duration": 46,
    "start_time": "2021-11-03T13:59:41.080Z"
   },
   {
    "duration": 581,
    "start_time": "2021-11-03T13:59:41.129Z"
   },
   {
    "duration": 32,
    "start_time": "2021-11-03T13:59:41.713Z"
   },
   {
    "duration": 7,
    "start_time": "2021-11-03T13:59:41.749Z"
   },
   {
    "duration": 1027,
    "start_time": "2021-11-03T13:59:41.759Z"
   },
   {
    "duration": 833,
    "start_time": "2021-11-03T13:59:42.789Z"
   },
   {
    "duration": 13,
    "start_time": "2021-11-03T13:59:43.624Z"
   },
   {
    "duration": 41,
    "start_time": "2021-11-03T13:59:43.640Z"
   },
   {
    "duration": 1439,
    "start_time": "2021-11-03T13:59:43.683Z"
   },
   {
    "duration": 3127,
    "start_time": "2021-11-03T13:59:45.125Z"
   },
   {
    "duration": 40,
    "start_time": "2021-11-03T13:59:48.254Z"
   },
   {
    "duration": 56,
    "start_time": "2021-11-03T13:59:48.296Z"
   },
   {
    "duration": 948,
    "start_time": "2021-11-03T13:59:48.354Z"
   },
   {
    "duration": 711,
    "start_time": "2021-11-03T13:59:49.305Z"
   },
   {
    "duration": 67,
    "start_time": "2021-11-03T13:59:50.018Z"
   },
   {
    "duration": 51,
    "start_time": "2021-11-03T13:59:50.088Z"
   },
   {
    "duration": 24,
    "start_time": "2021-11-03T13:59:50.141Z"
   },
   {
    "duration": 7,
    "start_time": "2021-11-03T13:59:50.167Z"
   },
   {
    "duration": 2275,
    "start_time": "2021-11-03T13:59:50.182Z"
   },
   {
    "duration": 452,
    "start_time": "2021-11-03T13:59:52.460Z"
   },
   {
    "duration": 8521,
    "start_time": "2021-11-03T13:59:52.922Z"
   },
   {
    "duration": 21,
    "start_time": "2021-11-03T14:00:01.446Z"
   },
   {
    "duration": 52,
    "start_time": "2021-11-03T14:00:01.470Z"
   },
   {
    "duration": 18,
    "start_time": "2021-11-03T14:00:01.524Z"
   },
   {
    "duration": 52,
    "start_time": "2021-11-03T14:00:01.545Z"
   },
   {
    "duration": 709,
    "start_time": "2021-11-03T14:00:01.600Z"
   },
   {
    "duration": 48,
    "start_time": "2021-11-03T14:00:02.311Z"
   },
   {
    "duration": 73,
    "start_time": "2021-11-03T14:00:02.361Z"
   },
   {
    "duration": 39,
    "start_time": "2021-11-03T14:00:02.437Z"
   },
   {
    "duration": 767,
    "start_time": "2021-11-03T14:00:02.479Z"
   },
   {
    "duration": 41,
    "start_time": "2021-11-03T14:00:03.249Z"
   },
   {
    "duration": 60,
    "start_time": "2021-11-03T14:00:03.292Z"
   },
   {
    "duration": 770,
    "start_time": "2021-11-03T14:00:03.355Z"
   },
   {
    "duration": 15,
    "start_time": "2021-11-03T14:00:04.128Z"
   },
   {
    "duration": 350,
    "start_time": "2021-11-03T14:00:04.145Z"
   },
   {
    "duration": 346,
    "start_time": "2021-11-03T14:00:04.498Z"
   },
   {
    "duration": 361,
    "start_time": "2021-11-03T14:00:04.847Z"
   },
   {
    "duration": 32,
    "start_time": "2021-11-03T14:00:05.211Z"
   },
   {
    "duration": 10,
    "start_time": "2021-11-03T14:00:05.245Z"
   },
   {
    "duration": 10,
    "start_time": "2021-11-03T14:00:05.257Z"
   },
   {
    "duration": 16,
    "start_time": "2021-11-03T14:04:38.085Z"
   },
   {
    "duration": 15,
    "start_time": "2021-11-03T14:05:24.182Z"
   },
   {
    "duration": 17,
    "start_time": "2021-11-03T14:05:31.864Z"
   },
   {
    "duration": 3363,
    "start_time": "2021-11-03T14:43:04.855Z"
   },
   {
    "duration": 54,
    "start_time": "2021-11-03T14:43:08.221Z"
   },
   {
    "duration": 47,
    "start_time": "2021-11-03T14:43:08.278Z"
   },
   {
    "duration": 20,
    "start_time": "2021-11-03T14:43:08.328Z"
   },
   {
    "duration": 22,
    "start_time": "2021-11-03T14:43:08.351Z"
   },
   {
    "duration": 570,
    "start_time": "2021-11-03T14:43:08.376Z"
   },
   {
    "duration": 23,
    "start_time": "2021-11-03T14:43:08.948Z"
   },
   {
    "duration": 6,
    "start_time": "2021-11-03T14:43:08.973Z"
   },
   {
    "duration": 991,
    "start_time": "2021-11-03T14:43:08.983Z"
   },
   {
    "duration": 816,
    "start_time": "2021-11-03T14:43:09.978Z"
   },
   {
    "duration": 30,
    "start_time": "2021-11-03T14:43:10.797Z"
   },
   {
    "duration": 39,
    "start_time": "2021-11-03T14:43:10.829Z"
   },
   {
    "duration": 1345,
    "start_time": "2021-11-03T14:43:10.870Z"
   },
   {
    "duration": 2985,
    "start_time": "2021-11-03T14:43:12.222Z"
   },
   {
    "duration": 47,
    "start_time": "2021-11-03T14:43:15.210Z"
   },
   {
    "duration": 38,
    "start_time": "2021-11-03T14:43:15.259Z"
   },
   {
    "duration": 838,
    "start_time": "2021-11-03T14:43:15.299Z"
   },
   {
    "duration": 934,
    "start_time": "2021-11-03T14:43:16.140Z"
   },
   {
    "duration": 79,
    "start_time": "2021-11-03T14:43:17.077Z"
   },
   {
    "duration": 33,
    "start_time": "2021-11-03T14:43:17.158Z"
   },
   {
    "duration": 48,
    "start_time": "2021-11-03T14:43:17.193Z"
   },
   {
    "duration": 7,
    "start_time": "2021-11-03T14:43:17.244Z"
   },
   {
    "duration": 2256,
    "start_time": "2021-11-03T14:43:17.253Z"
   },
   {
    "duration": 427,
    "start_time": "2021-11-03T14:43:19.511Z"
   },
   {
    "duration": 8992,
    "start_time": "2021-11-03T14:43:19.941Z"
   },
   {
    "duration": 18,
    "start_time": "2021-11-03T14:43:28.935Z"
   },
   {
    "duration": 17,
    "start_time": "2021-11-03T14:43:28.959Z"
   },
   {
    "duration": 55,
    "start_time": "2021-11-03T14:43:28.980Z"
   },
   {
    "duration": 17,
    "start_time": "2021-11-03T14:43:29.038Z"
   },
   {
    "duration": 18,
    "start_time": "2021-11-03T14:43:29.058Z"
   },
   {
    "duration": 74,
    "start_time": "2021-11-03T14:43:29.078Z"
   },
   {
    "duration": 694,
    "start_time": "2021-11-03T14:43:29.154Z"
   },
   {
    "duration": 41,
    "start_time": "2021-11-03T14:43:29.851Z"
   },
   {
    "duration": 72,
    "start_time": "2021-11-03T14:43:29.895Z"
   },
   {
    "duration": 58,
    "start_time": "2021-11-03T14:43:29.970Z"
   },
   {
    "duration": 760,
    "start_time": "2021-11-03T14:43:30.031Z"
   },
   {
    "duration": 56,
    "start_time": "2021-11-03T14:43:30.793Z"
   },
   {
    "duration": 40,
    "start_time": "2021-11-03T14:43:30.852Z"
   },
   {
    "duration": 869,
    "start_time": "2021-11-03T14:43:30.895Z"
   },
   {
    "duration": 13,
    "start_time": "2021-11-03T14:43:31.767Z"
   },
   {
    "duration": 346,
    "start_time": "2021-11-03T14:43:31.782Z"
   },
   {
    "duration": 361,
    "start_time": "2021-11-03T14:43:32.131Z"
   },
   {
    "duration": 347,
    "start_time": "2021-11-03T14:43:32.494Z"
   },
   {
    "duration": 29,
    "start_time": "2021-11-03T14:43:32.844Z"
   },
   {
    "duration": 10,
    "start_time": "2021-11-03T14:43:32.875Z"
   },
   {
    "duration": 56,
    "start_time": "2021-11-03T14:43:32.887Z"
   },
   {
    "duration": 459,
    "start_time": "2021-11-03T14:49:49.942Z"
   },
   {
    "duration": 60,
    "start_time": "2021-11-03T14:49:55.190Z"
   },
   {
    "duration": 39,
    "start_time": "2021-11-03T14:52:09.756Z"
   },
   {
    "duration": 505,
    "start_time": "2021-11-03T14:52:22.244Z"
   },
   {
    "duration": 595,
    "start_time": "2021-11-03T14:56:21.972Z"
   },
   {
    "duration": 691,
    "start_time": "2021-11-03T14:57:58.167Z"
   },
   {
    "duration": 36,
    "start_time": "2021-11-03T14:58:15.078Z"
   },
   {
    "duration": 605,
    "start_time": "2021-11-03T14:58:18.077Z"
   },
   {
    "duration": 36,
    "start_time": "2021-11-03T14:58:38.308Z"
   },
   {
    "duration": 491,
    "start_time": "2021-11-03T14:58:42.275Z"
   },
   {
    "duration": 83,
    "start_time": "2021-11-03T15:00:04.689Z"
   },
   {
    "duration": 91,
    "start_time": "2021-11-03T15:02:49.867Z"
   },
   {
    "duration": 254,
    "start_time": "2021-11-03T15:12:48.608Z"
   },
   {
    "duration": 8785,
    "start_time": "2021-11-03T15:13:50.623Z"
   },
   {
    "duration": 8711,
    "start_time": "2021-11-03T15:14:24.934Z"
   },
   {
    "duration": 313,
    "start_time": "2021-11-03T15:17:07.162Z"
   },
   {
    "duration": 8296,
    "start_time": "2021-11-03T15:17:43.756Z"
   },
   {
    "duration": 8618,
    "start_time": "2021-11-03T15:18:38.462Z"
   },
   {
    "duration": 8997,
    "start_time": "2021-11-03T15:20:09.005Z"
   },
   {
    "duration": 8694,
    "start_time": "2021-11-03T15:20:45.803Z"
   },
   {
    "duration": 8784,
    "start_time": "2021-11-03T15:21:14.479Z"
   },
   {
    "duration": 9403,
    "start_time": "2021-11-03T15:21:37.704Z"
   },
   {
    "duration": 8953,
    "start_time": "2021-11-03T15:22:20.404Z"
   },
   {
    "duration": 470,
    "start_time": "2021-11-03T18:24:45.757Z"
   },
   {
    "duration": 6652,
    "start_time": "2021-11-03T18:25:01.087Z"
   },
   {
    "duration": 53,
    "start_time": "2021-11-03T18:25:07.743Z"
   },
   {
    "duration": 43,
    "start_time": "2021-11-03T18:25:07.799Z"
   },
   {
    "duration": 23,
    "start_time": "2021-11-03T18:25:07.859Z"
   },
   {
    "duration": 13,
    "start_time": "2021-11-03T18:25:07.884Z"
   },
   {
    "duration": 586,
    "start_time": "2021-11-03T18:25:07.900Z"
   },
   {
    "duration": 21,
    "start_time": "2021-11-03T18:25:08.489Z"
   },
   {
    "duration": 5,
    "start_time": "2021-11-03T18:25:08.512Z"
   },
   {
    "duration": 1008,
    "start_time": "2021-11-03T18:25:08.522Z"
   },
   {
    "duration": 858,
    "start_time": "2021-11-03T18:25:09.533Z"
   },
   {
    "duration": 12,
    "start_time": "2021-11-03T18:25:10.393Z"
   },
   {
    "duration": 65,
    "start_time": "2021-11-03T18:25:10.408Z"
   },
   {
    "duration": 1607,
    "start_time": "2021-11-03T18:25:10.476Z"
   },
   {
    "duration": 3220,
    "start_time": "2021-11-03T18:25:12.086Z"
   },
   {
    "duration": 85,
    "start_time": "2021-11-03T18:25:15.308Z"
   },
   {
    "duration": 37,
    "start_time": "2021-11-03T18:25:15.396Z"
   },
   {
    "duration": 923,
    "start_time": "2021-11-03T18:25:15.436Z"
   },
   {
    "duration": 752,
    "start_time": "2021-11-03T18:25:16.362Z"
   },
   {
    "duration": 90,
    "start_time": "2021-11-03T18:25:17.116Z"
   },
   {
    "duration": 114,
    "start_time": "2021-11-03T18:25:17.208Z"
   },
   {
    "duration": 50,
    "start_time": "2021-11-03T18:25:17.324Z"
   },
   {
    "duration": 7,
    "start_time": "2021-11-03T18:25:17.376Z"
   },
   {
    "duration": 2365,
    "start_time": "2021-11-03T18:25:17.385Z"
   },
   {
    "duration": 426,
    "start_time": "2021-11-03T18:25:19.767Z"
   },
   {
    "duration": 9955,
    "start_time": "2021-11-03T18:25:20.195Z"
   },
   {
    "duration": 203,
    "start_time": "2021-11-03T18:25:29.957Z"
   },
   {
    "duration": 196,
    "start_time": "2021-11-03T18:25:29.966Z"
   },
   {
    "duration": 198,
    "start_time": "2021-11-03T18:25:29.967Z"
   },
   {
    "duration": 199,
    "start_time": "2021-11-03T18:25:29.968Z"
   },
   {
    "duration": 199,
    "start_time": "2021-11-03T18:25:29.970Z"
   },
   {
    "duration": 200,
    "start_time": "2021-11-03T18:25:29.971Z"
   },
   {
    "duration": 201,
    "start_time": "2021-11-03T18:25:29.972Z"
   },
   {
    "duration": 200,
    "start_time": "2021-11-03T18:25:29.974Z"
   },
   {
    "duration": 198,
    "start_time": "2021-11-03T18:25:29.978Z"
   },
   {
    "duration": 198,
    "start_time": "2021-11-03T18:25:29.980Z"
   },
   {
    "duration": 198,
    "start_time": "2021-11-03T18:25:29.982Z"
   },
   {
    "duration": 199,
    "start_time": "2021-11-03T18:25:29.983Z"
   },
   {
    "duration": 199,
    "start_time": "2021-11-03T18:25:29.985Z"
   },
   {
    "duration": 176,
    "start_time": "2021-11-03T18:25:30.010Z"
   },
   {
    "duration": 175,
    "start_time": "2021-11-03T18:25:30.012Z"
   },
   {
    "duration": 175,
    "start_time": "2021-11-03T18:25:30.013Z"
   },
   {
    "duration": 175,
    "start_time": "2021-11-03T18:25:30.015Z"
   },
   {
    "duration": 174,
    "start_time": "2021-11-03T18:25:30.017Z"
   },
   {
    "duration": 173,
    "start_time": "2021-11-03T18:25:30.019Z"
   },
   {
    "duration": 174,
    "start_time": "2021-11-03T18:25:30.020Z"
   },
   {
    "duration": 171,
    "start_time": "2021-11-03T18:25:30.024Z"
   },
   {
    "duration": 9583,
    "start_time": "2021-11-03T18:26:37.399Z"
   },
   {
    "duration": 3887,
    "start_time": "2021-11-03T18:28:11.332Z"
   },
   {
    "duration": 53,
    "start_time": "2021-11-03T18:28:15.222Z"
   },
   {
    "duration": 45,
    "start_time": "2021-11-03T18:28:15.278Z"
   },
   {
    "duration": 44,
    "start_time": "2021-11-03T18:28:15.326Z"
   },
   {
    "duration": 30,
    "start_time": "2021-11-03T18:28:15.372Z"
   },
   {
    "duration": 619,
    "start_time": "2021-11-03T18:28:15.405Z"
   },
   {
    "duration": 22,
    "start_time": "2021-11-03T18:28:16.026Z"
   },
   {
    "duration": 8,
    "start_time": "2021-11-03T18:28:16.067Z"
   },
   {
    "duration": 1072,
    "start_time": "2021-11-03T18:28:16.078Z"
   },
   {
    "duration": 843,
    "start_time": "2021-11-03T18:28:17.161Z"
   },
   {
    "duration": 13,
    "start_time": "2021-11-03T18:28:18.007Z"
   },
   {
    "duration": 70,
    "start_time": "2021-11-03T18:28:18.022Z"
   },
   {
    "duration": 1421,
    "start_time": "2021-11-03T18:28:18.094Z"
   },
   {
    "duration": 3227,
    "start_time": "2021-11-03T18:28:19.517Z"
   },
   {
    "duration": 56,
    "start_time": "2021-11-03T18:28:22.746Z"
   },
   {
    "duration": 38,
    "start_time": "2021-11-03T18:28:22.804Z"
   },
   {
    "duration": 858,
    "start_time": "2021-11-03T18:28:22.861Z"
   },
   {
    "duration": 730,
    "start_time": "2021-11-03T18:28:23.722Z"
   },
   {
    "duration": 72,
    "start_time": "2021-11-03T18:28:24.454Z"
   },
   {
    "duration": 62,
    "start_time": "2021-11-03T18:28:24.529Z"
   },
   {
    "duration": 23,
    "start_time": "2021-11-03T18:28:24.593Z"
   },
   {
    "duration": 6,
    "start_time": "2021-11-03T18:28:24.618Z"
   },
   {
    "duration": 2664,
    "start_time": "2021-11-03T18:28:24.629Z"
   },
   {
    "duration": 437,
    "start_time": "2021-11-03T18:28:27.296Z"
   },
   {
    "duration": 8896,
    "start_time": "2021-11-03T18:28:27.736Z"
   },
   {
    "duration": 30,
    "start_time": "2021-11-03T18:28:36.635Z"
   },
   {
    "duration": 19,
    "start_time": "2021-11-03T18:28:36.668Z"
   },
   {
    "duration": 17,
    "start_time": "2021-11-03T18:28:36.689Z"
   },
   {
    "duration": 64,
    "start_time": "2021-11-03T18:28:36.709Z"
   },
   {
    "duration": 15,
    "start_time": "2021-11-03T18:28:36.776Z"
   },
   {
    "duration": 31,
    "start_time": "2021-11-03T18:28:36.794Z"
   },
   {
    "duration": 744,
    "start_time": "2021-11-03T18:28:36.828Z"
   },
   {
    "duration": 44,
    "start_time": "2021-11-03T18:28:37.575Z"
   },
   {
    "duration": 84,
    "start_time": "2021-11-03T18:28:37.621Z"
   },
   {
    "duration": 68,
    "start_time": "2021-11-03T18:28:37.707Z"
   },
   {
    "duration": 541,
    "start_time": "2021-11-03T18:28:37.778Z"
   },
   {
    "duration": 61,
    "start_time": "2021-11-03T18:28:38.322Z"
   },
   {
    "duration": 39,
    "start_time": "2021-11-03T18:28:38.385Z"
   },
   {
    "duration": 543,
    "start_time": "2021-11-03T18:28:38.427Z"
   },
   {
    "duration": 11,
    "start_time": "2021-11-03T18:28:38.974Z"
   },
   {
    "duration": 351,
    "start_time": "2021-11-03T18:28:38.987Z"
   },
   {
    "duration": 360,
    "start_time": "2021-11-03T18:28:39.341Z"
   },
   {
    "duration": 359,
    "start_time": "2021-11-03T18:28:39.703Z"
   },
   {
    "duration": 32,
    "start_time": "2021-11-03T18:28:40.066Z"
   },
   {
    "duration": 9,
    "start_time": "2021-11-03T18:28:40.100Z"
   },
   {
    "duration": 11,
    "start_time": "2021-11-03T18:28:40.111Z"
   },
   {
    "duration": 7,
    "start_time": "2021-11-03T18:32:26.801Z"
   },
   {
    "duration": 6,
    "start_time": "2021-11-03T18:32:41.017Z"
   },
   {
    "duration": 427,
    "start_time": "2021-11-03T18:33:35.703Z"
   },
   {
    "duration": 473,
    "start_time": "2021-11-03T18:33:53.621Z"
   },
   {
    "duration": 384,
    "start_time": "2021-11-03T18:33:58.988Z"
   },
   {
    "duration": 437,
    "start_time": "2021-11-04T04:43:36.969Z"
   },
   {
    "duration": 6696,
    "start_time": "2021-11-04T04:43:42.976Z"
   },
   {
    "duration": 51,
    "start_time": "2021-11-04T04:43:49.675Z"
   },
   {
    "duration": 47,
    "start_time": "2021-11-04T04:43:49.729Z"
   },
   {
    "duration": 30,
    "start_time": "2021-11-04T04:43:49.779Z"
   },
   {
    "duration": 22,
    "start_time": "2021-11-04T04:43:49.812Z"
   },
   {
    "duration": 578,
    "start_time": "2021-11-04T04:43:49.836Z"
   },
   {
    "duration": 24,
    "start_time": "2021-11-04T04:43:50.417Z"
   },
   {
    "duration": 8,
    "start_time": "2021-11-04T04:43:50.444Z"
   },
   {
    "duration": 1021,
    "start_time": "2021-11-04T04:43:50.456Z"
   },
   {
    "duration": 863,
    "start_time": "2021-11-04T04:43:51.480Z"
   },
   {
    "duration": 12,
    "start_time": "2021-11-04T04:43:52.346Z"
   },
   {
    "duration": 62,
    "start_time": "2021-11-04T04:43:52.360Z"
   },
   {
    "duration": 1339,
    "start_time": "2021-11-04T04:43:52.424Z"
   },
   {
    "duration": 3184,
    "start_time": "2021-11-04T04:43:53.765Z"
   },
   {
    "duration": 53,
    "start_time": "2021-11-04T04:43:56.952Z"
   },
   {
    "duration": 38,
    "start_time": "2021-11-04T04:43:57.008Z"
   },
   {
    "duration": 865,
    "start_time": "2021-11-04T04:43:57.049Z"
   },
   {
    "duration": 751,
    "start_time": "2021-11-04T04:43:57.916Z"
   },
   {
    "duration": 76,
    "start_time": "2021-11-04T04:43:58.670Z"
   },
   {
    "duration": 120,
    "start_time": "2021-11-04T04:43:58.749Z"
   },
   {
    "duration": 44,
    "start_time": "2021-11-04T04:43:58.871Z"
   },
   {
    "duration": 6,
    "start_time": "2021-11-04T04:43:58.918Z"
   },
   {
    "duration": 2521,
    "start_time": "2021-11-04T04:43:58.926Z"
   },
   {
    "duration": 442,
    "start_time": "2021-11-04T04:44:01.449Z"
   },
   {
    "duration": 8524,
    "start_time": "2021-11-04T04:44:01.901Z"
   },
   {
    "duration": 17,
    "start_time": "2021-11-04T04:44:10.428Z"
   },
   {
    "duration": 15,
    "start_time": "2021-11-04T04:44:10.450Z"
   },
   {
    "duration": 44,
    "start_time": "2021-11-04T04:44:10.468Z"
   },
   {
    "duration": 17,
    "start_time": "2021-11-04T04:44:10.514Z"
   },
   {
    "duration": 16,
    "start_time": "2021-11-04T04:44:10.533Z"
   },
   {
    "duration": 70,
    "start_time": "2021-11-04T04:44:10.551Z"
   },
   {
    "duration": 709,
    "start_time": "2021-11-04T04:44:10.623Z"
   },
   {
    "duration": 43,
    "start_time": "2021-11-04T04:44:11.335Z"
   },
   {
    "duration": 69,
    "start_time": "2021-11-04T04:44:11.381Z"
   },
   {
    "duration": 64,
    "start_time": "2021-11-04T04:44:11.453Z"
   },
   {
    "duration": 534,
    "start_time": "2021-11-04T04:44:11.520Z"
   },
   {
    "duration": 55,
    "start_time": "2021-11-04T04:44:12.057Z"
   },
   {
    "duration": 42,
    "start_time": "2021-11-04T04:44:12.115Z"
   },
   {
    "duration": 535,
    "start_time": "2021-11-04T04:44:12.159Z"
   },
   {
    "duration": 12,
    "start_time": "2021-11-04T04:44:12.697Z"
   },
   {
    "duration": 9,
    "start_time": "2021-11-04T04:44:12.712Z"
   },
   {
    "duration": 398,
    "start_time": "2021-11-04T04:44:12.723Z"
   },
   {
    "duration": 379,
    "start_time": "2021-11-04T04:44:13.124Z"
   },
   {
    "duration": 484,
    "start_time": "2021-11-04T04:44:13.505Z"
   },
   {
    "duration": 35,
    "start_time": "2021-11-04T04:44:13.992Z"
   },
   {
    "duration": 9,
    "start_time": "2021-11-04T04:44:14.030Z"
   },
   {
    "duration": 15,
    "start_time": "2021-11-04T04:44:14.041Z"
   },
   {
    "duration": 122,
    "start_time": "2021-11-04T04:46:01.148Z"
   },
   {
    "duration": 22,
    "start_time": "2021-11-04T05:01:56.535Z"
   },
   {
    "duration": 25,
    "start_time": "2021-11-04T05:02:11.168Z"
   },
   {
    "duration": 42,
    "start_time": "2021-11-04T05:06:39.523Z"
   },
   {
    "duration": 44,
    "start_time": "2021-11-04T05:06:44.982Z"
   },
   {
    "duration": 122,
    "start_time": "2021-11-04T05:08:27.678Z"
   },
   {
    "duration": 535,
    "start_time": "2021-11-04T05:09:56.904Z"
   },
   {
    "duration": 137,
    "start_time": "2021-11-04T05:10:15.934Z"
   },
   {
    "duration": 513,
    "start_time": "2021-11-04T05:10:26.680Z"
   },
   {
    "duration": 123,
    "start_time": "2021-11-04T05:10:31.023Z"
   },
   {
    "duration": 506,
    "start_time": "2021-11-04T05:10:51.420Z"
   },
   {
    "duration": 943,
    "start_time": "2021-11-04T05:11:21.404Z"
   },
   {
    "duration": 865,
    "start_time": "2021-11-04T05:11:38.675Z"
   },
   {
    "duration": 883,
    "start_time": "2021-11-04T05:11:46.624Z"
   },
   {
    "duration": 831,
    "start_time": "2021-11-04T05:11:58.192Z"
   },
   {
    "duration": 619,
    "start_time": "2021-11-04T05:12:12.270Z"
   },
   {
    "duration": 516,
    "start_time": "2021-11-04T05:12:22.559Z"
   },
   {
    "duration": 511,
    "start_time": "2021-11-04T05:12:43.678Z"
   },
   {
    "duration": 508,
    "start_time": "2021-11-04T05:12:57.039Z"
   },
   {
    "duration": 525,
    "start_time": "2021-11-04T05:13:06.419Z"
   },
   {
    "duration": 512,
    "start_time": "2021-11-04T05:13:35.154Z"
   },
   {
    "duration": 644,
    "start_time": "2021-11-04T05:14:30.148Z"
   },
   {
    "duration": 516,
    "start_time": "2021-11-04T05:14:50.516Z"
   },
   {
    "duration": 647,
    "start_time": "2021-11-04T05:15:00.697Z"
   },
   {
    "duration": 505,
    "start_time": "2021-11-04T05:15:06.041Z"
   },
   {
    "duration": 507,
    "start_time": "2021-11-04T05:15:15.828Z"
   },
   {
    "duration": 622,
    "start_time": "2021-11-04T05:15:28.683Z"
   },
   {
    "duration": 507,
    "start_time": "2021-11-04T05:15:40.909Z"
   },
   {
    "duration": 508,
    "start_time": "2021-11-04T05:15:54.195Z"
   },
   {
    "duration": 508,
    "start_time": "2021-11-04T05:16:03.650Z"
   },
   {
    "duration": 502,
    "start_time": "2021-11-04T05:16:11.090Z"
   },
   {
    "duration": 137,
    "start_time": "2021-11-04T05:16:19.161Z"
   },
   {
    "duration": 507,
    "start_time": "2021-11-04T05:16:24.063Z"
   },
   {
    "duration": 122,
    "start_time": "2021-11-04T05:16:33.063Z"
   },
   {
    "duration": 627,
    "start_time": "2021-11-04T05:16:37.216Z"
   },
   {
    "duration": 165,
    "start_time": "2021-11-04T05:16:50.777Z"
   },
   {
    "duration": 123,
    "start_time": "2021-11-04T05:16:53.462Z"
   },
   {
    "duration": 511,
    "start_time": "2021-11-04T05:16:56.899Z"
   },
   {
    "duration": 501,
    "start_time": "2021-11-04T05:17:39.965Z"
   },
   {
    "duration": 41,
    "start_time": "2021-11-04T05:42:56.671Z"
   },
   {
    "duration": 120,
    "start_time": "2021-11-04T05:57:36.688Z"
   },
   {
    "duration": 124,
    "start_time": "2021-11-04T05:57:38.146Z"
   },
   {
    "duration": 7,
    "start_time": "2021-11-04T06:12:39.116Z"
   },
   {
    "duration": 7,
    "start_time": "2021-11-04T06:12:41.989Z"
   },
   {
    "duration": 415,
    "start_time": "2021-11-04T06:15:31.549Z"
   },
   {
    "duration": 5,
    "start_time": "2021-11-04T06:15:46.858Z"
   },
   {
    "duration": 4,
    "start_time": "2021-11-04T06:15:55.100Z"
   },
   {
    "duration": 376,
    "start_time": "2021-11-04T06:16:10.988Z"
   },
   {
    "duration": 377,
    "start_time": "2021-11-04T06:16:49.462Z"
   },
   {
    "duration": 380,
    "start_time": "2021-11-04T06:17:05.618Z"
   },
   {
    "duration": 29,
    "start_time": "2021-11-04T06:18:03.836Z"
   },
   {
    "duration": 382,
    "start_time": "2021-11-04T06:18:51.821Z"
   },
   {
    "duration": 22,
    "start_time": "2021-11-04T06:19:01.281Z"
   },
   {
    "duration": 133,
    "start_time": "2021-11-04T06:19:57.158Z"
   },
   {
    "duration": 128,
    "start_time": "2021-11-04T06:20:05.633Z"
   },
   {
    "duration": 136,
    "start_time": "2021-11-04T06:20:15.611Z"
   },
   {
    "duration": 181,
    "start_time": "2021-11-04T06:29:46.881Z"
   },
   {
    "duration": 139,
    "start_time": "2021-11-04T06:29:56.825Z"
   },
   {
    "duration": 157,
    "start_time": "2021-11-04T06:30:07.069Z"
   },
   {
    "duration": 127,
    "start_time": "2021-11-04T06:30:12.515Z"
   },
   {
    "duration": 23,
    "start_time": "2021-11-04T06:30:21.836Z"
   },
   {
    "duration": 717,
    "start_time": "2021-11-04T06:30:30.664Z"
   },
   {
    "duration": 26,
    "start_time": "2021-11-04T06:30:50.579Z"
   },
   {
    "duration": 592,
    "start_time": "2021-11-04T06:31:08.511Z"
   },
   {
    "duration": 219,
    "start_time": "2021-11-04T06:33:59.270Z"
   },
   {
    "duration": 455,
    "start_time": "2021-11-04T06:34:07.562Z"
   },
   {
    "duration": 460,
    "start_time": "2021-11-04T06:34:22.441Z"
   },
   {
    "duration": 444,
    "start_time": "2021-11-04T06:34:49.341Z"
   },
   {
    "duration": 546,
    "start_time": "2021-11-04T06:35:14.404Z"
   },
   {
    "duration": 419,
    "start_time": "2021-11-04T06:40:40.623Z"
   },
   {
    "duration": 28,
    "start_time": "2021-11-04T06:40:48.156Z"
   },
   {
    "duration": 375,
    "start_time": "2021-11-04T06:40:58.661Z"
   },
   {
    "duration": 425,
    "start_time": "2021-11-04T06:48:13.320Z"
   },
   {
    "duration": 7,
    "start_time": "2021-11-04T06:50:14.561Z"
   },
   {
    "duration": 395,
    "start_time": "2021-11-04T06:50:30.801Z"
   },
   {
    "duration": 12,
    "start_time": "2021-11-04T06:51:00.427Z"
   },
   {
    "duration": 388,
    "start_time": "2021-11-04T06:51:45.634Z"
   },
   {
    "duration": 13,
    "start_time": "2021-11-04T06:52:31.375Z"
   },
   {
    "duration": 375,
    "start_time": "2021-11-04T06:52:49.383Z"
   },
   {
    "duration": 385,
    "start_time": "2021-11-04T06:53:19.400Z"
   },
   {
    "duration": 374,
    "start_time": "2021-11-04T06:54:59.792Z"
   },
   {
    "duration": 12,
    "start_time": "2021-11-04T06:55:11.156Z"
   },
   {
    "duration": 5,
    "start_time": "2021-11-04T06:55:34.588Z"
   },
   {
    "duration": 11,
    "start_time": "2021-11-04T06:55:35.339Z"
   },
   {
    "duration": 6,
    "start_time": "2021-11-04T06:55:58.171Z"
   },
   {
    "duration": 8,
    "start_time": "2021-11-04T06:58:41.099Z"
   },
   {
    "duration": 13,
    "start_time": "2021-11-04T06:59:00.744Z"
   },
   {
    "duration": 19,
    "start_time": "2021-11-04T07:03:48.375Z"
   },
   {
    "duration": 26,
    "start_time": "2021-11-04T07:03:57.310Z"
   },
   {
    "duration": 21,
    "start_time": "2021-11-04T07:04:55.165Z"
   },
   {
    "duration": 381,
    "start_time": "2021-11-04T07:05:55.928Z"
   },
   {
    "duration": 23,
    "start_time": "2021-11-04T07:06:23.732Z"
   },
   {
    "duration": 26,
    "start_time": "2021-11-04T07:07:50.011Z"
   }
  ],
  "kernelspec": {
   "display_name": "Python 3",
   "language": "python",
   "name": "python3"
  },
  "language_info": {
   "codemirror_mode": {
    "name": "ipython",
    "version": 3
   },
   "file_extension": ".py",
   "mimetype": "text/x-python",
   "name": "python",
   "nbconvert_exporter": "python",
   "pygments_lexer": "ipython3",
   "version": "3.8.5"
  },
  "toc": {
   "base_numbering": 1,
   "nav_menu": {},
   "number_sections": true,
   "sideBar": true,
   "skip_h1_title": true,
   "title_cell": "Table of Contents",
   "title_sidebar": "Contents",
   "toc_cell": false,
   "toc_position": {},
   "toc_section_display": true,
   "toc_window_display": false
  }
 },
 "nbformat": 4,
 "nbformat_minor": 2
}
